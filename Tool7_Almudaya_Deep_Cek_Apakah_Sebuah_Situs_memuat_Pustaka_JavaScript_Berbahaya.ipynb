{
  "nbformat": 4,
  "nbformat_minor": 0,
  "metadata": {
    "colab": {
      "provenance": [],
      "authorship_tag": "ABX9TyMP8HUlmhH/edjEqHK2eAKg",
      "include_colab_link": true
    },
    "kernelspec": {
      "name": "python3",
      "display_name": "Python 3"
    },
    "language_info": {
      "name": "python"
    }
  },
  "cells": [
    {
      "cell_type": "markdown",
      "metadata": {
        "id": "view-in-github",
        "colab_type": "text"
      },
      "source": [
        "<a href=\"https://colab.research.google.com/github/elangbijak4/Security_Research/blob/main/Tool7_Almudaya_Deep_Cek_Apakah_Sebuah_Situs_memuat_Pustaka_JavaScript_Berbahaya.ipynb\" target=\"_parent\"><img src=\"https://colab.research.google.com/assets/colab-badge.svg\" alt=\"Open In Colab\"/></a>"
      ]
    },
    {
      "cell_type": "code",
      "source": [
        "import requests\n",
        "import re\n",
        "\n",
        "def download_and_analyze_javascript(url):\n",
        "    try:\n",
        "        # Mengambil halaman HTML dari URL\n",
        "        response = requests.get(url)\n",
        "        if response.status_code == 200:\n",
        "            # Mencari semua skrip JavaScript di dalam halaman\n",
        "            script_tags = re.findall(r'<script[^>]*src=[\\'|\"]([^\\'|\"]*)[\\'|\"][^>]*>', response.text)\n",
        "            for script_url in script_tags:\n",
        "                print(f\"Memeriksa skrip JavaScript: {script_url}\")\n",
        "                download_and_analyze_script(script_url)\n",
        "\n",
        "        else:\n",
        "            print(f\"Gagal mengambil halaman {url}. Status code: {response.status_code}\")\n",
        "\n",
        "    except Exception as e:\n",
        "        print(f\"Terjadi kesalahan: {str(e)}\")\n",
        "\n",
        "def download_and_analyze_script(script_url):\n",
        "    try:\n",
        "        # Mengunduh skrip JavaScript\n",
        "        script_response = requests.get(script_url)\n",
        "        if script_response.status_code == 200:\n",
        "            # Memeriksa setiap baris kode untuk potensi bahaya (contoh sederhana)\n",
        "            dangerous_patterns = ['eval(', 'document.write(', 'setTimeout(']\n",
        "            lines = script_response.text.splitlines()\n",
        "            for idx, line in enumerate(lines):\n",
        "                for pattern in dangerous_patterns:\n",
        "                    if pattern in line:\n",
        "                        print(f\"Potensi bahaya ditemukan di {script_url} - Baris {idx + 1}: {line.strip()}\")\n",
        "\n",
        "        else:\n",
        "            print(f\"Gagal mengunduh skrip {script_url}. Status code: {script_response.status_code}\")\n",
        "\n",
        "    except Exception as e:\n",
        "        print(f\"Terjadi kesalahan saat mengunduh dan menganalisis skrip: {str(e)}\")\n",
        "\n",
        "# Contoh penggunaan: menguji situs example.com\n",
        "url_to_check = 'https://example.com'\n",
        "download_and_analyze_javascript(url_to_check)"
      ],
      "metadata": {
        "id": "8LIUWw_XrNt2"
      },
      "execution_count": 3,
      "outputs": []
    }
  ]
}