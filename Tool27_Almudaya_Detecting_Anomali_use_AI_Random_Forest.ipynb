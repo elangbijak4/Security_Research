{
  "nbformat": 4,
  "nbformat_minor": 0,
  "metadata": {
    "colab": {
      "provenance": [],
      "authorship_tag": "ABX9TyM6p750MC0QDVPaFlUKWDyr",
      "include_colab_link": true
    },
    "kernelspec": {
      "name": "python3",
      "display_name": "Python 3"
    },
    "language_info": {
      "name": "python"
    }
  },
  "cells": [
    {
      "cell_type": "markdown",
      "metadata": {
        "id": "view-in-github",
        "colab_type": "text"
      },
      "source": [
        "<a href=\"https://colab.research.google.com/github/elangbijak4/Security_Research/blob/main/Tool27_Almudaya_Detecting_Anomali_use_AI_Random_Forest.ipynb\" target=\"_parent\"><img src=\"https://colab.research.google.com/assets/colab-badge.svg\" alt=\"Open In Colab\"/></a>"
      ]
    },
    {
      "cell_type": "code",
      "source": [
        "!pip install scapy"
      ],
      "metadata": {
        "colab": {
          "base_uri": "https://localhost:8080/"
        },
        "id": "8c8oJOcdru0l",
        "outputId": "400886b0-d22c-4d1b-f8e6-f9f799df69f4"
      },
      "execution_count": 1,
      "outputs": [
        {
          "output_type": "stream",
          "name": "stdout",
          "text": [
            "Requirement already satisfied: scapy in /usr/local/lib/python3.10/dist-packages (2.5.0)\n"
          ]
        }
      ]
    },
    {
      "cell_type": "markdown",
      "source": [
        "Pengujian Tool ini hanya dibenarkan jika menggunakan alamat legal yang disediakan oleh IANA (Internet Assigned Numbers Authority)"
      ],
      "metadata": {
        "id": "-J8qiAtAEFZv"
      }
    },
    {
      "cell_type": "code",
      "source": [
        "!pip install libpcap"
      ],
      "metadata": {
        "colab": {
          "base_uri": "https://localhost:8080/"
        },
        "id": "9sxUIaFUHQt3",
        "outputId": "ce0546e4-2b71-47cb-ded2-8b8de34c0c30"
      },
      "execution_count": 2,
      "outputs": [
        {
          "output_type": "stream",
          "name": "stdout",
          "text": [
            "Requirement already satisfied: libpcap in /usr/local/lib/python3.10/dist-packages (1.11.0b8)\n",
            "Requirement already satisfied: setuptools>=68.2.2 in /usr/local/lib/python3.10/dist-packages (from libpcap) (70.2.0)\n",
            "Requirement already satisfied: pkg-about>=1.1.5 in /usr/local/lib/python3.10/dist-packages (from libpcap) (1.1.6)\n",
            "Requirement already satisfied: packaging>=24.1.0 in /usr/local/lib/python3.10/dist-packages (from pkg-about>=1.1.5->libpcap) (24.1)\n",
            "Requirement already satisfied: tomli>=2.0.1 in /usr/local/lib/python3.10/dist-packages (from pkg-about>=1.1.5->libpcap) (2.0.1)\n"
          ]
        }
      ]
    },
    {
      "source": [
        "!apt-get update\n",
        "!apt-get install -y libpcap-dev"
      ],
      "cell_type": "code",
      "metadata": {
        "id": "YX59OsvpH_x5"
      },
      "execution_count": null,
      "outputs": []
    },
    {
      "cell_type": "code",
      "source": [
        "from scapy.all import *\n",
        "from sklearn.ensemble import RandomForestClassifier\n",
        "from sklearn.preprocessing import StandardScaler\n",
        "import numpy as np\n",
        "\n",
        "def extract_features(packet):\n",
        "    if IP in packet and TCP in packet:\n",
        "        return np.array([len(packet), packet[TCP].sport, packet[TCP].dport])\n",
        "    return np.array([0, 0, 0])  # Default jika bukan paket TCP/IP\n",
        "\n",
        "def get_label(packet):\n",
        "    # Implementasi sederhana untuk contoh\n",
        "    return \"normal\"  # Atau \"attack\" berdasarkan kriteria tertentu\n",
        "\n",
        "def packet_classifier(packet):\n",
        "    # Contoh data pelatihan sederhana (gantilah dengan data sebenarnya)\n",
        "    training_packets = [IP()/TCP(), IP()/TCP(sport=80), IP()/TCP(dport=443)]\n",
        "    training_data = [extract_features(p) for p in training_packets]\n",
        "    X_train = np.array(training_data)\n",
        "    y_train = np.array([get_label(p) for p in training_packets])\n",
        "\n",
        "    # Normalisasi data\n",
        "    scaler = StandardScaler()\n",
        "    X_train_scaled = scaler.fit_transform(X_train)\n",
        "\n",
        "    # Melatih model ML\n",
        "    model = RandomForestClassifier()\n",
        "    model.fit(X_train_scaled, y_train)\n",
        "\n",
        "    # Prediksi kelas paket yang diterima\n",
        "    packet_features = extract_features(packet)\n",
        "    packet_features_scaled = scaler.transform(packet_features.reshape(1, -1))\n",
        "    prediction = model.predict(packet_features_scaled)\n",
        "\n",
        "    # Contoh respons otomatis berdasarkan prediksi\n",
        "    if prediction[0] == \"attack\":\n",
        "        print(\"Detected attack, taking action...\")\n",
        "    else:\n",
        "        print(\"Normal packet detected\")\n",
        "\n",
        "print(\"[*] Starting packet sniffing with ML classification... Press Ctrl+C to stop.\")\n",
        "sniff(filter=\"tcp\", prn=packet_classifier, store=0)"
      ],
      "metadata": {
        "colab": {
          "base_uri": "https://localhost:8080/"
        },
        "id": "2m9c9PILMblx",
        "outputId": "ca2e3b79-5eb9-417d-9766-263c8017ea9e"
      },
      "execution_count": 12,
      "outputs": [
        {
          "output_type": "stream",
          "name": "stdout",
          "text": [
            "[*] Starting packet sniffing with ML classification... Press Ctrl+C to stop.\n",
            "Normal packet detected\n",
            "Normal packet detected\n",
            "Normal packet detected\n",
            "Normal packet detected\n",
            "Normal packet detected\n",
            "Normal packet detected\n",
            "Normal packet detected\n",
            "Normal packet detected\n",
            "Normal packet detected\n",
            "Normal packet detected\n",
            "Normal packet detected\n",
            "Normal packet detected\n",
            "Normal packet detected\n",
            "Normal packet detected\n",
            "Normal packet detected\n",
            "Normal packet detected\n",
            "Normal packet detected\n",
            "Normal packet detected\n",
            "Normal packet detected\n",
            "Normal packet detected\n",
            "Normal packet detected\n",
            "Normal packet detected\n",
            "Normal packet detected\n",
            "Normal packet detected\n",
            "Normal packet detected\n",
            "Normal packet detected\n",
            "Normal packet detected\n",
            "Normal packet detected\n",
            "Normal packet detected\n",
            "Normal packet detected\n",
            "Normal packet detected\n",
            "Normal packet detected\n",
            "Normal packet detected\n",
            "Normal packet detected\n",
            "Normal packet detected\n",
            "Normal packet detected\n",
            "Normal packet detected\n",
            "Normal packet detected\n",
            "Normal packet detected\n",
            "Normal packet detected\n",
            "Normal packet detected\n",
            "Normal packet detected\n",
            "Normal packet detected\n",
            "Normal packet detected\n",
            "Normal packet detected\n",
            "Normal packet detected\n",
            "Normal packet detected\n",
            "Normal packet detected\n",
            "Normal packet detected\n",
            "Normal packet detected\n",
            "Normal packet detected\n",
            "Normal packet detected\n",
            "Normal packet detected\n",
            "Normal packet detected\n",
            "Normal packet detected\n",
            "Normal packet detected\n",
            "Normal packet detected\n",
            "Normal packet detected\n",
            "Normal packet detected\n",
            "Normal packet detected\n",
            "Normal packet detected\n",
            "Normal packet detected\n",
            "Normal packet detected\n",
            "Normal packet detected\n",
            "Normal packet detected\n",
            "Normal packet detected\n",
            "Normal packet detected\n",
            "Normal packet detected\n",
            "Normal packet detected\n",
            "Normal packet detected\n",
            "Normal packet detected\n",
            "Normal packet detected\n",
            "Normal packet detected\n",
            "Normal packet detected\n",
            "Normal packet detected\n",
            "Normal packet detected\n",
            "Normal packet detected\n",
            "Normal packet detected\n",
            "Normal packet detected\n",
            "Normal packet detected\n",
            "Normal packet detected\n",
            "Normal packet detected\n",
            "Normal packet detected\n",
            "Normal packet detected\n",
            "Normal packet detected\n",
            "Normal packet detected\n",
            "Normal packet detected\n",
            "Normal packet detected\n",
            "Normal packet detected\n",
            "Normal packet detected\n",
            "Normal packet detected\n",
            "Normal packet detected\n",
            "Normal packet detected\n",
            "Normal packet detected\n",
            "Normal packet detected\n",
            "Normal packet detected\n",
            "Normal packet detected\n",
            "Normal packet detected\n",
            "Normal packet detected\n",
            "Normal packet detected\n",
            "Normal packet detected\n",
            "Normal packet detected\n",
            "Normal packet detected\n",
            "Normal packet detected\n",
            "Normal packet detected\n",
            "Normal packet detected\n",
            "Normal packet detected\n",
            "Normal packet detected\n",
            "Normal packet detected\n",
            "Normal packet detected\n",
            "Normal packet detected\n",
            "Normal packet detected\n",
            "Normal packet detected\n",
            "Normal packet detected\n",
            "Normal packet detected\n",
            "Normal packet detected\n"
          ]
        },
        {
          "output_type": "execute_result",
          "data": {
            "text/plain": [
              "<Sniffed: TCP:0 UDP:0 ICMP:0 Other:0>"
            ]
          },
          "metadata": {},
          "execution_count": 12
        }
      ]
    }
  ]
}