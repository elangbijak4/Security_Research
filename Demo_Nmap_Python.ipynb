{
  "nbformat": 4,
  "nbformat_minor": 0,
  "metadata": {
    "colab": {
      "provenance": [],
      "authorship_tag": "ABX9TyP2NFC5+FQwC7ktWQB+vKZH",
      "include_colab_link": true
    },
    "kernelspec": {
      "name": "python3",
      "display_name": "Python 3"
    },
    "language_info": {
      "name": "python"
    }
  },
  "cells": [
    {
      "cell_type": "markdown",
      "metadata": {
        "id": "view-in-github",
        "colab_type": "text"
      },
      "source": [
        "<a href=\"https://colab.research.google.com/github/elangbijak4/Security_Research/blob/main/Demo_Nmap_Python.ipynb\" target=\"_parent\"><img src=\"https://colab.research.google.com/assets/colab-badge.svg\" alt=\"Open In Colab\"/></a>"
      ]
    },
    {
      "cell_type": "code",
      "source": [
        "!sudo apt-get update\n",
        "!sudo apt-get install -y nmap"
      ],
      "metadata": {
        "colab": {
          "base_uri": "https://localhost:8080/"
        },
        "collapsed": true,
        "id": "l24XNn1Hxqa8",
        "outputId": "1370ae2d-f581-4e1e-a42b-a6c69f9fa4e6"
      },
      "execution_count": 7,
      "outputs": [
        {
          "output_type": "stream",
          "name": "stdout",
          "text": [
            "\r0% [Working]\r            \rHit:1 https://developer.download.nvidia.com/compute/cuda/repos/ubuntu2204/x86_64  InRelease\n",
            "\r0% [Connecting to archive.ubuntu.com (185.125.190.82)] [Waiting for headers] [W\r                                                                               \rHit:2 https://cloud.r-project.org/bin/linux/ubuntu jammy-cran40/ InRelease\n",
            "Hit:3 http://security.ubuntu.com/ubuntu jammy-security InRelease\n",
            "Hit:4 http://archive.ubuntu.com/ubuntu jammy InRelease\n",
            "Hit:5 http://archive.ubuntu.com/ubuntu jammy-updates InRelease\n",
            "Hit:6 https://ppa.launchpadcontent.net/c2d4u.team/c2d4u4.0+/ubuntu jammy InRelease\n",
            "Hit:7 http://archive.ubuntu.com/ubuntu jammy-backports InRelease\n",
            "Hit:8 https://ppa.launchpadcontent.net/deadsnakes/ppa/ubuntu jammy InRelease\n",
            "Hit:9 https://ppa.launchpadcontent.net/graphics-drivers/ppa/ubuntu jammy InRelease\n",
            "Hit:10 https://ppa.launchpadcontent.net/ubuntugis/ppa/ubuntu jammy InRelease\n",
            "Reading package lists... Done\n",
            "Reading package lists... Done\n",
            "Building dependency tree... Done\n",
            "Reading state information... Done\n",
            "The following additional packages will be installed:\n",
            "  liblinear4 liblua5.3-0 libpcap0.8 lua-lpeg nmap-common\n",
            "Suggested packages:\n",
            "  liblinear-tools liblinear-dev ncat ndiff zenmap\n",
            "The following NEW packages will be installed:\n",
            "  liblinear4 liblua5.3-0 libpcap0.8 lua-lpeg nmap nmap-common\n",
            "0 upgraded, 6 newly installed, 0 to remove and 46 not upgraded.\n",
            "Need to get 6,029 kB of archives.\n",
            "After this operation, 26.5 MB of additional disk space will be used.\n",
            "Get:1 http://archive.ubuntu.com/ubuntu jammy/main amd64 libpcap0.8 amd64 1.10.1-4build1 [145 kB]\n",
            "Get:2 http://archive.ubuntu.com/ubuntu jammy/universe amd64 liblinear4 amd64 2.3.0+dfsg-5 [41.4 kB]\n",
            "Get:3 http://archive.ubuntu.com/ubuntu jammy/main amd64 liblua5.3-0 amd64 5.3.6-1build1 [140 kB]\n",
            "Get:4 http://archive.ubuntu.com/ubuntu jammy/universe amd64 lua-lpeg amd64 1.0.2-1 [31.4 kB]\n",
            "Get:5 http://archive.ubuntu.com/ubuntu jammy-updates/universe amd64 nmap-common all 7.91+dfsg1+really7.80+dfsg1-2ubuntu0.1 [3,940 kB]\n",
            "Get:6 http://archive.ubuntu.com/ubuntu jammy-updates/universe amd64 nmap amd64 7.91+dfsg1+really7.80+dfsg1-2ubuntu0.1 [1,731 kB]\n",
            "Fetched 6,029 kB in 1s (5,193 kB/s)\n",
            "debconf: unable to initialize frontend: Dialog\n",
            "debconf: (No usable dialog-like program is installed, so the dialog based frontend cannot be used. at /usr/share/perl5/Debconf/FrontEnd/Dialog.pm line 78, <> line 6.)\n",
            "debconf: falling back to frontend: Readline\n",
            "debconf: unable to initialize frontend: Readline\n",
            "debconf: (This frontend requires a controlling tty.)\n",
            "debconf: falling back to frontend: Teletype\n",
            "dpkg-preconfigure: unable to re-open stdin: \n",
            "Selecting previously unselected package libpcap0.8:amd64.\n",
            "(Reading database ... 121962 files and directories currently installed.)\n",
            "Preparing to unpack .../0-libpcap0.8_1.10.1-4build1_amd64.deb ...\n",
            "Unpacking libpcap0.8:amd64 (1.10.1-4build1) ...\n",
            "Selecting previously unselected package liblinear4:amd64.\n",
            "Preparing to unpack .../1-liblinear4_2.3.0+dfsg-5_amd64.deb ...\n",
            "Unpacking liblinear4:amd64 (2.3.0+dfsg-5) ...\n",
            "Selecting previously unselected package liblua5.3-0:amd64.\n",
            "Preparing to unpack .../2-liblua5.3-0_5.3.6-1build1_amd64.deb ...\n",
            "Unpacking liblua5.3-0:amd64 (5.3.6-1build1) ...\n",
            "Selecting previously unselected package lua-lpeg:amd64.\n",
            "Preparing to unpack .../3-lua-lpeg_1.0.2-1_amd64.deb ...\n",
            "Unpacking lua-lpeg:amd64 (1.0.2-1) ...\n",
            "Selecting previously unselected package nmap-common.\n",
            "Preparing to unpack .../4-nmap-common_7.91+dfsg1+really7.80+dfsg1-2ubuntu0.1_all.deb ...\n",
            "Unpacking nmap-common (7.91+dfsg1+really7.80+dfsg1-2ubuntu0.1) ...\n",
            "Selecting previously unselected package nmap.\n",
            "Preparing to unpack .../5-nmap_7.91+dfsg1+really7.80+dfsg1-2ubuntu0.1_amd64.deb ...\n",
            "Unpacking nmap (7.91+dfsg1+really7.80+dfsg1-2ubuntu0.1) ...\n",
            "Setting up lua-lpeg:amd64 (1.0.2-1) ...\n",
            "Setting up liblinear4:amd64 (2.3.0+dfsg-5) ...\n",
            "Setting up libpcap0.8:amd64 (1.10.1-4build1) ...\n",
            "Setting up nmap-common (7.91+dfsg1+really7.80+dfsg1-2ubuntu0.1) ...\n",
            "Setting up liblua5.3-0:amd64 (5.3.6-1build1) ...\n",
            "Setting up nmap (7.91+dfsg1+really7.80+dfsg1-2ubuntu0.1) ...\n",
            "Processing triggers for man-db (2.10.2-1) ...\n",
            "Processing triggers for libc-bin (2.35-0ubuntu3.4) ...\n",
            "/sbin/ldconfig.real: /usr/local/lib/libtbbbind.so.3 is not a symbolic link\n",
            "\n",
            "/sbin/ldconfig.real: /usr/local/lib/libtbbmalloc_proxy.so.2 is not a symbolic link\n",
            "\n",
            "/sbin/ldconfig.real: /usr/local/lib/libtbbmalloc.so.2 is not a symbolic link\n",
            "\n",
            "/sbin/ldconfig.real: /usr/local/lib/libtbbbind_2_5.so.3 is not a symbolic link\n",
            "\n",
            "/sbin/ldconfig.real: /usr/local/lib/libtbb.so.12 is not a symbolic link\n",
            "\n",
            "/sbin/ldconfig.real: /usr/local/lib/libtbbbind_2_0.so.3 is not a symbolic link\n",
            "\n"
          ]
        }
      ]
    },
    {
      "cell_type": "code",
      "source": [
        "!pip install python-nmap"
      ],
      "metadata": {
        "colab": {
          "base_uri": "https://localhost:8080/"
        },
        "id": "izQ0qtCyxJdl",
        "outputId": "f2b76c18-6e26-49bf-fc0a-78ed0ecf5d9f"
      },
      "execution_count": 8,
      "outputs": [
        {
          "output_type": "stream",
          "name": "stdout",
          "text": [
            "Requirement already satisfied: python-nmap in /usr/local/lib/python3.10/dist-packages (0.7.1)\n"
          ]
        }
      ]
    },
    {
      "cell_type": "code",
      "source": [
        "import nmap"
      ],
      "metadata": {
        "id": "AjppE9yTxH_S"
      },
      "execution_count": 9,
      "outputs": []
    },
    {
      "cell_type": "code",
      "source": [
        "# Membuat instance Nmap\n",
        "nm = nmap.PortScanner()\n",
        "\n",
        "# Melakukan pemindaian terhadap target\n",
        "target = 'scanme.nmap.org'\n",
        "nm.scan(target, '0-1443')  # Pemindaian port 22 hingga 443\n",
        "\n",
        "# Memeriksa apakah target ditemukan dalam hasil pemindaian\n",
        "if target in nm.all_hosts():\n",
        "    print(f\"Host: {target}\")\n",
        "    print(f\"State: {nm[target].state()}\")\n",
        "\n",
        "    for proto in nm[target].all_protocols():\n",
        "        print(f\"Protocol: {proto}\")\n",
        "\n",
        "        lport = nm[target][proto].keys()\n",
        "        for port in sorted(lport):\n",
        "            print(f\"Port: {port}\\tState: {nm[target][proto][port]['state']}\")\n",
        "else:\n",
        "    print(f\"Host: {target} tidak ditemukan dalam hasil pemindaian\")"
      ],
      "metadata": {
        "colab": {
          "base_uri": "https://localhost:8080/"
        },
        "id": "1sqVwbHfxEZl",
        "outputId": "5fbe9230-9a90-4ab0-ab08-b6c1dd0f2281"
      },
      "execution_count": 15,
      "outputs": [
        {
          "output_type": "stream",
          "name": "stdout",
          "text": [
            "Host: scanme.nmap.org tidak ditemukan dalam hasil pemindaian\n"
          ]
        }
      ]
    }
  ]
}