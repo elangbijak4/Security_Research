{
  "nbformat": 4,
  "nbformat_minor": 0,
  "metadata": {
    "colab": {
      "provenance": [],
      "authorship_tag": "ABX9TyOxDrNngIR4XD+4vnn/UF9T",
      "include_colab_link": true
    },
    "kernelspec": {
      "name": "python3",
      "display_name": "Python 3"
    },
    "language_info": {
      "name": "python"
    }
  },
  "cells": [
    {
      "cell_type": "markdown",
      "metadata": {
        "id": "view-in-github",
        "colab_type": "text"
      },
      "source": [
        "<a href=\"https://colab.research.google.com/github/elangbijak4/Security_Research/blob/main/Tool6_Almudaya_Cek_Apakah_Sebuah_Situs_memuat_Pustaka_JavaScript_Berbahaya.ipynb\" target=\"_parent\"><img src=\"https://colab.research.google.com/assets/colab-badge.svg\" alt=\"Open In Colab\"/></a>"
      ]
    },
    {
      "cell_type": "code",
      "source": [
        "import requests\n",
        "from bs4 import BeautifulSoup\n",
        "\n",
        "def check_polyfill_usage(url):\n",
        "    try:\n",
        "        # Mengambil halaman HTML dari URL\n",
        "        response = requests.get(url)\n",
        "        if response.status_code == 200:\n",
        "            # Parsing halaman menggunakan BeautifulSoup\n",
        "            soup = BeautifulSoup(response.content, 'html.parser')\n",
        "\n",
        "            # Mencari semua skrip JavaScript di dalam halaman\n",
        "            scripts = soup.find_all('script', src=True)\n",
        "            polyfill_used = False\n",
        "\n",
        "            # Memeriksa setiap skrip JavaScript untuk mencari polyfill.io\n",
        "            for script in scripts:\n",
        "                if 'polyfill.io' in script['src']:\n",
        "                    polyfill_used = True\n",
        "                    break\n",
        "\n",
        "            if polyfill_used:\n",
        "                print(f\"Situs {url} menggunakan polyfill.io.\")\n",
        "            else:\n",
        "                print(f\"Situs {url} tidak menggunakan polyfill.io.\")\n",
        "\n",
        "        else:\n",
        "            print(f\"Gagal mengambil halaman {url}. Status code: {response.status_code}\")\n",
        "\n",
        "    except Exception as e:\n",
        "        print(f\"Terjadi kesalahan: {str(e)}\")\n",
        "\n",
        "# Contoh penggunaan: menguji situs example.com\n",
        "url_to_check = 'https://kompas.com'\n",
        "check_polyfill_usage(url_to_check)"
      ],
      "metadata": {
        "colab": {
          "base_uri": "https://localhost:8080/"
        },
        "id": "8LIUWw_XrNt2",
        "outputId": "9ba32f81-7d3e-40c1-f5b6-c00403d6ebc3"
      },
      "execution_count": 5,
      "outputs": [
        {
          "output_type": "stream",
          "name": "stdout",
          "text": [
            "Situs https://kompas.com tidak menggunakan polyfill.io.\n"
          ]
        }
      ]
    }
  ]
}