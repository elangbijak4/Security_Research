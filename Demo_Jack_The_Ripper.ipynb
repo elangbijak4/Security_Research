{
  "nbformat": 4,
  "nbformat_minor": 0,
  "metadata": {
    "colab": {
      "provenance": [],
      "authorship_tag": "ABX9TyO4+1Yn0hmi4DcgUaATDY+v",
      "include_colab_link": true
    },
    "kernelspec": {
      "name": "python3",
      "display_name": "Python 3"
    },
    "language_info": {
      "name": "python"
    }
  },
  "cells": [
    {
      "cell_type": "markdown",
      "metadata": {
        "id": "view-in-github",
        "colab_type": "text"
      },
      "source": [
        "<a href=\"https://colab.research.google.com/github/elangbijak4/Security_Research/blob/main/Demo_Jack_The_Ripper.ipynb\" target=\"_parent\"><img src=\"https://colab.research.google.com/assets/colab-badge.svg\" alt=\"Open In Colab\"/></a>"
      ]
    },
    {
      "cell_type": "code",
      "source": [
        "# Install John the Ripper\n",
        "!sudo apt-get update\n",
        "!sudo apt-get install john"
      ],
      "metadata": {
        "colab": {
          "base_uri": "https://localhost:8080/"
        },
        "id": "rp2lJTFdtK6M",
        "outputId": "8addf7d4-f0f2-475d-82d4-fd6fbff61e5b"
      },
      "execution_count": 1,
      "outputs": [
        {
          "output_type": "stream",
          "name": "stdout",
          "text": [
            "\r0% [Working]\r            \rHit:1 http://archive.ubuntu.com/ubuntu jammy InRelease\n",
            "\r0% [Waiting for headers] [Waiting for headers] [Connected to cloud.r-project.or\r                                                                               \rGet:2 http://archive.ubuntu.com/ubuntu jammy-updates InRelease [128 kB]\n",
            "\r                                                                               \rGet:3 http://security.ubuntu.com/ubuntu jammy-security InRelease [129 kB]\n",
            "\r                                                                               \rGet:4 https://cloud.r-project.org/bin/linux/ubuntu jammy-cran40/ InRelease [3,626 B]\n",
            "Hit:5 https://developer.download.nvidia.com/compute/cuda/repos/ubuntu2204/x86_64  InRelease\n",
            "Get:6 http://archive.ubuntu.com/ubuntu jammy-backports InRelease [127 kB]\n",
            "Hit:7 https://ppa.launchpadcontent.net/c2d4u.team/c2d4u4.0+/ubuntu jammy InRelease\n",
            "Hit:8 https://ppa.launchpadcontent.net/deadsnakes/ppa/ubuntu jammy InRelease\n",
            "Hit:9 https://ppa.launchpadcontent.net/graphics-drivers/ppa/ubuntu jammy InRelease\n",
            "Get:10 http://security.ubuntu.com/ubuntu jammy-security/main amd64 Packages [1,974 kB]\n",
            "Hit:11 https://ppa.launchpadcontent.net/ubuntugis/ppa/ubuntu jammy InRelease\n",
            "Get:12 http://security.ubuntu.com/ubuntu jammy-security/restricted amd64 Packages [2,566 kB]\n",
            "Get:13 http://archive.ubuntu.com/ubuntu jammy-updates/restricted amd64 Packages [2,639 kB]\n",
            "Get:14 http://archive.ubuntu.com/ubuntu jammy-updates/universe amd64 Packages [1,398 kB]\n",
            "Get:15 http://archive.ubuntu.com/ubuntu jammy-updates/main amd64 Packages [2,238 kB]\n",
            "Get:16 http://archive.ubuntu.com/ubuntu jammy-backports/universe amd64 Packages [32.2 kB]\n",
            "Fetched 11.2 MB in 3s (4,405 kB/s)\n",
            "Reading package lists... Done\n",
            "Reading package lists... Done\n",
            "Building dependency tree... Done\n",
            "Reading state information... Done\n",
            "The following additional packages will be installed:\n",
            "  john-data\n",
            "Suggested packages:\n",
            "  wordlist\n",
            "The following NEW packages will be installed:\n",
            "  john john-data\n",
            "0 upgraded, 2 newly installed, 0 to remove and 46 not upgraded.\n",
            "Need to get 4,773 kB of archives.\n",
            "After this operation, 7,885 kB of additional disk space will be used.\n",
            "Get:1 http://archive.ubuntu.com/ubuntu jammy/main amd64 john-data all 1.8.0-4ubuntu3 [4,561 kB]\n",
            "Get:2 http://archive.ubuntu.com/ubuntu jammy/main amd64 john amd64 1.8.0-4ubuntu3 [212 kB]\n",
            "Fetched 4,773 kB in 0s (14.9 MB/s)\n",
            "debconf: unable to initialize frontend: Dialog\n",
            "debconf: (No usable dialog-like program is installed, so the dialog based frontend cannot be used. at /usr/share/perl5/Debconf/FrontEnd/Dialog.pm line 78, <> line 2.)\n",
            "debconf: falling back to frontend: Readline\n",
            "debconf: unable to initialize frontend: Readline\n",
            "debconf: (This frontend requires a controlling tty.)\n",
            "debconf: falling back to frontend: Teletype\n",
            "dpkg-preconfigure: unable to re-open stdin: \n",
            "Selecting previously unselected package john-data.\n",
            "(Reading database ... 121925 files and directories currently installed.)\n",
            "Preparing to unpack .../john-data_1.8.0-4ubuntu3_all.deb ...\n",
            "Unpacking john-data (1.8.0-4ubuntu3) ...\n",
            "Selecting previously unselected package john.\n",
            "Preparing to unpack .../john_1.8.0-4ubuntu3_amd64.deb ...\n",
            "Unpacking john (1.8.0-4ubuntu3) ...\n",
            "Setting up john-data (1.8.0-4ubuntu3) ...\n",
            "Setting up john (1.8.0-4ubuntu3) ...\n",
            "Processing triggers for man-db (2.10.2-1) ...\n"
          ]
        }
      ]
    },
    {
      "cell_type": "code",
      "execution_count": 2,
      "metadata": {
        "id": "vUmFbkzgtGz2"
      },
      "outputs": [],
      "source": [
        "# Buat file hash\n",
        "hashes = \"\"\"\n",
        "$1$abc$e0NRh79I3leqR37/Y.k1L0\n",
        "\"\"\"\n",
        "with open(\"passwords.txt\", \"w\") as file:\n",
        "    file.write(hashes)"
      ]
    },
    {
      "cell_type": "code",
      "source": [
        "# Jalankan John the Ripper\n",
        "!john passwords.txt"
      ],
      "metadata": {
        "colab": {
          "base_uri": "https://localhost:8080/"
        },
        "id": "GUM45H4_tYPP",
        "outputId": "996e4712-9615-41eb-93e2-ae47202e7e78"
      },
      "execution_count": null,
      "outputs": [
        {
          "output_type": "stream",
          "name": "stdout",
          "text": [
            "Created directory: /root/.john\n",
            "Loaded 1 password hash (md5crypt [MD5 32/64 X2])\n",
            "Will run 2 OpenMP threads\n",
            "Press 'q' or Ctrl-C to abort, almost any other key for status\n"
          ]
        }
      ]
    },
    {
      "cell_type": "code",
      "source": [
        "# Tampilkan hasil\n",
        "!john --show passwords.txt"
      ],
      "metadata": {
        "id": "F5tOTPpetcnO"
      },
      "execution_count": null,
      "outputs": []
    }
  ]
}