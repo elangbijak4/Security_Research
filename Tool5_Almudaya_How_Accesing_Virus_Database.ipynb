{
  "nbformat": 4,
  "nbformat_minor": 0,
  "metadata": {
    "colab": {
      "provenance": [],
      "authorship_tag": "ABX9TyMy20Y7xk6cD8hhzgt4eREo",
      "include_colab_link": true
    },
    "kernelspec": {
      "name": "python3",
      "display_name": "Python 3"
    },
    "language_info": {
      "name": "python"
    }
  },
  "cells": [
    {
      "cell_type": "markdown",
      "metadata": {
        "id": "view-in-github",
        "colab_type": "text"
      },
      "source": [
        "<a href=\"https://colab.research.google.com/github/elangbijak4/Security_Research/blob/main/Tool5_Almudaya_How_Accesing_Virus_Database.ipynb\" target=\"_parent\"><img src=\"https://colab.research.google.com/assets/colab-badge.svg\" alt=\"Open In Colab\"/></a>"
      ]
    },
    {
      "cell_type": "markdown",
      "source": [
        "Kode belum dievaluasi"
      ],
      "metadata": {
        "id": "D2POAQn_vFj2"
      }
    },
    {
      "cell_type": "code",
      "source": [
        "import requests"
      ],
      "metadata": {
        "id": "8LIUWw_XrNt2"
      },
      "execution_count": 1,
      "outputs": []
    },
    {
      "cell_type": "code",
      "source": [
        "# Masukkan API key Anda di sini\n",
        "API_KEY = 'masukkan_api_key_anda_di_sini'\n",
        "\n",
        "# URL untuk mendapatkan daftar sampel terbaru\n",
        "url = f\"https://malshare.com/api.php?api_key={API_KEY}&action=getlist\"\n",
        "\n",
        "response = requests.get(url)\n",
        "\n",
        "if response.status_code == 200:\n",
        "    # Cetak daftar hash sampel malware terbaru\n",
        "    sample_list = response.text.split('\\n')\n",
        "    for sample in sample_list[:10]:  # Cetak 10 sampel pertama\n",
        "        print(sample)\n",
        "else:\n",
        "    print(f\"Error: {response.status_code}\")\n",
        "\n",
        "# URL untuk mengunduh sampel malware tertentu\n",
        "# Contoh untuk mengunduh sampel malware pertama dalam daftar\n",
        "if sample_list:\n",
        "    sample_hash = sample_list[0]\n",
        "    download_url = f\"https://malshare.com/api.php?api_key={API_KEY}&action=getfile&hash={sample_hash}\"\n",
        "\n",
        "    sample_response = requests.get(download_url)\n",
        "\n",
        "    if sample_response.status_code == 200:\n",
        "        with open(f\"{sample_hash}.bin\", 'wb') as file:\n",
        "            file.write(sample_response.content)\n",
        "        print(f\"Sampel malware {sample_hash} berhasil diunduh.\")\n",
        "    else:\n",
        "        print(f\"Error: {sample_response.status_code}\")\n",
        "else:\n",
        "    print(\"Tidak ada sampel malware yang ditemukan.\")"
      ],
      "metadata": {
        "id": "ohiIMdNgu8Mk"
      },
      "execution_count": null,
      "outputs": []
    }
  ]
}