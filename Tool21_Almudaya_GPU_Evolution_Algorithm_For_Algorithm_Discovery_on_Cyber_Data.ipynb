{
  "nbformat": 4,
  "nbformat_minor": 0,
  "metadata": {
    "colab": {
      "provenance": [],
      "gpuType": "T4",
      "authorship_tag": "ABX9TyPiQteqIWSYT95sU4SKVj2+",
      "include_colab_link": true
    },
    "kernelspec": {
      "name": "python3",
      "display_name": "Python 3"
    },
    "language_info": {
      "name": "python"
    },
    "accelerator": "GPU"
  },
  "cells": [
    {
      "cell_type": "markdown",
      "metadata": {
        "id": "view-in-github",
        "colab_type": "text"
      },
      "source": [
        "<a href=\"https://colab.research.google.com/github/elangbijak4/Security_Research/blob/main/Tool21_Almudaya_GPU_Evolution_Algorithm_For_Algorithm_Discovery_on_Cyber_Data.ipynb\" target=\"_parent\"><img src=\"https://colab.research.google.com/assets/colab-badge.svg\" alt=\"Open In Colab\"/></a>"
      ]
    },
    {
      "cell_type": "code",
      "source": [
        "!pip install deap"
      ],
      "metadata": {
        "colab": {
          "base_uri": "https://localhost:8080/"
        },
        "id": "7wz6OWbvsZ0e",
        "outputId": "01c579db-57ab-4ceb-e807-b1e1b8c5d39d"
      },
      "execution_count": 1,
      "outputs": [
        {
          "output_type": "stream",
          "name": "stdout",
          "text": [
            "Collecting deap\n",
            "  Downloading deap-1.4.1-cp310-cp310-manylinux_2_5_x86_64.manylinux1_x86_64.manylinux_2_17_x86_64.manylinux2014_x86_64.whl (135 kB)\n",
            "\u001b[2K     \u001b[90m━━━━━━━━━━━━━━━━━━━━━━━━━━━━━━━━━━━━━━━━\u001b[0m \u001b[32m135.4/135.4 kB\u001b[0m \u001b[31m3.1 MB/s\u001b[0m eta \u001b[36m0:00:00\u001b[0m\n",
            "\u001b[?25hRequirement already satisfied: numpy in /usr/local/lib/python3.10/dist-packages (from deap) (1.25.2)\n",
            "Installing collected packages: deap\n",
            "Successfully installed deap-1.4.1\n"
          ]
        }
      ]
    },
    {
      "cell_type": "code",
      "source": [
        "import operator\n",
        "import random\n",
        "import numpy as np\n",
        "import pandas as pd\n",
        "from deap import algorithms, base, creator, gp, tools\n",
        "from sklearn.model_selection import train_test_split\n",
        "from sklearn.preprocessing import LabelEncoder, StandardScaler\n",
        "from sklearn.metrics import accuracy_score\n",
        "import functools\n",
        "import torch\n",
        "import torch.nn as nn\n",
        "import torch.optim as optim"
      ],
      "metadata": {
        "id": "kar0mhEIsWl2"
      },
      "execution_count": 2,
      "outputs": []
    },
    {
      "cell_type": "code",
      "execution_count": 3,
      "metadata": {
        "id": "cizjueaQsORR"
      },
      "outputs": [],
      "source": [
        "# Load dataset (NSL-KDD)\n",
        "url = \"https://raw.githubusercontent.com/defcom17/NSL_KDD/master/KDDTrain+.txt\"\n",
        "column_names = [  # Sesuaikan dengan nama kolom dataset NSL-KDD\n",
        "    'duration', 'protocol_type', 'service', 'flag', 'src_bytes', 'dst_bytes', 'land', 'wrong_fragment',\n",
        "    'urgent', 'hot', 'num_failed_logins', 'logged_in', 'num_compromised', 'root_shell', 'su_attempted',\n",
        "    'num_root', 'num_file_creations', 'num_shells', 'num_access_files', 'num_outbound_cmds', 'is_host_login',\n",
        "    'is_guest_login', 'count', 'srv_count', 'serror_rate', 'srv_serror_rate', 'rerror_rate', 'srv_rerror_rate',\n",
        "    'same_srv_rate', 'diff_srv_rate', 'srv_diff_host_rate', 'dst_host_count', 'dst_host_srv_count',\n",
        "    'dst_host_same_srv_rate', 'dst_host_diff_srv_rate', 'dst_host_same_src_port_rate', 'dst_host_srv_diff_host_rate',\n",
        "    'dst_host_serror_rate', 'dst_host_srv_serror_rate', 'dst_host_rerror_rate', 'dst_host_srv_rerror_rate', 'label'\n",
        "]\n",
        "data = pd.read_csv(url, header=None, names=column_names)"
      ]
    },
    {
      "cell_type": "code",
      "source": [
        "data.head()"
      ],
      "metadata": {
        "colab": {
          "base_uri": "https://localhost:8080/",
          "height": 255
        },
        "id": "337ljcphu861",
        "outputId": "bb175b9f-a55d-40a4-c31e-047a06ef0803"
      },
      "execution_count": 4,
      "outputs": [
        {
          "output_type": "execute_result",
          "data": {
            "text/plain": [
              "  duration protocol_type service  flag  src_bytes  dst_bytes  land  \\\n",
              "0      tcp      ftp_data      SF   491          0          0     0   \n",
              "0      udp         other      SF   146          0          0     0   \n",
              "0      tcp       private      S0     0          0          0     0   \n",
              "0      tcp          http      SF   232       8153          0     0   \n",
              "0      tcp          http      SF   199        420          0     0   \n",
              "\n",
              "   wrong_fragment  urgent  hot  ...  dst_host_srv_count  \\\n",
              "0               0       0    0  ...                0.17   \n",
              "0               0       0    0  ...                0.00   \n",
              "0               0       0    0  ...                0.10   \n",
              "0               0       0    0  ...                1.00   \n",
              "0               0       0    0  ...                1.00   \n",
              "\n",
              "   dst_host_same_srv_rate  dst_host_diff_srv_rate  \\\n",
              "0                    0.03                    0.17   \n",
              "0                    0.60                    0.88   \n",
              "0                    0.05                    0.00   \n",
              "0                    0.00                    0.03   \n",
              "0                    0.00                    0.00   \n",
              "\n",
              "   dst_host_same_src_port_rate  dst_host_srv_diff_host_rate  \\\n",
              "0                         0.00                         0.00   \n",
              "0                         0.00                         0.00   \n",
              "0                         0.00                         1.00   \n",
              "0                         0.04                         0.03   \n",
              "0                         0.00                         0.00   \n",
              "\n",
              "   dst_host_serror_rate  dst_host_srv_serror_rate  dst_host_rerror_rate  \\\n",
              "0                  0.00                      0.05                  0.00   \n",
              "0                  0.00                      0.00                  0.00   \n",
              "0                  1.00                      0.00                  0.00   \n",
              "0                  0.01                      0.00                  0.01   \n",
              "0                  0.00                      0.00                  0.00   \n",
              "\n",
              "   dst_host_srv_rerror_rate  label  \n",
              "0                    normal     20  \n",
              "0                    normal     15  \n",
              "0                   neptune     19  \n",
              "0                    normal     21  \n",
              "0                    normal     21  \n",
              "\n",
              "[5 rows x 42 columns]"
            ],
            "text/html": [
              "\n",
              "  <div id=\"df-661e8062-0cd5-435a-ad10-6932052c6128\" class=\"colab-df-container\">\n",
              "    <div>\n",
              "<style scoped>\n",
              "    .dataframe tbody tr th:only-of-type {\n",
              "        vertical-align: middle;\n",
              "    }\n",
              "\n",
              "    .dataframe tbody tr th {\n",
              "        vertical-align: top;\n",
              "    }\n",
              "\n",
              "    .dataframe thead th {\n",
              "        text-align: right;\n",
              "    }\n",
              "</style>\n",
              "<table border=\"1\" class=\"dataframe\">\n",
              "  <thead>\n",
              "    <tr style=\"text-align: right;\">\n",
              "      <th></th>\n",
              "      <th>duration</th>\n",
              "      <th>protocol_type</th>\n",
              "      <th>service</th>\n",
              "      <th>flag</th>\n",
              "      <th>src_bytes</th>\n",
              "      <th>dst_bytes</th>\n",
              "      <th>land</th>\n",
              "      <th>wrong_fragment</th>\n",
              "      <th>urgent</th>\n",
              "      <th>hot</th>\n",
              "      <th>...</th>\n",
              "      <th>dst_host_srv_count</th>\n",
              "      <th>dst_host_same_srv_rate</th>\n",
              "      <th>dst_host_diff_srv_rate</th>\n",
              "      <th>dst_host_same_src_port_rate</th>\n",
              "      <th>dst_host_srv_diff_host_rate</th>\n",
              "      <th>dst_host_serror_rate</th>\n",
              "      <th>dst_host_srv_serror_rate</th>\n",
              "      <th>dst_host_rerror_rate</th>\n",
              "      <th>dst_host_srv_rerror_rate</th>\n",
              "      <th>label</th>\n",
              "    </tr>\n",
              "  </thead>\n",
              "  <tbody>\n",
              "    <tr>\n",
              "      <th>0</th>\n",
              "      <td>tcp</td>\n",
              "      <td>ftp_data</td>\n",
              "      <td>SF</td>\n",
              "      <td>491</td>\n",
              "      <td>0</td>\n",
              "      <td>0</td>\n",
              "      <td>0</td>\n",
              "      <td>0</td>\n",
              "      <td>0</td>\n",
              "      <td>0</td>\n",
              "      <td>...</td>\n",
              "      <td>0.17</td>\n",
              "      <td>0.03</td>\n",
              "      <td>0.17</td>\n",
              "      <td>0.00</td>\n",
              "      <td>0.00</td>\n",
              "      <td>0.00</td>\n",
              "      <td>0.05</td>\n",
              "      <td>0.00</td>\n",
              "      <td>normal</td>\n",
              "      <td>20</td>\n",
              "    </tr>\n",
              "    <tr>\n",
              "      <th>0</th>\n",
              "      <td>udp</td>\n",
              "      <td>other</td>\n",
              "      <td>SF</td>\n",
              "      <td>146</td>\n",
              "      <td>0</td>\n",
              "      <td>0</td>\n",
              "      <td>0</td>\n",
              "      <td>0</td>\n",
              "      <td>0</td>\n",
              "      <td>0</td>\n",
              "      <td>...</td>\n",
              "      <td>0.00</td>\n",
              "      <td>0.60</td>\n",
              "      <td>0.88</td>\n",
              "      <td>0.00</td>\n",
              "      <td>0.00</td>\n",
              "      <td>0.00</td>\n",
              "      <td>0.00</td>\n",
              "      <td>0.00</td>\n",
              "      <td>normal</td>\n",
              "      <td>15</td>\n",
              "    </tr>\n",
              "    <tr>\n",
              "      <th>0</th>\n",
              "      <td>tcp</td>\n",
              "      <td>private</td>\n",
              "      <td>S0</td>\n",
              "      <td>0</td>\n",
              "      <td>0</td>\n",
              "      <td>0</td>\n",
              "      <td>0</td>\n",
              "      <td>0</td>\n",
              "      <td>0</td>\n",
              "      <td>0</td>\n",
              "      <td>...</td>\n",
              "      <td>0.10</td>\n",
              "      <td>0.05</td>\n",
              "      <td>0.00</td>\n",
              "      <td>0.00</td>\n",
              "      <td>1.00</td>\n",
              "      <td>1.00</td>\n",
              "      <td>0.00</td>\n",
              "      <td>0.00</td>\n",
              "      <td>neptune</td>\n",
              "      <td>19</td>\n",
              "    </tr>\n",
              "    <tr>\n",
              "      <th>0</th>\n",
              "      <td>tcp</td>\n",
              "      <td>http</td>\n",
              "      <td>SF</td>\n",
              "      <td>232</td>\n",
              "      <td>8153</td>\n",
              "      <td>0</td>\n",
              "      <td>0</td>\n",
              "      <td>0</td>\n",
              "      <td>0</td>\n",
              "      <td>0</td>\n",
              "      <td>...</td>\n",
              "      <td>1.00</td>\n",
              "      <td>0.00</td>\n",
              "      <td>0.03</td>\n",
              "      <td>0.04</td>\n",
              "      <td>0.03</td>\n",
              "      <td>0.01</td>\n",
              "      <td>0.00</td>\n",
              "      <td>0.01</td>\n",
              "      <td>normal</td>\n",
              "      <td>21</td>\n",
              "    </tr>\n",
              "    <tr>\n",
              "      <th>0</th>\n",
              "      <td>tcp</td>\n",
              "      <td>http</td>\n",
              "      <td>SF</td>\n",
              "      <td>199</td>\n",
              "      <td>420</td>\n",
              "      <td>0</td>\n",
              "      <td>0</td>\n",
              "      <td>0</td>\n",
              "      <td>0</td>\n",
              "      <td>0</td>\n",
              "      <td>...</td>\n",
              "      <td>1.00</td>\n",
              "      <td>0.00</td>\n",
              "      <td>0.00</td>\n",
              "      <td>0.00</td>\n",
              "      <td>0.00</td>\n",
              "      <td>0.00</td>\n",
              "      <td>0.00</td>\n",
              "      <td>0.00</td>\n",
              "      <td>normal</td>\n",
              "      <td>21</td>\n",
              "    </tr>\n",
              "  </tbody>\n",
              "</table>\n",
              "<p>5 rows × 42 columns</p>\n",
              "</div>\n",
              "    <div class=\"colab-df-buttons\">\n",
              "\n",
              "  <div class=\"colab-df-container\">\n",
              "    <button class=\"colab-df-convert\" onclick=\"convertToInteractive('df-661e8062-0cd5-435a-ad10-6932052c6128')\"\n",
              "            title=\"Convert this dataframe to an interactive table.\"\n",
              "            style=\"display:none;\">\n",
              "\n",
              "  <svg xmlns=\"http://www.w3.org/2000/svg\" height=\"24px\" viewBox=\"0 -960 960 960\">\n",
              "    <path d=\"M120-120v-720h720v720H120Zm60-500h600v-160H180v160Zm220 220h160v-160H400v160Zm0 220h160v-160H400v160ZM180-400h160v-160H180v160Zm440 0h160v-160H620v160ZM180-180h160v-160H180v160Zm440 0h160v-160H620v160Z\"/>\n",
              "  </svg>\n",
              "    </button>\n",
              "\n",
              "  <style>\n",
              "    .colab-df-container {\n",
              "      display:flex;\n",
              "      gap: 12px;\n",
              "    }\n",
              "\n",
              "    .colab-df-convert {\n",
              "      background-color: #E8F0FE;\n",
              "      border: none;\n",
              "      border-radius: 50%;\n",
              "      cursor: pointer;\n",
              "      display: none;\n",
              "      fill: #1967D2;\n",
              "      height: 32px;\n",
              "      padding: 0 0 0 0;\n",
              "      width: 32px;\n",
              "    }\n",
              "\n",
              "    .colab-df-convert:hover {\n",
              "      background-color: #E2EBFA;\n",
              "      box-shadow: 0px 1px 2px rgba(60, 64, 67, 0.3), 0px 1px 3px 1px rgba(60, 64, 67, 0.15);\n",
              "      fill: #174EA6;\n",
              "    }\n",
              "\n",
              "    .colab-df-buttons div {\n",
              "      margin-bottom: 4px;\n",
              "    }\n",
              "\n",
              "    [theme=dark] .colab-df-convert {\n",
              "      background-color: #3B4455;\n",
              "      fill: #D2E3FC;\n",
              "    }\n",
              "\n",
              "    [theme=dark] .colab-df-convert:hover {\n",
              "      background-color: #434B5C;\n",
              "      box-shadow: 0px 1px 3px 1px rgba(0, 0, 0, 0.15);\n",
              "      filter: drop-shadow(0px 1px 2px rgba(0, 0, 0, 0.3));\n",
              "      fill: #FFFFFF;\n",
              "    }\n",
              "  </style>\n",
              "\n",
              "    <script>\n",
              "      const buttonEl =\n",
              "        document.querySelector('#df-661e8062-0cd5-435a-ad10-6932052c6128 button.colab-df-convert');\n",
              "      buttonEl.style.display =\n",
              "        google.colab.kernel.accessAllowed ? 'block' : 'none';\n",
              "\n",
              "      async function convertToInteractive(key) {\n",
              "        const element = document.querySelector('#df-661e8062-0cd5-435a-ad10-6932052c6128');\n",
              "        const dataTable =\n",
              "          await google.colab.kernel.invokeFunction('convertToInteractive',\n",
              "                                                    [key], {});\n",
              "        if (!dataTable) return;\n",
              "\n",
              "        const docLinkHtml = 'Like what you see? Visit the ' +\n",
              "          '<a target=\"_blank\" href=https://colab.research.google.com/notebooks/data_table.ipynb>data table notebook</a>'\n",
              "          + ' to learn more about interactive tables.';\n",
              "        element.innerHTML = '';\n",
              "        dataTable['output_type'] = 'display_data';\n",
              "        await google.colab.output.renderOutput(dataTable, element);\n",
              "        const docLink = document.createElement('div');\n",
              "        docLink.innerHTML = docLinkHtml;\n",
              "        element.appendChild(docLink);\n",
              "      }\n",
              "    </script>\n",
              "  </div>\n",
              "\n",
              "\n",
              "<div id=\"df-98b87887-34c2-4b86-9f6f-1bcb2dd7e837\">\n",
              "  <button class=\"colab-df-quickchart\" onclick=\"quickchart('df-98b87887-34c2-4b86-9f6f-1bcb2dd7e837')\"\n",
              "            title=\"Suggest charts\"\n",
              "            style=\"display:none;\">\n",
              "\n",
              "<svg xmlns=\"http://www.w3.org/2000/svg\" height=\"24px\"viewBox=\"0 0 24 24\"\n",
              "     width=\"24px\">\n",
              "    <g>\n",
              "        <path d=\"M19 3H5c-1.1 0-2 .9-2 2v14c0 1.1.9 2 2 2h14c1.1 0 2-.9 2-2V5c0-1.1-.9-2-2-2zM9 17H7v-7h2v7zm4 0h-2V7h2v10zm4 0h-2v-4h2v4z\"/>\n",
              "    </g>\n",
              "</svg>\n",
              "  </button>\n",
              "\n",
              "<style>\n",
              "  .colab-df-quickchart {\n",
              "      --bg-color: #E8F0FE;\n",
              "      --fill-color: #1967D2;\n",
              "      --hover-bg-color: #E2EBFA;\n",
              "      --hover-fill-color: #174EA6;\n",
              "      --disabled-fill-color: #AAA;\n",
              "      --disabled-bg-color: #DDD;\n",
              "  }\n",
              "\n",
              "  [theme=dark] .colab-df-quickchart {\n",
              "      --bg-color: #3B4455;\n",
              "      --fill-color: #D2E3FC;\n",
              "      --hover-bg-color: #434B5C;\n",
              "      --hover-fill-color: #FFFFFF;\n",
              "      --disabled-bg-color: #3B4455;\n",
              "      --disabled-fill-color: #666;\n",
              "  }\n",
              "\n",
              "  .colab-df-quickchart {\n",
              "    background-color: var(--bg-color);\n",
              "    border: none;\n",
              "    border-radius: 50%;\n",
              "    cursor: pointer;\n",
              "    display: none;\n",
              "    fill: var(--fill-color);\n",
              "    height: 32px;\n",
              "    padding: 0;\n",
              "    width: 32px;\n",
              "  }\n",
              "\n",
              "  .colab-df-quickchart:hover {\n",
              "    background-color: var(--hover-bg-color);\n",
              "    box-shadow: 0 1px 2px rgba(60, 64, 67, 0.3), 0 1px 3px 1px rgba(60, 64, 67, 0.15);\n",
              "    fill: var(--button-hover-fill-color);\n",
              "  }\n",
              "\n",
              "  .colab-df-quickchart-complete:disabled,\n",
              "  .colab-df-quickchart-complete:disabled:hover {\n",
              "    background-color: var(--disabled-bg-color);\n",
              "    fill: var(--disabled-fill-color);\n",
              "    box-shadow: none;\n",
              "  }\n",
              "\n",
              "  .colab-df-spinner {\n",
              "    border: 2px solid var(--fill-color);\n",
              "    border-color: transparent;\n",
              "    border-bottom-color: var(--fill-color);\n",
              "    animation:\n",
              "      spin 1s steps(1) infinite;\n",
              "  }\n",
              "\n",
              "  @keyframes spin {\n",
              "    0% {\n",
              "      border-color: transparent;\n",
              "      border-bottom-color: var(--fill-color);\n",
              "      border-left-color: var(--fill-color);\n",
              "    }\n",
              "    20% {\n",
              "      border-color: transparent;\n",
              "      border-left-color: var(--fill-color);\n",
              "      border-top-color: var(--fill-color);\n",
              "    }\n",
              "    30% {\n",
              "      border-color: transparent;\n",
              "      border-left-color: var(--fill-color);\n",
              "      border-top-color: var(--fill-color);\n",
              "      border-right-color: var(--fill-color);\n",
              "    }\n",
              "    40% {\n",
              "      border-color: transparent;\n",
              "      border-right-color: var(--fill-color);\n",
              "      border-top-color: var(--fill-color);\n",
              "    }\n",
              "    60% {\n",
              "      border-color: transparent;\n",
              "      border-right-color: var(--fill-color);\n",
              "    }\n",
              "    80% {\n",
              "      border-color: transparent;\n",
              "      border-right-color: var(--fill-color);\n",
              "      border-bottom-color: var(--fill-color);\n",
              "    }\n",
              "    90% {\n",
              "      border-color: transparent;\n",
              "      border-bottom-color: var(--fill-color);\n",
              "    }\n",
              "  }\n",
              "</style>\n",
              "\n",
              "  <script>\n",
              "    async function quickchart(key) {\n",
              "      const quickchartButtonEl =\n",
              "        document.querySelector('#' + key + ' button');\n",
              "      quickchartButtonEl.disabled = true;  // To prevent multiple clicks.\n",
              "      quickchartButtonEl.classList.add('colab-df-spinner');\n",
              "      try {\n",
              "        const charts = await google.colab.kernel.invokeFunction(\n",
              "            'suggestCharts', [key], {});\n",
              "      } catch (error) {\n",
              "        console.error('Error during call to suggestCharts:', error);\n",
              "      }\n",
              "      quickchartButtonEl.classList.remove('colab-df-spinner');\n",
              "      quickchartButtonEl.classList.add('colab-df-quickchart-complete');\n",
              "    }\n",
              "    (() => {\n",
              "      let quickchartButtonEl =\n",
              "        document.querySelector('#df-98b87887-34c2-4b86-9f6f-1bcb2dd7e837 button');\n",
              "      quickchartButtonEl.style.display =\n",
              "        google.colab.kernel.accessAllowed ? 'block' : 'none';\n",
              "    })();\n",
              "  </script>\n",
              "</div>\n",
              "\n",
              "    </div>\n",
              "  </div>\n"
            ],
            "application/vnd.google.colaboratory.intrinsic+json": {
              "type": "dataframe",
              "variable_name": "data"
            }
          },
          "metadata": {},
          "execution_count": 4
        }
      ]
    },
    {
      "cell_type": "code",
      "source": [
        "# Preprocessing data\n",
        "# Encode categorical features\n",
        "categorical_columns = ['duration','protocol_type', 'service', 'flag','dst_host_srv_rerror_rate']\n",
        "le_dict = {}\n",
        "for col in categorical_columns:\n",
        "    le = LabelEncoder()\n",
        "    data[col] = le.fit_transform(data[col])\n",
        "    le_dict[col] = le  # Save the label encoder for possible inverse_transform later\n",
        "\n",
        "X = data.iloc[:, :-1].values  # Fitur\n",
        "y = data.iloc[:, -1].values  # Label"
      ],
      "metadata": {
        "id": "iYTv1bihtvvU"
      },
      "execution_count": 5,
      "outputs": []
    },
    {
      "cell_type": "code",
      "source": [
        "# Encode label\n",
        "y = np.where(y == 'normal', 0, 1)"
      ],
      "metadata": {
        "id": "u3j-nch5tzCm"
      },
      "execution_count": 6,
      "outputs": []
    },
    {
      "cell_type": "code",
      "source": [
        "# Normalize features\n",
        "scaler = StandardScaler()\n",
        "X = scaler.fit_transform(X)"
      ],
      "metadata": {
        "id": "YCZrLoxAt12d"
      },
      "execution_count": 7,
      "outputs": []
    },
    {
      "cell_type": "code",
      "source": [
        "# Split dataset\n",
        "X_train, X_test, y_train, y_test = train_test_split(X, y, test_size=0.3, random_state=42)"
      ],
      "metadata": {
        "id": "FO8MtiSJt4LW"
      },
      "execution_count": 8,
      "outputs": []
    },
    {
      "cell_type": "code",
      "source": [
        "# Convert to PyTorch tensors\n",
        "X_train_tensor = torch.tensor(X_train, dtype=torch.float32).cuda()\n",
        "y_train_tensor = torch.tensor(y_train, dtype=torch.float32).cuda()\n",
        "X_test_tensor = torch.tensor(X_test, dtype=torch.float32).cuda()\n",
        "y_test_tensor = torch.tensor(y_test, dtype=torch.float32).cuda()"
      ],
      "metadata": {
        "id": "mcoAzyTqt7Db"
      },
      "execution_count": 9,
      "outputs": []
    },
    {
      "cell_type": "code",
      "source": [
        "# Define a simple neural network\n",
        "class SimpleNN(nn.Module):\n",
        "    def __init__(self, input_dim):\n",
        "        super(SimpleNN, self).__init__()\n",
        "        self.fc1 = nn.Linear(input_dim, 50)\n",
        "        self.fc2 = nn.Linear(50, 1)\n",
        "\n",
        "    def forward(self, x):\n",
        "        x = torch.relu(self.fc1(x))\n",
        "        x = torch.sigmoid(self.fc2(x))\n",
        "        return x\n",
        "\n",
        "model = SimpleNN(X_train.shape[1]).cuda()\n",
        "criterion = nn.BCELoss()\n",
        "optimizer = optim.Adam(model.parameters(), lr=0.001)"
      ],
      "metadata": {
        "id": "ltgYvQDNt-zM"
      },
      "execution_count": 10,
      "outputs": []
    },
    {
      "cell_type": "code",
      "source": [
        "# Training the model\n",
        "def train_model():\n",
        "    model.train()\n",
        "    for epoch in range(100):  # Number of epochs\n",
        "        optimizer.zero_grad()\n",
        "        outputs = model(X_train_tensor)\n",
        "        loss = criterion(outputs.squeeze(), y_train_tensor)\n",
        "        loss.backward()\n",
        "        optimizer.step()"
      ],
      "metadata": {
        "id": "f9xWR34-uBKq"
      },
      "execution_count": 11,
      "outputs": []
    },
    {
      "cell_type": "code",
      "source": [
        "# Evaluate the model\n",
        "def evaluate_model():\n",
        "    model.eval()\n",
        "    with torch.no_grad():\n",
        "        outputs = model(X_train_tensor)\n",
        "        predictions = (outputs.squeeze() > 0.5).float()\n",
        "        accuracy = accuracy_score(y_train_tensor.cpu(), predictions.cpu())\n",
        "    return accuracy"
      ],
      "metadata": {
        "id": "GDFB3OqJuGc4"
      },
      "execution_count": 12,
      "outputs": []
    },
    {
      "cell_type": "code",
      "source": [
        "# Buat tipe individu dan fitness\n",
        "creator.create(\"FitnessMax\", base.Fitness, weights=(1.0,))\n",
        "creator.create(\"Individual\", gp.PrimitiveTree, fitness=creator.FitnessMax)"
      ],
      "metadata": {
        "id": "otPJMVnRuKHH"
      },
      "execution_count": 13,
      "outputs": []
    },
    {
      "cell_type": "code",
      "source": [
        "# Buat Primitive Set untuk GP\n",
        "pset = gp.PrimitiveSet(\"MAIN\", X_train.shape[1])\n",
        "pset.addPrimitive(operator.add, 2)\n",
        "pset.addPrimitive(operator.sub, 2)\n",
        "pset.addPrimitive(operator.mul, 2)\n",
        "pset.addPrimitive(operator.neg, 1)\n",
        "pset.addEphemeralConstant(\"rand101\", functools.partial(random.uniform, -1, 1))"
      ],
      "metadata": {
        "id": "lmzETb78uRXA"
      },
      "execution_count": 14,
      "outputs": []
    },
    {
      "cell_type": "code",
      "source": [
        "# Buat toolbox untuk GP\n",
        "toolbox = base.Toolbox()\n",
        "toolbox.register(\"expr\", gp.genHalfAndHalf, pset=pset, min_=1, max_=2)\n",
        "toolbox.register(\"individual\", tools.initIterate, creator.Individual, toolbox.expr)\n",
        "toolbox.register(\"population\", tools.initRepeat, list, toolbox.individual)\n",
        "\n",
        "toolbox.register(\"compile\", gp.compile, pset=pset)"
      ],
      "metadata": {
        "id": "zVf9gEVuuWIN"
      },
      "execution_count": 15,
      "outputs": []
    },
    {
      "cell_type": "code",
      "source": [
        "# Define evaluation function\n",
        "def evaluate(individual):\n",
        "    func = toolbox.compile(expr=individual)\n",
        "    # Transform the dataset based on the GP individual\n",
        "    transformed_X_train = np.array([func(*x) for x in X_train])\n",
        "\n",
        "    # Check if transformed_X_train is empty and handle it\n",
        "    if transformed_X_train.size == 0:\n",
        "        return -1,  # Return a low fitness value to penalize unproductive individuals\n",
        "\n",
        "    # Ensure transformed_X_train is 2D for shape[1] to work\n",
        "    if transformed_X_train.ndim == 1:\n",
        "        transformed_X_train = transformed_X_train.reshape(-1, 1)  # Reshape to a 2D array with one column\n",
        "\n",
        "    # Convert transformed_X_train to a PyTorch tensor\n",
        "    transformed_X_train_tensor = torch.tensor(transformed_X_train, dtype=torch.float32).cuda()\n",
        "\n",
        "    # Re-train the model on the transformed data\n",
        "    model = SimpleNN(transformed_X_train.shape[1]).cuda()\n",
        "    optimizer = optim.Adam(model.parameters(), lr=0.001)\n",
        "    criterion = nn.BCELoss()\n",
        "\n",
        "    for epoch in range(100):  # Number of epochs\n",
        "        optimizer.zero_grad()\n",
        "        outputs = model(transformed_X_train_tensor)\n",
        "        loss = criterion(outputs.squeeze(), y_train_tensor)\n",
        "        loss.backward()\n",
        "        optimizer.step()\n",
        "\n",
        "    # Evaluate the model\n",
        "    with torch.no_grad():\n",
        "        outputs = model(transformed_X_train_tensor)\n",
        "        predictions = (outputs.squeeze() > 0.5).float()\n",
        "        accuracy = accuracy_score(y_train_tensor.cpu(), predictions.cpu())\n",
        "\n",
        "    return accuracy,"
      ],
      "metadata": {
        "id": "VsyVAoaQuYzV"
      },
      "execution_count": 20,
      "outputs": []
    },
    {
      "cell_type": "code",
      "source": [
        "toolbox.register(\"evaluate\", evaluate)\n",
        "toolbox.register(\"select\", tools.selTournament, tournsize=3)\n",
        "toolbox.register(\"mate\", gp.cxOnePoint)\n",
        "toolbox.register(\"expr_mut\", gp.genFull, min_=0, max_=2)\n",
        "toolbox.register(\"mutate\", gp.mutUniform, expr=toolbox.expr_mut, pset=pset)\n",
        "toolbox.decorate(\"mate\", gp.staticLimit(key=operator.attrgetter(\"height\"), max_value=17))\n",
        "toolbox.decorate(\"mutate\", gp.staticLimit(key=operator.attrgetter(\"height\"), max_value=17))"
      ],
      "metadata": {
        "id": "o9GsCQmVucXU"
      },
      "execution_count": 21,
      "outputs": []
    },
    {
      "cell_type": "code",
      "source": [
        "# Inisialisasi parameter evolusi\n",
        "population = toolbox.population(n=300)\n",
        "hall_of_fame = tools.HallOfFame(1)\n",
        "stats = tools.Statistics(lambda ind: ind.fitness.values)\n",
        "stats.register(\"avg\", np.mean)\n",
        "stats.register(\"std\", np.std)\n",
        "stats.register(\"min\", np.min)\n",
        "stats.register(\"max\", np.max)"
      ],
      "metadata": {
        "id": "gGsFabPBuj0P"
      },
      "execution_count": 22,
      "outputs": []
    },
    {
      "cell_type": "code",
      "source": [
        "# Jalankan algoritma evolusi\n",
        "population, log = algorithms.eaSimple(population, toolbox, 0.5, 0.2, 40, stats=stats, halloffame=hall_of_fame, verbose=True)"
      ],
      "metadata": {
        "colab": {
          "base_uri": "https://localhost:8080/"
        },
        "id": "n7llvWzRumBF",
        "outputId": "07ab931e-8dda-4b75-9c55-6ad2b9480763"
      },
      "execution_count": 23,
      "outputs": [
        {
          "output_type": "stream",
          "name": "stdout",
          "text": [
            "gen\tnevals\tavg\tstd\tmin\tmax\n",
            "0  \t300   \t1  \t0  \t1  \t1  \n",
            "1  \t185   \t1  \t0  \t1  \t1  \n",
            "2  \t190   \t1  \t0  \t1  \t1  \n",
            "3  \t167   \t1  \t0  \t1  \t1  \n",
            "4  \t183   \t1  \t0  \t1  \t1  \n",
            "5  \t193   \t1  \t0  \t1  \t1  \n",
            "6  \t185   \t1  \t0  \t1  \t1  \n",
            "7  \t187   \t1  \t0  \t1  \t1  \n",
            "8  \t187   \t1  \t0  \t1  \t1  \n",
            "9  \t186   \t1  \t0  \t1  \t1  \n",
            "10 \t177   \t1  \t0  \t1  \t1  \n",
            "11 \t197   \t1  \t0  \t1  \t1  \n",
            "12 \t179   \t1  \t0  \t1  \t1  \n",
            "13 \t188   \t1  \t0  \t1  \t1  \n",
            "14 \t180   \t1  \t0  \t1  \t1  \n",
            "15 \t171   \t1  \t0  \t1  \t1  \n",
            "16 \t169   \t1  \t0  \t1  \t1  \n",
            "17 \t165   \t1  \t0  \t1  \t1  \n",
            "18 \t178   \t1  \t0  \t1  \t1  \n",
            "19 \t182   \t1  \t0  \t1  \t1  \n",
            "20 \t147   \t1  \t0  \t1  \t1  \n",
            "21 \t180   \t1  \t0  \t1  \t1  \n",
            "22 \t190   \t1  \t0  \t1  \t1  \n",
            "23 \t175   \t1  \t0  \t1  \t1  \n",
            "24 \t187   \t1  \t0  \t1  \t1  \n",
            "25 \t198   \t1  \t0  \t1  \t1  \n",
            "26 \t198   \t1  \t0  \t1  \t1  \n",
            "27 \t170   \t1  \t0  \t1  \t1  \n",
            "28 \t172   \t1  \t0  \t1  \t1  \n",
            "29 \t159   \t1  \t0  \t1  \t1  \n",
            "30 \t181   \t1  \t0  \t1  \t1  \n",
            "31 \t180   \t1  \t0  \t1  \t1  \n",
            "32 \t181   \t1  \t0  \t1  \t1  \n",
            "33 \t185   \t1  \t0  \t1  \t1  \n",
            "34 \t195   \t1  \t0  \t1  \t1  \n",
            "35 \t178   \t1  \t0  \t1  \t1  \n",
            "36 \t186   \t1  \t0  \t1  \t1  \n",
            "37 \t186   \t1  \t0  \t1  \t1  \n",
            "38 \t182   \t1  \t0  \t1  \t1  \n",
            "39 \t167   \t1  \t0  \t1  \t1  \n",
            "40 \t204   \t1  \t0  \t1  \t1  \n"
          ]
        }
      ]
    },
    {
      "cell_type": "code",
      "source": [
        "# Tampilkan hasil terbaik\n",
        "best_individual = hall_of_fame[0]\n",
        "print(\"Best individual: \", best_individual)\n",
        "print(\"Fitness: \", best_individual.fitness.values)"
      ],
      "metadata": {
        "colab": {
          "base_uri": "https://localhost:8080/"
        },
        "id": "3uI6dv2Juo5z",
        "outputId": "b738c958-c5f5-4ea7-eff1-e95b9a1ea2c9"
      },
      "execution_count": 24,
      "outputs": [
        {
          "output_type": "stream",
          "name": "stdout",
          "text": [
            "Best individual:  add(ARG6, ARG21)\n",
            "Fitness:  (1.0,)\n"
          ]
        }
      ]
    },
    {
      "cell_type": "code",
      "source": [
        "import torch.nn as nn\n",
        "import torch.nn.functional as F\n",
        "\n",
        "class ModifiedModel(nn.Module):\n",
        "    def __init__(self, input_size=42, hidden_size=50):\n",
        "        super(ModifiedModel, self).__init__()\n",
        "        self.fc1 = nn.Linear(input_size, hidden_size)\n",
        "        self.fc2 = nn.Linear(hidden_size, 1)\n",
        "\n",
        "    def forward(self, x):\n",
        "        x = F.relu(self.fc1(x))\n",
        "        x = torch.sigmoid(self.fc2(x))\n",
        "        return x\n",
        "\n",
        "# Inisialisasi model dengan input_size yang disesuaikan\n",
        "model = ModifiedModel(input_size=42).cuda()"
      ],
      "metadata": {
        "id": "iQUQWlS7-SH8"
      },
      "execution_count": 38,
      "outputs": []
    },
    {
      "cell_type": "code",
      "source": [
        "# Asumsikan 'best_individual' sudah didefinisikan sebelumnya\n",
        "func = toolbox.compile(expr=best_individual)\n",
        "\n",
        "# Transformasi data uji dengan individu terbaik dari GP\n",
        "transformed_X_test = []\n",
        "for x in X_test:\n",
        "    result = func(*x)\n",
        "    # Gabungkan hasil transformasi dengan fitur asli\n",
        "    combined_features = np.append(x, result)\n",
        "    transformed_X_test.append(combined_features)\n",
        "\n",
        "# Konversi ke array numpy\n",
        "transformed_X_test = np.array(transformed_X_test)\n",
        "\n",
        "# Debugging: cetak bentuk dari array yang dihasilkan\n",
        "print(\"Bentuk transformed_X_test sebelum reshape: \", transformed_X_test.shape)\n",
        "print(\"Contoh elemen transformed_X_test: \", transformed_X_test[0])\n",
        "\n",
        "# Asumsikan model mengharapkan input dengan num_features = 41 + 1 (fitur asli + hasil transformasi)\n",
        "num_features = 41 + 1\n",
        "\n",
        "# Jika bentuknya tidak sesuai, lakukan reshape\n",
        "if len(transformed_X_test.shape) == 1:\n",
        "    # Jika hanya satu dimensi, reshape menjadi (-1, num_features)\n",
        "    if transformed_X_test.shape[0] % num_features != 0:\n",
        "        raise ValueError(\"Jumlah elemen tidak bisa dibagi rata menjadi num_features\")\n",
        "    transformed_X_test = transformed_X_test.reshape(-1, num_features)\n",
        "elif transformed_X_test.shape[1] != num_features:\n",
        "    raise ValueError(f\"Bentuk data tidak sesuai: {transformed_X_test.shape[1]} fitur ditemukan, tetapi {num_features} diharapkan.\")\n",
        "\n",
        "# Pastikan bentuk tensor yang dihasilkan sesuai dengan model\n",
        "transformed_X_test_tensor = torch.tensor(transformed_X_test, dtype=torch.float32).cuda()\n",
        "\n",
        "# Pastikan tensor target memiliki bentuk yang sesuai\n",
        "y_test_tensor = torch.tensor(y_test, dtype=torch.float32).cuda()\n",
        "\n",
        "# Uji model dengan data yang ditransformasikan\n",
        "with torch.no_grad():\n",
        "    outputs = model(transformed_X_test_tensor)\n",
        "    test_predictions = (outputs.squeeze() > 0.5).float()\n",
        "    test_accuracy = accuracy_score(y_test_tensor.cpu(), test_predictions.cpu())\n",
        "\n",
        "print(\"Test Accuracy: \", test_accuracy)"
      ],
      "metadata": {
        "colab": {
          "base_uri": "https://localhost:8080/"
        },
        "id": "-1GU0D4M9iS0",
        "outputId": "f0dc9eae-cf3f-4fbd-f08c-30a143a25105"
      },
      "execution_count": 39,
      "outputs": [
        {
          "output_type": "stream",
          "name": "stdout",
          "text": [
            "Bentuk transformed_X_test sebelum reshape:  (37792, 42)\n",
            "Contoh elemen transformed_X_test:  [ 2.21931185 -1.17618945  0.75111129 -0.41749354 -0.00491864 -0.01408881\n",
            " -0.08948642 -0.00773599 -0.09507567 -0.02702282 -0.80926182 -0.01166364\n",
            " -0.03665187 -0.02443651 -0.01238515 -0.02618002 -0.0186099  -0.0412212\n",
            "  0.         -0.00281749 -0.09753094 -0.71704549 -0.32680812 -0.63720927\n",
            " -0.63192903 -0.37436224 -0.3744316   0.77128311 -0.34968303  2.51194893\n",
            " -1.16070756  0.49996246  1.06640135 -0.43907817  2.75609201 -0.20026454\n",
            " -0.63953191 -0.6248708  -0.38763462 -0.37638703  0.14207372 -0.80653191]\n",
            "Test Accuracy:  0.4963219729043184\n"
          ]
        }
      ]
    },
    {
      "cell_type": "code",
      "source": [
        "import matplotlib.pyplot as plt\n",
        "import networkx as nx\n",
        "from deap import gp"
      ],
      "metadata": {
        "id": "CQq1yYubnlpB"
      },
      "execution_count": 40,
      "outputs": []
    },
    {
      "cell_type": "code",
      "source": [
        "def plot_tree(individual):\n",
        "    nodes, edges, labels = gp.graph(individual)\n",
        "\n",
        "    g = nx.Graph()\n",
        "    g.add_nodes_from(nodes)\n",
        "    g.add_edges_from(edges)\n",
        "    pos = nx.spring_layout(g)\n",
        "\n",
        "    nx.draw_networkx_nodes(g, pos, node_size=700, node_color='lightblue')\n",
        "    nx.draw_networkx_edges(g, pos)\n",
        "    nx.draw_networkx_labels(g, pos, labels)\n",
        "    plt.show()"
      ],
      "metadata": {
        "id": "9HX-7rwIn7eV"
      },
      "execution_count": 41,
      "outputs": []
    },
    {
      "cell_type": "code",
      "source": [
        "# Visualisasi pohon terbaik\n",
        "plot_tree(best_individual)"
      ],
      "metadata": {
        "colab": {
          "base_uri": "https://localhost:8080/",
          "height": 406
        },
        "id": "6TuWlWP_n_GU",
        "outputId": "23b27d52-a6f7-4bb2-903d-c0ae0678898e"
      },
      "execution_count": 42,
      "outputs": [
        {
          "output_type": "display_data",
          "data": {
            "text/plain": [
              "<Figure size 640x480 with 1 Axes>"
            ],
            "image/png": "[encoded data removed]"
          },
          "metadata": {}
        }
      ]
    },
    {
      "cell_type": "code",
      "source": [
        "# Plotting fitness score over generations\n",
        "gen = log.select(\"gen\")\n",
        "avg = log.select(\"avg\")\n",
        "min_ = log.select(\"min\")\n",
        "max_ = log.select(\"max\")\n",
        "\n",
        "plt.figure()\n",
        "plt.plot(gen, avg, label=\"average\")\n",
        "plt.plot(gen, min_, label=\"minimum\")\n",
        "plt.plot(gen, max_, label=\"maximum\")\n",
        "plt.xlabel(\"Generation\")\n",
        "plt.ylabel(\"Fitness\")\n",
        "plt.legend(loc=\"best\")\n",
        "plt.grid(True)\n",
        "plt.show()"
      ],
      "metadata": {
        "colab": {
          "base_uri": "https://localhost:8080/",
          "height": 449
        },
        "id": "ceBFR6B0oCiQ",
        "outputId": "e5d4276a-d44f-4324-f062-e2d5a66acb2c"
      },
      "execution_count": 43,
      "outputs": [
        {
          "output_type": "display_data",
          "data": {
            "text/plain": [
              "<Figure size 640x480 with 1 Axes>"
            ],
            "image/png": "[encoded data removed]"
          },
          "metadata": {}
        }
      ]
    },
    {
      "cell_type": "markdown",
      "source": [
        "Uji Coba Model atau Algoritma yang ditemukan oleh penerapan Algoritma Evolusi pada dataset"
      ],
      "metadata": {
        "id": "HNNNYYa5oPkF"
      }
    },
    {
      "cell_type": "code",
      "source": [
        "import random\n",
        "from sklearn.metrics import accuracy_score, confusion_matrix # Import confusion_matrix\n",
        "\n",
        "# Ambil secara acak 100 titik data dari dataset\n",
        "random_indices = random.sample(range(len(X)), 100)\n",
        "X_test_random = X[random_indices]\n",
        "y_test_random = y[random_indices]\n",
        "\n",
        "# Evaluasi model terbaik pada data acak\n",
        "test_predictions_random = np.array([func(*x) for x in X_test_random])\n",
        "test_predictions_random = np.round(test_predictions_random).astype(int)\n",
        "test_accuracy_random = accuracy_score(y_test_random, test_predictions_random)\n",
        "\n",
        "print(\"Accuracy on random 100 data points: \", test_accuracy_random)\n",
        "print(\"Confusion Matrix on random 100 data points:\")\n",
        "print(confusion_matrix(y_test_random, test_predictions_random)) # Now confusion_matrix is defined"
      ],
      "metadata": {
        "colab": {
          "base_uri": "https://localhost:8080/"
        },
        "id": "dI6ak7LpoK0o",
        "outputId": "ead06b80-cc34-4ae3-9de6-2ce4e6b050fa"
      },
      "execution_count": 44,
      "outputs": [
        {
          "output_type": "stream",
          "name": "stdout",
          "text": [
            "Accuracy on random 100 data points:  0.14\n",
            "Confusion Matrix on random 100 data points:\n",
            "[[ 0  0  0  0  0  0]\n",
            " [ 0  0  0  0  0  0]\n",
            " [60 17 14  7  1  1]\n",
            " [ 0  0  0  0  0  0]\n",
            " [ 0  0  0  0  0  0]\n",
            " [ 0  0  0  0  0  0]]\n"
          ]
        }
      ]
    }
  ]
}