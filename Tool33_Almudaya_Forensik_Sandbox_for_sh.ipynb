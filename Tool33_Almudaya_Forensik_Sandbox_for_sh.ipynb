{
  "nbformat": 4,
  "nbformat_minor": 0,
  "metadata": {
    "colab": {
      "provenance": [],
      "authorship_tag": "ABX9TyN8neM5hYXHY6rdgbNV96n4",
      "include_colab_link": true
    },
    "kernelspec": {
      "name": "python3",
      "display_name": "Python 3"
    },
    "language_info": {
      "name": "python"
    }
  },
  "cells": [
    {
      "cell_type": "markdown",
      "metadata": {
        "id": "view-in-github",
        "colab_type": "text"
      },
      "source": [
        "<a href=\"https://colab.research.google.com/github/elangbijak4/Security_Research/blob/main/Tool33_Almudaya_Forensik_Sandbox_for_sh.ipynb\" target=\"_parent\"><img src=\"https://colab.research.google.com/assets/colab-badge.svg\" alt=\"Open In Colab\"/></a>"
      ]
    },
    {
      "cell_type": "code",
      "execution_count": 1,
      "metadata": {
        "id": "nGQm-xQXsbyB"
      },
      "outputs": [],
      "source": [
        "import os\n",
        "\n",
        "# Buat direktori sandbox\n",
        "sandbox_dir = \"sandbox\"\n",
        "os.makedirs(sandbox_dir, exist_ok=True)"
      ]
    },
    {
      "cell_type": "code",
      "source": [
        "# Buat file skrip shell di dalam sandbox\n",
        "script = \"\"\"\n",
        "#!/bin/bash\n",
        "echo \"Hello, World from script.sh!\" > sandbox/output.txt\n",
        "\"\"\"\n",
        "\n",
        "# Tulis ke file script.sh di dalam sandbox\n",
        "script_path = os.path.join(sandbox_dir, \"script.sh\")\n",
        "with open(script_path, \"w\") as file:\n",
        "    file.write(script)\n",
        "\n",
        "# Berikan izin eksekusi\n",
        "os.chmod(script_path, 0o755)"
      ],
      "metadata": {
        "id": "N630bGF-sl0C"
      },
      "execution_count": 2,
      "outputs": []
    },
    {
      "cell_type": "code",
      "source": [
        "import time\n",
        "\n",
        "# Fungsi untuk memantau perubahan file\n",
        "def monitor_file_changes(directory, interval=1):\n",
        "    previous_files = set(os.listdir(directory))\n",
        "    while True:\n",
        "        time.sleep(interval)\n",
        "        current_files = set(os.listdir(directory))\n",
        "        added_files = current_files - previous_files\n",
        "        removed_files = previous_files - current_files\n",
        "        if added_files:\n",
        "            print(f\"Added: {added_files}\")\n",
        "        if removed_files:\n",
        "            print(f\"Removed: {removed_files}\")\n",
        "        previous_files = current_files\n",
        "\n",
        "# Jalankan pemantauan file di sandbox secara asynchronous\n",
        "import threading\n",
        "\n",
        "monitor_thread = threading.Thread(target=monitor_file_changes, args=(sandbox_dir,))\n",
        "monitor_thread.start()"
      ],
      "metadata": {
        "id": "PnMaFQh0su2l"
      },
      "execution_count": 3,
      "outputs": []
    },
    {
      "cell_type": "code",
      "source": [
        "import subprocess"
      ],
      "metadata": {
        "id": "8-WAfYOys-zK"
      },
      "execution_count": 5,
      "outputs": []
    },
    {
      "cell_type": "code",
      "source": [
        "# Eksekusi skrip shell di dalam sandbox\n",
        "result = subprocess.run(['bash', script_path], stdout=subprocess.PIPE, stderr=subprocess.PIPE, text=True)\n",
        "print(\"Output:\")\n",
        "print(result.stdout)\n",
        "print(\"Error:\")\n",
        "print(result.stderr)\n",
        "\n",
        "# Tampilkan isi file output.txt untuk melihat hasil eksekusi\n",
        "output_file = os.path.join(sandbox_dir, \"output.txt\")\n",
        "with open(output_file, \"r\") as file:\n",
        "    print(file.read())"
      ],
      "metadata": {
        "colab": {
          "base_uri": "https://localhost:8080/"
        },
        "id": "-RqiubNxs2by",
        "outputId": "b54cdb1e-6796-473e-e054-542d8637feae"
      },
      "execution_count": 6,
      "outputs": [
        {
          "output_type": "stream",
          "name": "stdout",
          "text": [
            "Output:\n",
            "\n",
            "Error:\n",
            "\n",
            "Hello, World from script.sh!\n",
            "\n",
            "Added: {'output.txt'}\n"
          ]
        }
      ]
    }
  ]
}