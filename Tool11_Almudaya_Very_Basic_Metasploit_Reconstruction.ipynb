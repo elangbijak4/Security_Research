{
  "nbformat": 4,
  "nbformat_minor": 0,
  "metadata": {
    "colab": {
      "provenance": [],
      "authorship_tag": "ABX9TyOdjddJ/cCWnXiuIVNzSl5o",
      "include_colab_link": true
    },
    "kernelspec": {
      "name": "python3",
      "display_name": "Python 3"
    },
    "language_info": {
      "name": "python"
    }
  },
  "cells": [
    {
      "cell_type": "markdown",
      "metadata": {
        "id": "view-in-github",
        "colab_type": "text"
      },
      "source": [
        "<a href=\"https://colab.research.google.com/github/elangbijak4/Security_Research/blob/main/Tool11_Almudaya_Very_Basic_Metasploit_Reconstruction.ipynb\" target=\"_parent\"><img src=\"https://colab.research.google.com/assets/colab-badge.svg\" alt=\"Open In Colab\"/></a>"
      ]
    },
    {
      "cell_type": "code",
      "source": [
        "!sudo apt-get update\n",
        "!sudo apt-get install -y nmap"
      ],
      "metadata": {
        "collapsed": true,
        "colab": {
          "base_uri": "https://localhost:8080/"
        },
        "id": "0MZuY16V49Zs",
        "outputId": "c2020e07-0a29-4551-a8ac-63923fa4c9a4"
      },
      "execution_count": 7,
      "outputs": [
        {
          "output_type": "stream",
          "name": "stdout",
          "text": [
            "\r0% [Working]\r            \rGet:1 https://cloud.r-project.org/bin/linux/ubuntu jammy-cran40/ InRelease [3,626 B]\n",
            "\r0% [Connecting to archive.ubuntu.com (91.189.91.83)] [Waiting for headers] [1 I\r0% [Connecting to archive.ubuntu.com (91.189.91.83)] [Waiting for headers] [Con\r                                                                               \rGet:2 http://security.ubuntu.com/ubuntu jammy-security InRelease [129 kB]\n",
            "\r0% [Waiting for headers] [2 InRelease 14.2 kB/129 kB 11%] [Connected to ppa.lau\r                                                                               \rHit:3 https://developer.download.nvidia.com/compute/cuda/repos/ubuntu2204/x86_64  InRelease\n",
            "\r0% [Waiting for headers] [2 InRelease 14.2 kB/129 kB 11%] [Connected to ppa.lau\r                                                                               \rHit:4 http://archive.ubuntu.com/ubuntu jammy InRelease\n",
            "Get:5 http://archive.ubuntu.com/ubuntu jammy-updates InRelease [128 kB]\n",
            "Hit:6 https://ppa.launchpadcontent.net/c2d4u.team/c2d4u4.0+/ubuntu jammy InRelease\n",
            "Get:7 http://archive.ubuntu.com/ubuntu jammy-backports InRelease [127 kB]\n",
            "Hit:8 https://ppa.launchpadcontent.net/deadsnakes/ppa/ubuntu jammy InRelease\n",
            "Get:9 http://security.ubuntu.com/ubuntu jammy-security/restricted amd64 Packages [2,566 kB]\n",
            "Hit:10 https://ppa.launchpadcontent.net/graphics-drivers/ppa/ubuntu jammy InRelease\n",
            "Get:11 http://archive.ubuntu.com/ubuntu jammy-updates/restricted amd64 Packages [2,639 kB]\n",
            "Hit:12 https://ppa.launchpadcontent.net/ubuntugis/ppa/ubuntu jammy InRelease\n",
            "Get:13 http://security.ubuntu.com/ubuntu jammy-security/main amd64 Packages [1,974 kB]\n",
            "Get:14 http://archive.ubuntu.com/ubuntu jammy-updates/main amd64 Packages [2,238 kB]\n",
            "Get:15 http://archive.ubuntu.com/ubuntu jammy-updates/universe amd64 Packages [1,398 kB]\n",
            "Get:16 http://archive.ubuntu.com/ubuntu jammy-backports/universe amd64 Packages [32.2 kB]\n",
            "Fetched 11.2 MB in 2s (5,559 kB/s)\n",
            "Reading package lists... Done\n",
            "Reading package lists... Done\n",
            "Building dependency tree... Done\n",
            "Reading state information... Done\n",
            "The following additional packages will be installed:\n",
            "  liblinear4 liblua5.3-0 libpcap0.8 lua-lpeg nmap-common\n",
            "Suggested packages:\n",
            "  liblinear-tools liblinear-dev ncat ndiff zenmap\n",
            "The following NEW packages will be installed:\n",
            "  liblinear4 liblua5.3-0 libpcap0.8 lua-lpeg nmap nmap-common\n",
            "0 upgraded, 6 newly installed, 0 to remove and 46 not upgraded.\n",
            "Need to get 6,029 kB of archives.\n",
            "After this operation, 26.5 MB of additional disk space will be used.\n",
            "Get:1 http://archive.ubuntu.com/ubuntu jammy/main amd64 libpcap0.8 amd64 1.10.1-4build1 [145 kB]\n",
            "Get:2 http://archive.ubuntu.com/ubuntu jammy/universe amd64 liblinear4 amd64 2.3.0+dfsg-5 [41.4 kB]\n",
            "Get:3 http://archive.ubuntu.com/ubuntu jammy/main amd64 liblua5.3-0 amd64 5.3.6-1build1 [140 kB]\n",
            "Get:4 http://archive.ubuntu.com/ubuntu jammy/universe amd64 lua-lpeg amd64 1.0.2-1 [31.4 kB]\n",
            "Get:5 http://archive.ubuntu.com/ubuntu jammy-updates/universe amd64 nmap-common all 7.91+dfsg1+really7.80+dfsg1-2ubuntu0.1 [3,940 kB]\n",
            "Get:6 http://archive.ubuntu.com/ubuntu jammy-updates/universe amd64 nmap amd64 7.91+dfsg1+really7.80+dfsg1-2ubuntu0.1 [1,731 kB]\n",
            "Fetched 6,029 kB in 1s (7,092 kB/s)\n",
            "debconf: unable to initialize frontend: Dialog\n",
            "debconf: (No usable dialog-like program is installed, so the dialog based frontend cannot be used. at /usr/share/perl5/Debconf/FrontEnd/Dialog.pm line 78, <> line 6.)\n",
            "debconf: falling back to frontend: Readline\n",
            "debconf: unable to initialize frontend: Readline\n",
            "debconf: (This frontend requires a controlling tty.)\n",
            "debconf: falling back to frontend: Teletype\n",
            "dpkg-preconfigure: unable to re-open stdin: \n",
            "Selecting previously unselected package libpcap0.8:amd64.\n",
            "(Reading database ... 121925 files and directories currently installed.)\n",
            "Preparing to unpack .../0-libpcap0.8_1.10.1-4build1_amd64.deb ...\n",
            "Unpacking libpcap0.8:amd64 (1.10.1-4build1) ...\n",
            "Selecting previously unselected package liblinear4:amd64.\n",
            "Preparing to unpack .../1-liblinear4_2.3.0+dfsg-5_amd64.deb ...\n",
            "Unpacking liblinear4:amd64 (2.3.0+dfsg-5) ...\n",
            "Selecting previously unselected package liblua5.3-0:amd64.\n",
            "Preparing to unpack .../2-liblua5.3-0_5.3.6-1build1_amd64.deb ...\n",
            "Unpacking liblua5.3-0:amd64 (5.3.6-1build1) ...\n",
            "Selecting previously unselected package lua-lpeg:amd64.\n",
            "Preparing to unpack .../3-lua-lpeg_1.0.2-1_amd64.deb ...\n",
            "Unpacking lua-lpeg:amd64 (1.0.2-1) ...\n",
            "Selecting previously unselected package nmap-common.\n",
            "Preparing to unpack .../4-nmap-common_7.91+dfsg1+really7.80+dfsg1-2ubuntu0.1_all.deb ...\n",
            "Unpacking nmap-common (7.91+dfsg1+really7.80+dfsg1-2ubuntu0.1) ...\n",
            "Selecting previously unselected package nmap.\n",
            "Preparing to unpack .../5-nmap_7.91+dfsg1+really7.80+dfsg1-2ubuntu0.1_amd64.deb ...\n",
            "Unpacking nmap (7.91+dfsg1+really7.80+dfsg1-2ubuntu0.1) ...\n",
            "Setting up lua-lpeg:amd64 (1.0.2-1) ...\n",
            "Setting up liblinear4:amd64 (2.3.0+dfsg-5) ...\n",
            "Setting up libpcap0.8:amd64 (1.10.1-4build1) ...\n",
            "Setting up nmap-common (7.91+dfsg1+really7.80+dfsg1-2ubuntu0.1) ...\n",
            "Setting up liblua5.3-0:amd64 (5.3.6-1build1) ...\n",
            "Setting up nmap (7.91+dfsg1+really7.80+dfsg1-2ubuntu0.1) ...\n",
            "Processing triggers for man-db (2.10.2-1) ...\n",
            "Processing triggers for libc-bin (2.35-0ubuntu3.4) ...\n",
            "/sbin/ldconfig.real: /usr/local/lib/libtbbbind.so.3 is not a symbolic link\n",
            "\n",
            "/sbin/ldconfig.real: /usr/local/lib/libtbbmalloc_proxy.so.2 is not a symbolic link\n",
            "\n",
            "/sbin/ldconfig.real: /usr/local/lib/libtbbmalloc.so.2 is not a symbolic link\n",
            "\n",
            "/sbin/ldconfig.real: /usr/local/lib/libtbbbind_2_5.so.3 is not a symbolic link\n",
            "\n",
            "/sbin/ldconfig.real: /usr/local/lib/libtbb.so.12 is not a symbolic link\n",
            "\n",
            "/sbin/ldconfig.real: /usr/local/lib/libtbbbind_2_0.so.3 is not a symbolic link\n",
            "\n"
          ]
        }
      ]
    },
    {
      "cell_type": "code",
      "source": [
        "!pip install python-nmap"
      ],
      "metadata": {
        "colab": {
          "base_uri": "https://localhost:8080/"
        },
        "collapsed": true,
        "id": "Glo1jGyF4-TF",
        "outputId": "038bd968-5064-4bb4-d98f-dfde082ed0f1"
      },
      "execution_count": 8,
      "outputs": [
        {
          "output_type": "stream",
          "name": "stdout",
          "text": [
            "Collecting python-nmap\n",
            "  Downloading python-nmap-0.7.1.tar.gz (44 kB)\n",
            "\u001b[2K     \u001b[90m━━━━━━━━━━━━━━━━━━━━━━━━━━━━━━━━━━━━━━━━\u001b[0m \u001b[32m44.4/44.4 kB\u001b[0m \u001b[31m1.4 MB/s\u001b[0m eta \u001b[36m0:00:00\u001b[0m\n",
            "\u001b[?25h  Preparing metadata (setup.py) ... \u001b[?25l\u001b[?25hdone\n",
            "Building wheels for collected packages: python-nmap\n",
            "  Building wheel for python-nmap (setup.py) ... \u001b[?25l\u001b[?25hdone\n",
            "  Created wheel for python-nmap: filename=python_nmap-0.7.1-py2.py3-none-any.whl size=20635 sha256=494cf6f0923b696487dc6c566efffb0b72a0217791aedd78da9cfc9b93eb1c8e\n",
            "  Stored in directory: /root/.cache/pip/wheels/da/bd/c6/0342ac886d4deb8d166a3191eb2566f738c5b1574cb0a8cd62\n",
            "Successfully built python-nmap\n",
            "Installing collected packages: python-nmap\n",
            "Successfully installed python-nmap-0.7.1\n"
          ]
        }
      ]
    },
    {
      "cell_type": "code",
      "source": [
        "import nmap"
      ],
      "metadata": {
        "id": "wIoYtqqR6dI3"
      },
      "execution_count": 12,
      "outputs": []
    },
    {
      "cell_type": "code",
      "source": [
        "import base64"
      ],
      "metadata": {
        "id": "8Wn0zckJ6swr"
      },
      "execution_count": 14,
      "outputs": []
    },
    {
      "cell_type": "markdown",
      "source": [
        "# Scanner"
      ],
      "metadata": {
        "id": "t0S3HtoX6k7K"
      }
    },
    {
      "cell_type": "code",
      "source": [
        "class NetworkScanner:\n",
        "    def __init__(self):\n",
        "        self.nm = nmap.PortScanner()\n",
        "\n",
        "    def scan(self, target, ports):\n",
        "        self.nm.scan(target, ports)\n",
        "        host = target\n",
        "        if host in self.nm.all_hosts():\n",
        "            open_ports = [port for port in self.nm[host].all_tcp() if self.nm[host]['tcp'][port]['state'] == 'open']\n",
        "            return open_ports\n",
        "        else:\n",
        "            return []"
      ],
      "metadata": {
        "id": "JjWuJsy545rR"
      },
      "execution_count": 13,
      "outputs": []
    },
    {
      "cell_type": "markdown",
      "source": [
        "# Payload"
      ],
      "metadata": {
        "id": "GJdajN1N5NqT"
      }
    },
    {
      "source": [
        "class Payload:\n",
        "    def __init__(self, data):\n",
        "        self.data = data\n",
        "\n",
        "    def encode(self):\n",
        "        return base64.b64encode(self.data)"
      ],
      "cell_type": "code",
      "metadata": {
        "id": "I8nuamrN2_to"
      },
      "execution_count": 15,
      "outputs": []
    },
    {
      "cell_type": "markdown",
      "source": [
        "# Exploit"
      ],
      "metadata": {
        "id": "nqCgGsMh5ZwF"
      }
    },
    {
      "cell_type": "code",
      "source": [
        "class Exploit:\n",
        "    def __init__(self, target, port, payload):\n",
        "        self.target = target\n",
        "        self.port = port\n",
        "        self.payload = payload\n",
        "\n",
        "    def run(self):\n",
        "        try:\n",
        "            encoded_payload = self.payload.encode()\n",
        "            s = socket.socket(socket.AF_INET, socket.SOCK_STREAM)\n",
        "            s.connect((self.target, self.port))\n",
        "            s.send(b\"GET / HTTP/1.1\\r\\nHost: \" + self.target.encode() + b\"\\r\\n\\r\\n\" + encoded_payload + b\"\\r\\n\\r\\n\")\n",
        "            response = s.recv(4096)\n",
        "            s.close()\n",
        "            print(f\"Exploit sent to port {self.port}, response received:\")\n",
        "            print(response.decode())\n",
        "        except Exception as e:\n",
        "            print(f\"Failed to exploit port {self.port}: {e}\")"
      ],
      "metadata": {
        "id": "I4MHhiTl4fAE"
      },
      "execution_count": 16,
      "outputs": []
    },
    {
      "cell_type": "markdown",
      "source": [
        "# Testing Very Basic Metasploit"
      ],
      "metadata": {
        "id": "mfCyt0CR5dfE"
      }
    },
    {
      "cell_type": "code",
      "source": [
        "def main():\n",
        "    # Step 1: Scan network\n",
        "    scanner = NetworkScanner()\n",
        "    target = 'scanme.nmap.org'\n",
        "    ports = '80'\n",
        "    open_ports = scanner.scan(target, ports)\n",
        "    print(f\"Open ports: {open_ports}\")\n",
        "\n",
        "    # Step 2: Create payload\n",
        "    data = b\"Simple test payload\"\n",
        "    payload = Payload(data)\n",
        "\n",
        "    # Step 3: Exploit target on open ports\n",
        "    for port in open_ports:\n",
        "        exploit = Exploit(target, port, payload)\n",
        "        exploit.run()\n",
        "\n",
        "if __name__ == \"__main__\":\n",
        "    main()"
      ],
      "metadata": {
        "colab": {
          "base_uri": "https://localhost:8080/"
        },
        "id": "0YwPcTGh4mfD",
        "outputId": "d39d832b-a55e-4a3e-9542-44a9ed0fd681"
      },
      "execution_count": 17,
      "outputs": [
        {
          "output_type": "stream",
          "name": "stdout",
          "text": [
            "Open ports: []\n"
          ]
        }
      ]
    }
  ]
}