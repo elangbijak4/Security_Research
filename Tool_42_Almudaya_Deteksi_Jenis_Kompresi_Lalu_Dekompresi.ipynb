{
  "nbformat": 4,
  "nbformat_minor": 0,
  "metadata": {
    "colab": {
      "provenance": [],
      "authorship_tag": "ABX9TyMNM8TaAgpn/U0DFRVur92h",
      "include_colab_link": true
    },
    "kernelspec": {
      "name": "python3",
      "display_name": "Python 3"
    },
    "language_info": {
      "name": "python"
    }
  },
  "cells": [
    {
      "cell_type": "markdown",
      "metadata": {
        "id": "view-in-github",
        "colab_type": "text"
      },
      "source": [
        "<a href=\"https://colab.research.google.com/github/elangbijak4/Security_Research/blob/main/Tool_42_Almudaya_Deteksi_Jenis_Kompresi_Lalu_Dekompresi.ipynb\" target=\"_parent\"><img src=\"https://colab.research.google.com/assets/colab-badge.svg\" alt=\"Open In Colab\"/></a>"
      ]
    },
    {
      "cell_type": "code",
      "source": [
        "!pip install lz4"
      ],
      "metadata": {
        "colab": {
          "base_uri": "https://localhost:8080/"
        },
        "id": "7gaQ2D61J79P",
        "outputId": "4ab2a6a3-69b7-41f2-a404-e4cdcf2c9d72"
      },
      "execution_count": 2,
      "outputs": [
        {
          "output_type": "stream",
          "name": "stdout",
          "text": [
            "Collecting lz4\n",
            "  Downloading lz4-4.3.3-cp310-cp310-manylinux_2_17_x86_64.manylinux2014_x86_64.whl.metadata (3.7 kB)\n",
            "Downloading lz4-4.3.3-cp310-cp310-manylinux_2_17_x86_64.manylinux2014_x86_64.whl (1.3 MB)\n",
            "\u001b[2K   \u001b[90m━━━━━━━━━━━━━━━━━━━━━━━━━━━━━━━━━━━━━━━━\u001b[0m \u001b[32m1.3/1.3 MB\u001b[0m \u001b[31m5.7 MB/s\u001b[0m eta \u001b[36m0:00:00\u001b[0m\n",
            "\u001b[?25hInstalling collected packages: lz4\n",
            "Successfully installed lz4-4.3.3\n"
          ]
        }
      ]
    },
    {
      "cell_type": "code",
      "execution_count": 7,
      "metadata": {
        "colab": {
          "base_uri": "https://localhost:8080/"
        },
        "id": "nfMdOqBYJye-",
        "outputId": "00d007bc-e04d-485a-b353-1bb6db24a504"
      },
      "outputs": [
        {
          "output_type": "stream",
          "name": "stdout",
          "text": [
            "Algoritma Kompresi: lz4\n",
            "Data Terdekompresi: Contoh data untuk kompresi dan dekompresi\n",
            "Algoritma Kompresi: deflate\n",
            "Data Terdekompresi: Contoh data untuk kompresi dan dekompresi\n",
            "Algoritma Kompresi: bz2\n",
            "Data Terdekompresi: Contoh data untuk kompresi dan dekompresi\n"
          ]
        }
      ],
      "source": [
        "import lz4.frame\n",
        "import zlib\n",
        "import bz2\n",
        "\n",
        "def detect_compression(data):\n",
        "    # Cek apakah data terkompresi dengan LZ4\n",
        "    if data[:4] == b'\\x04\\x22\\x4D\\x18':\n",
        "        return \"lz4\"\n",
        "    # Cek apakah data terkompresi dengan zlib (gzip, deflate)\n",
        "    elif data[:2] == b'\\x1f\\x8b':\n",
        "        return \"gzip\"\n",
        "    elif data[:2] == b'\\x78\\x9c':\n",
        "        return \"deflate\"\n",
        "    # Cek apakah data terkompresi dengan bz2\n",
        "    elif data[:3] == b'\\x42\\x5a\\x68':\n",
        "        return \"bz2\"\n",
        "    else:\n",
        "        return \"unknown\"\n",
        "\n",
        "def decompress_data(data, algorithm):\n",
        "    if algorithm == \"lz4\":\n",
        "        return lz4.frame.decompress(data)\n",
        "    elif algorithm == \"gzip\":\n",
        "        return zlib.decompress(data, zlib.MAX_WBITS | 16)\n",
        "    elif algorithm == \"deflate\":\n",
        "        return zlib.decompress(data)\n",
        "    elif algorithm == \"bz2\":\n",
        "        return bz2.decompress(data)\n",
        "    else:\n",
        "        raise ValueError(\"Unknown compression algorithm\")\n",
        "\n",
        "# Contoh data\n",
        "original_data = b\"Contoh data untuk kompresi dan dekompresi\"\n",
        "\n",
        "compressed_data_lz4 = lz4.frame.compress(original_data)\n",
        "compressed_data_gzip = zlib.compress(original_data)\n",
        "compressed_data_bz2 = bz2.compress(original_data)\n",
        "\n",
        "# Menggabungkan data terkompresi dalam satu list\n",
        "data_list = [compressed_data_lz4, compressed_data_gzip, compressed_data_bz2]\n",
        "\n",
        "# Deteksi dan dekompresi setiap data\n",
        "for data in data_list:\n",
        "    algo = detect_compression(data)\n",
        "    if algo != \"unknown\":\n",
        "        decompressed_data = decompress_data(data, algo)\n",
        "        print(f\"Algoritma Kompresi: {algo}\")\n",
        "        print(f\"Data Terdekompresi: {decompressed_data.decode()}\")\n",
        "    else:\n",
        "        print(\"Algoritma kompresi tidak dikenali\")"
      ]
    }
  ]
}