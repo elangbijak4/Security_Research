{
  "nbformat": 4,
  "nbformat_minor": 0,
  "metadata": {
    "colab": {
      "provenance": [],
      "authorship_tag": "ABX9TyPZCtFbSFr8VT5ZnbLhdZiA",
      "include_colab_link": true
    },
    "kernelspec": {
      "name": "python3",
      "display_name": "Python 3"
    },
    "language_info": {
      "name": "python"
    }
  },
  "cells": [
    {
      "cell_type": "markdown",
      "metadata": {
        "id": "view-in-github",
        "colab_type": "text"
      },
      "source": [
        "<a href=\"https://colab.research.google.com/github/elangbijak4/Security_Research/blob/main/Demo_LZ4_Enkoding_Dekoding.ipynb\" target=\"_parent\"><img src=\"https://colab.research.google.com/assets/colab-badge.svg\" alt=\"Open In Colab\"/></a>"
      ]
    },
    {
      "cell_type": "code",
      "source": [
        "!pip install lz4"
      ],
      "metadata": {
        "colab": {
          "base_uri": "https://localhost:8080/"
        },
        "id": "7gaQ2D61J79P",
        "outputId": "4ab2a6a3-69b7-41f2-a404-e4cdcf2c9d72"
      },
      "execution_count": 2,
      "outputs": [
        {
          "output_type": "stream",
          "name": "stdout",
          "text": [
            "Collecting lz4\n",
            "  Downloading lz4-4.3.3-cp310-cp310-manylinux_2_17_x86_64.manylinux2014_x86_64.whl.metadata (3.7 kB)\n",
            "Downloading lz4-4.3.3-cp310-cp310-manylinux_2_17_x86_64.manylinux2014_x86_64.whl (1.3 MB)\n",
            "\u001b[2K   \u001b[90m━━━━━━━━━━━━━━━━━━━━━━━━━━━━━━━━━━━━━━━━\u001b[0m \u001b[32m1.3/1.3 MB\u001b[0m \u001b[31m5.7 MB/s\u001b[0m eta \u001b[36m0:00:00\u001b[0m\n",
            "\u001b[?25hInstalling collected packages: lz4\n",
            "Successfully installed lz4-4.3.3\n"
          ]
        }
      ]
    },
    {
      "cell_type": "code",
      "execution_count": 3,
      "metadata": {
        "colab": {
          "base_uri": "https://localhost:8080/"
        },
        "id": "nfMdOqBYJye-",
        "outputId": "6020b04e-f6ab-4cb9-d3e7-161a7dd707dc"
      },
      "outputs": [
        {
          "output_type": "stream",
          "name": "stdout",
          "text": [
            "Data terkompresi: b'\\x04\"M\\x18h@<\\x00\\x00\\x00\\x00\\x00\\x00\\x003<\\x00\\x00\\x80Ini adalah contoh data yang akan dikompresi menggunakan LZ4.\\x00\\x00\\x00\\x00'\n",
            "Data terdekompresi: Ini adalah contoh data yang akan dikompresi menggunakan LZ4.\n"
          ]
        }
      ],
      "source": [
        "import lz4.frame\n",
        "\n",
        "# Data yang akan dikompresi\n",
        "data = b\"Ini adalah contoh data yang akan dikompresi menggunakan LZ4.\"\n",
        "\n",
        "# Kompresi\n",
        "compressed_data = lz4.frame.compress(data)\n",
        "print(f\"Data terkompresi: {compressed_data}\")\n",
        "\n",
        "# Dekompresi\n",
        "decompressed_data = lz4.frame.decompress(compressed_data)\n",
        "print(f\"Data terdekompresi: {decompressed_data.decode()}\")"
      ]
    }
  ]
}