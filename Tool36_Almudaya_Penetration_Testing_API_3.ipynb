{
  "nbformat": 4,
  "nbformat_minor": 0,
  "metadata": {
    "colab": {
      "provenance": [],
      "authorship_tag": "ABX9TyNyUJxw/LugRuDGDyamxnjy",
      "include_colab_link": true
    },
    "kernelspec": {
      "name": "python3",
      "display_name": "Python 3"
    },
    "language_info": {
      "name": "python"
    }
  },
  "cells": [
    {
      "cell_type": "markdown",
      "metadata": {
        "id": "view-in-github",
        "colab_type": "text"
      },
      "source": [
        "<a href=\"https://colab.research.google.com/github/elangbijak4/Security_Research/blob/main/Tool36_Almudaya_Penetration_Testing_API_3.ipynb\" target=\"_parent\"><img src=\"https://colab.research.google.com/assets/colab-badge.svg\" alt=\"Open In Colab\"/></a>"
      ]
    },
    {
      "cell_type": "markdown",
      "source": [
        "Pengujian Analisis Auto Respon API"
      ],
      "metadata": {
        "id": "cJO4k9rb8q03"
      }
    },
    {
      "cell_type": "code",
      "source": [
        "import requests\n",
        "from requests.exceptions import SSLError, ConnectionError"
      ],
      "metadata": {
        "id": "KFER9N8b3nqw"
      },
      "execution_count": 6,
      "outputs": []
    },
    {
      "cell_type": "code",
      "execution_count": 7,
      "metadata": {
        "colab": {
          "base_uri": "https://localhost:8080/"
        },
        "id": "XMRLjAmy3CKn",
        "outputId": "bec879dc-f893-48b6-bfc3-bcaf6f9cf09d"
      },
      "outputs": [
        {
          "output_type": "stream",
          "name": "stdout",
          "text": [
            "Status Code Test\n",
            "Status Code: 201\n",
            "------\n",
            "Response Structure Test\n",
            "Response is valid JSON.\n",
            "Response structure is valid.\n",
            "------\n",
            "Error Message Test\n",
            "Status Code: 201\n",
            "------\n",
            "Response Headers Test\n",
            "Content-Security-Policy is missing.\n",
            "X-Content-Type-Options is present: nosniff\n",
            "Strict-Transport-Security is missing.\n",
            "X-Frame-Options is missing.\n",
            "------\n",
            "SSL/TLS Test\n",
            "Connection is secure with SSL/TLS.\n",
            "------\n"
          ]
        }
      ],
      "source": [
        "# Menggunakan JSONPlaceholder sebagai contoh\n",
        "base_url = \"https://jsonplaceholder.typicode.com/posts\"\n",
        "\n",
        "# Data untuk pengujian\n",
        "payload = {\n",
        "    \"title\": \"foo\",\n",
        "    \"body\": \"bar\",\n",
        "    \"userId\": 1\n",
        "}\n",
        "\n",
        "# Header untuk permintaan\n",
        "headers = {\n",
        "    \"Content-Type\": \"application/json\"\n",
        "}\n",
        "\n",
        "try:\n",
        "    # Mengirim permintaan POST dan mendapatkan respons\n",
        "    response = requests.post(base_url, json=payload, headers=headers)\n",
        "\n",
        "    # 1. Pengujian Status Kode\n",
        "    print(\"Status Code Test\")\n",
        "    print(\"Status Code:\", response.status_code)\n",
        "    print(\"------\")\n",
        "\n",
        "    # 2. Pengujian Struktur Respons\n",
        "    print(\"Response Structure Test\")\n",
        "    try:\n",
        "        response_json = response.json()\n",
        "        print(\"Response is valid JSON.\")\n",
        "        expected_keys = {\"title\", \"body\", \"userId\", \"id\"}\n",
        "        if expected_keys.issubset(response_json.keys()):\n",
        "            print(\"Response structure is valid.\")\n",
        "        else:\n",
        "            print(\"Response structure is invalid.\")\n",
        "    except ValueError:\n",
        "        print(\"Response is not valid JSON.\")\n",
        "    print(\"------\")\n",
        "\n",
        "    # 3. Pengujian Pesan Kesalahan\n",
        "    print(\"Error Message Test\")\n",
        "    error_response = requests.post(base_url, json={}, headers=headers)\n",
        "    print(\"Status Code:\", error_response.status_code)\n",
        "    if error_response.status_code >= 400:\n",
        "        print(\"Error Message:\", error_response.text)\n",
        "        if \"sensitive\" not in error_response.text:\n",
        "            print(\"Error message does not contain sensitive information.\")\n",
        "        else:\n",
        "            print(\"Error message contains sensitive information.\")\n",
        "    print(\"------\")\n",
        "\n",
        "    # 4. Pengujian Penggunaan Header\n",
        "    print(\"Response Headers Test\")\n",
        "    security_headers = [\"Content-Security-Policy\", \"X-Content-Type-Options\", \"Strict-Transport-Security\", \"X-Frame-Options\"]\n",
        "    for header in security_headers:\n",
        "        if header in response.headers:\n",
        "            print(f\"{header} is present: {response.headers[header]}\")\n",
        "        else:\n",
        "            print(f\"{header} is missing.\")\n",
        "    print(\"------\")\n",
        "\n",
        "    # 5. Pengujian Penggunaan SSL/TLS\n",
        "    print(\"SSL/TLS Test\")\n",
        "    try:\n",
        "        response = requests.get(base_url)\n",
        "        if response.url.startswith(\"https://\"):\n",
        "            print(\"Connection is secure with SSL/TLS.\")\n",
        "        else:\n",
        "            print(\"Connection is not secure.\")\n",
        "    except (SSLError, ConnectionError) as e:\n",
        "        print(f\"SSL/TLS Test failed: {e}\")\n",
        "    print(\"------\")\n",
        "\n",
        "except Exception as e:\n",
        "    print(f\"An error occurred: {e}\")"
      ]
    }
  ]
}