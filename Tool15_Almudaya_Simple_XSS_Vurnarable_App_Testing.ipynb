{
  "nbformat": 4,
  "nbformat_minor": 0,
  "metadata": {
    "colab": {
      "provenance": [],
      "authorship_tag": "ABX9TyNvOIf8rlEtQsRWFOVDJFvm",
      "include_colab_link": true
    },
    "kernelspec": {
      "name": "python3",
      "display_name": "Python 3"
    },
    "language_info": {
      "name": "python"
    }
  },
  "cells": [
    {
      "cell_type": "markdown",
      "metadata": {
        "id": "view-in-github",
        "colab_type": "text"
      },
      "source": [
        "<a href=\"https://colab.research.google.com/github/elangbijak4/Security_Research/blob/main/Tool15_Almudaya_Simple_XSS_Vurnarable_App_Testing.ipynb\" target=\"_parent\"><img src=\"https://colab.research.google.com/assets/colab-badge.svg\" alt=\"Open In Colab\"/></a>"
      ]
    },
    {
      "cell_type": "code",
      "source": [
        "from flask import Flask, request\n",
        "\n",
        "app = Flask(__name__)\n",
        "\n",
        "@app.route('/vulnerable_path')\n",
        "def vulnerable_path():\n",
        "    user_input = request.args.get('input')\n",
        "    return f\"<html><body>User input: {user_input}</body></html>\"\n",
        "\n",
        "if __name__ == \"__main__\":\n",
        "    app.run(host='0.0.0.0', port=80)"
      ],
      "metadata": {
        "id": "D-oeQed6YZ7-"
      },
      "execution_count": null,
      "outputs": []
    }
  ]
}