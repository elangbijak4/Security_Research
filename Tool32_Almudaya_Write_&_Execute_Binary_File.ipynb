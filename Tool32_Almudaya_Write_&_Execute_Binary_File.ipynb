{
  "nbformat": 4,
  "nbformat_minor": 0,
  "metadata": {
    "colab": {
      "provenance": [],
      "authorship_tag": "ABX9TyOS2WAiCYL4ipNOcxdS6gOB",
      "include_colab_link": true
    },
    "kernelspec": {
      "name": "python3",
      "display_name": "Python 3"
    },
    "language_info": {
      "name": "python"
    }
  },
  "cells": [
    {
      "cell_type": "markdown",
      "metadata": {
        "id": "view-in-github",
        "colab_type": "text"
      },
      "source": [
        "<a href=\"https://colab.research.google.com/github/elangbijak4/Security_Research/blob/main/Tool32_Almudaya_Write_%26_Execute_Binary_File.ipynb\" target=\"_parent\"><img src=\"https://colab.research.google.com/assets/colab-badge.svg\" alt=\"Open In Colab\"/></a>"
      ]
    },
    {
      "cell_type": "code",
      "source": [
        "from google.colab import files\n",
        "import subprocess\n",
        "import os"
      ],
      "metadata": {
        "id": "bGDLszk5p9QL"
      },
      "execution_count": 1,
      "outputs": []
    },
    {
      "cell_type": "code",
      "execution_count": 2,
      "metadata": {
        "colab": {
          "base_uri": "https://localhost:8080/"
        },
        "id": "DidS-mZMpym4",
        "outputId": "8794f7f1-fc79-4217-c718-3d80cd6161bf"
      },
      "outputs": [
        {
          "output_type": "stream",
          "name": "stdout",
          "text": [
            "Output:\n",
            "Hello, World!\n",
            "\n",
            "Error:\n",
            "\n"
          ]
        }
      ],
      "source": [
        "# Buat file sumber C\n",
        "code = \"\"\"\n",
        "#include <stdio.h>\n",
        "\n",
        "int main() {\n",
        "    printf(\"Hello, World!\\\\n\");\n",
        "    return 0;\n",
        "}\n",
        "\"\"\"\n",
        "\n",
        "# Tulis ke file hello.c\n",
        "with open(\"hello.c\", \"w\") as file:\n",
        "    file.write(code)\n",
        "\n",
        "# Kompilasi file hello.c menjadi hello\n",
        "!gcc hello.c -o hello\n",
        "\n",
        "# Berikan izin eksekusi\n",
        "os.chmod(\"hello\", 0o755)\n",
        "\n",
        "# Eksekusi file binary\n",
        "result = subprocess.run(['./hello'], stdout=subprocess.PIPE, stderr=subprocess.PIPE, text=True)\n",
        "print(\"Output:\")\n",
        "print(result.stdout)\n",
        "print(\"Error:\")\n",
        "print(result.stderr)"
      ]
    }
  ]
}