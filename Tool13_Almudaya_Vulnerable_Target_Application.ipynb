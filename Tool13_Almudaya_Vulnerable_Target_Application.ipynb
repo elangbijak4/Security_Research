{
  "nbformat": 4,
  "nbformat_minor": 0,
  "metadata": {
    "colab": {
      "provenance": [],
      "gpuType": "T4",
      "authorship_tag": "ABX9TyPcuq5r19WzBjQve5bWUNxZ",
      "include_colab_link": true
    },
    "kernelspec": {
      "name": "python3",
      "display_name": "Python 3"
    },
    "language_info": {
      "name": "python"
    },
    "accelerator": "GPU"
  },
  "cells": [
    {
      "cell_type": "markdown",
      "metadata": {
        "id": "view-in-github",
        "colab_type": "text"
      },
      "source": [
        "<a href=\"https://colab.research.google.com/github/elangbijak4/Security_Research/blob/main/Tool13_Almudaya_Vulnerable_Target_Application.ipynb\" target=\"_parent\"><img src=\"https://colab.research.google.com/assets/colab-badge.svg\" alt=\"Open In Colab\"/></a>"
      ]
    },
    {
      "cell_type": "code",
      "source": [
        "\n",
        "from flask import Flask, request\n",
        "import sqlite3\n",
        "\n",
        "app = Flask(__name__)\n",
        "\n",
        "def init_db():\n",
        "    conn = sqlite3.connect('test.db')\n",
        "    c = conn.cursor()\n",
        "    c.execute('''CREATE TABLE IF NOT EXISTS users (id INTEGER PRIMARY KEY, name TEXT)''')\n",
        "    c.execute('''INSERT INTO users (name) VALUES ('Alice'), ('Bob')''')\n",
        "    conn.commit()\n",
        "    conn.close()\n",
        "\n",
        "@app.route('/vulnerable_path')\n",
        "def vulnerable_path():\n",
        "    user_id = request.args.get('id')\n",
        "    conn = sqlite3.connect('test.db')\n",
        "    c = conn.cursor()\n",
        "    query = \"SELECT * FROM users WHERE id = {}\".format(user_id)\n",
        "    c.execute(query)\n",
        "    result = c.fetchall()\n",
        "    conn.close()\n",
        "    return str(result)\n",
        "\n",
        "if __name__ == \"__main__\":\n",
        "    init_db()\n",
        "    app.run(host='0.0.0.0', port=80)"
      ],
      "metadata": {
        "id": "eOPWPP3SUsV6"
      },
      "execution_count": null,
      "outputs": []
    }
  ]
}