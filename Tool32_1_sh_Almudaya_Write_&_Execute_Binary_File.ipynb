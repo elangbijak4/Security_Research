{
  "nbformat": 4,
  "nbformat_minor": 0,
  "metadata": {
    "colab": {
      "provenance": [],
      "authorship_tag": "ABX9TyN0iGL4Y3q0OU/Izna3pjWK",
      "include_colab_link": true
    },
    "kernelspec": {
      "name": "python3",
      "display_name": "Python 3"
    },
    "language_info": {
      "name": "python"
    }
  },
  "cells": [
    {
      "cell_type": "markdown",
      "metadata": {
        "id": "view-in-github",
        "colab_type": "text"
      },
      "source": [
        "<a href=\"https://colab.research.google.com/github/elangbijak4/Security_Research/blob/main/Tool32_1_sh_Almudaya_Write_%26_Execute_Binary_File.ipynb\" target=\"_parent\"><img src=\"https://colab.research.google.com/assets/colab-badge.svg\" alt=\"Open In Colab\"/></a>"
      ]
    },
    {
      "cell_type": "code",
      "source": [
        "from google.colab import files\n",
        "import subprocess\n",
        "import os"
      ],
      "metadata": {
        "id": "bGDLszk5p9QL"
      },
      "execution_count": 1,
      "outputs": []
    },
    {
      "cell_type": "code",
      "execution_count": 7,
      "metadata": {
        "id": "DidS-mZMpym4"
      },
      "outputs": [],
      "source": [
        "# Buat file skrip shell\n",
        "script = \"\"\"\n",
        "#!/bin/bash\n",
        "echo \"Hello, World from script.sh!\"\n",
        "\"\"\"\n",
        "\n",
        "# Tulis ke file script.sh\n",
        "with open(\"script.sh\", \"w\") as file:\n",
        "    file.write(script)"
      ]
    },
    {
      "cell_type": "code",
      "source": [
        "# Berikan izin eksekusi\n",
        "os.chmod(\"script.sh\", 0o755)\n",
        "\n",
        "# Eksekusi file skrip shell\n",
        "result = subprocess.run(['bash', 'script.sh'], stdout=subprocess.PIPE, stderr=subprocess.PIPE, text=True)\n",
        "print(\"Output:\")\n",
        "print(result.stdout)\n",
        "print(\"Error:\")\n",
        "print(result.stderr)"
      ],
      "metadata": {
        "colab": {
          "base_uri": "https://localhost:8080/"
        },
        "id": "yQJ6_dijrCgK",
        "outputId": "bd72be0c-f1c7-4372-98c1-c4a16b9f2256"
      },
      "execution_count": 8,
      "outputs": [
        {
          "output_type": "stream",
          "name": "stdout",
          "text": [
            "Output:\n",
            "Hello, World from script.sh!\n",
            "\n",
            "Error:\n",
            "\n"
          ]
        }
      ]
    }
  ]
}