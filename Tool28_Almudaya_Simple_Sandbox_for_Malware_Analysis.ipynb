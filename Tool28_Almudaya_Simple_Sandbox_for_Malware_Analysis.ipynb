{
  "nbformat": 4,
  "nbformat_minor": 0,
  "metadata": {
    "colab": {
      "provenance": [],
      "authorship_tag": "ABX9TyPaZtB8+95VgkUfklRH6UJw",
      "include_colab_link": true
    },
    "kernelspec": {
      "name": "python3",
      "display_name": "Python 3"
    },
    "language_info": {
      "name": "python"
    }
  },
  "cells": [
    {
      "cell_type": "markdown",
      "metadata": {
        "id": "view-in-github",
        "colab_type": "text"
      },
      "source": [
        "<a href=\"https://colab.research.google.com/github/elangbijak4/Security_Research/blob/main/Tool28_Almudaya_Simple_Sandbox_for_Malware_Analysis.ipynb\" target=\"_parent\"><img src=\"https://colab.research.google.com/assets/colab-badge.svg\" alt=\"Open In Colab\"/></a>"
      ]
    },
    {
      "cell_type": "code",
      "source": [
        "!pip install pyshark"
      ],
      "metadata": {
        "colab": {
          "base_uri": "https://localhost:8080/"
        },
        "id": "b4kzI3yStpJd",
        "outputId": "ab52708c-5a7d-427b-fd60-7aa68cf16758"
      },
      "execution_count": 2,
      "outputs": [
        {
          "output_type": "stream",
          "name": "stdout",
          "text": [
            "Collecting pyshark\n",
            "  Downloading pyshark-0.6-py3-none-any.whl (41 kB)\n",
            "\u001b[?25l     \u001b[90m━━━━━━━━━━━━━━━━━━━━━━━━━━━━━━━━━━━━━━━━\u001b[0m \u001b[32m0.0/41.4 kB\u001b[0m \u001b[31m?\u001b[0m eta \u001b[36m-:--:--\u001b[0m\r\u001b[2K     \u001b[90m━━━━━━━━━━━━━━━━━━━━━━━━━━━━━━━━━━━━━━━━\u001b[0m \u001b[32m41.4/41.4 kB\u001b[0m \u001b[31m1.5 MB/s\u001b[0m eta \u001b[36m0:00:00\u001b[0m\n",
            "\u001b[?25hRequirement already satisfied: lxml in /usr/local/lib/python3.10/dist-packages (from pyshark) (4.9.4)\n",
            "Requirement already satisfied: termcolor in /usr/local/lib/python3.10/dist-packages (from pyshark) (2.4.0)\n",
            "Requirement already satisfied: packaging in /usr/local/lib/python3.10/dist-packages (from pyshark) (24.1)\n",
            "Collecting appdirs (from pyshark)\n",
            "  Downloading appdirs-1.4.4-py2.py3-none-any.whl (9.6 kB)\n",
            "Installing collected packages: appdirs, pyshark\n",
            "Successfully installed appdirs-1.4.4 pyshark-0.6\n"
          ]
        }
      ]
    },
    {
      "cell_type": "code",
      "source": [
        "!pip install watchdog"
      ],
      "metadata": {
        "colab": {
          "base_uri": "https://localhost:8080/"
        },
        "id": "gWLVvmiEtsq1",
        "outputId": "0ad18916-a204-4fe1-bf2d-0b98651a9d65"
      },
      "execution_count": 3,
      "outputs": [
        {
          "output_type": "stream",
          "name": "stdout",
          "text": [
            "Collecting watchdog\n",
            "  Downloading watchdog-4.0.1-py3-none-manylinux2014_x86_64.whl (83 kB)\n",
            "\u001b[?25l     \u001b[90m━━━━━━━━━━━━━━━━━━━━━━━━━━━━━━━━━━━━━━━━\u001b[0m \u001b[32m0.0/83.0 kB\u001b[0m \u001b[31m?\u001b[0m eta \u001b[36m-:--:--\u001b[0m\r\u001b[2K     \u001b[90m━━━━━━━━━━━━━━━━━━━━━━━━━━━━━━━━━━━━━━━━\u001b[0m \u001b[32m83.0/83.0 kB\u001b[0m \u001b[31m2.7 MB/s\u001b[0m eta \u001b[36m0:00:00\u001b[0m\n",
            "\u001b[?25hInstalling collected packages: watchdog\n",
            "Successfully installed watchdog-4.0.1\n"
          ]
        }
      ]
    },
    {
      "cell_type": "code",
      "source": [
        "!pip install psutil"
      ],
      "metadata": {
        "colab": {
          "base_uri": "https://localhost:8080/"
        },
        "id": "fM7Sj5-ltv0X",
        "outputId": "aa1d2a56-5200-4436-e1fe-0a2ec2964290"
      },
      "execution_count": 4,
      "outputs": [
        {
          "output_type": "stream",
          "name": "stdout",
          "text": [
            "Requirement already satisfied: psutil in /usr/local/lib/python3.10/dist-packages (5.9.5)\n"
          ]
        }
      ]
    },
    {
      "cell_type": "code",
      "source": [
        "import os\n",
        "import subprocess\n",
        "import time\n",
        "import psutil\n",
        "import pyshark\n",
        "from watchdog.observers import Observer\n",
        "from watchdog.events import FileSystemEventHandler\n",
        "from pathlib import Path"
      ],
      "metadata": {
        "id": "FSstl2U8s3FJ"
      },
      "execution_count": 5,
      "outputs": []
    },
    {
      "cell_type": "code",
      "execution_count": 25,
      "metadata": {
        "id": "Ke8fCK1WsvAd"
      },
      "outputs": [],
      "source": [
        "# Direktori dan file\n",
        "MALWARE_DIR = Path(\"malware\")\n",
        "MALWARE_FILE = MALWARE_DIR / \"malware_sample.py\"\n",
        "LOG_FILE = Path(\"logs/sandbox_log.txt\")"
      ]
    },
    {
      "cell_type": "code",
      "source": [
        "# Direktori dan file\n",
        "MALWARE_DIR = \"malware\"\n",
        "MALWARE_FILE = os.path.join(MALWARE_DIR, \"malware_sample.py\")\n",
        "\n",
        "# Konten kode malware sederhana\n",
        "malware_code = \"\"\"\\\n",
        "import os\n",
        "import time\n",
        "\n",
        "def create_file():\n",
        "    with open(\"malware_test.txt\", \"w\") as f:\n",
        "        f.write(\"This is a test file created by malware.\")\n",
        "\n",
        "def modify_file():\n",
        "    with open(\"malware_test.txt\", \"a\") as f:\n",
        "        f.write(\"\\\\nThis line was added by malware.\")\n",
        "\n",
        "def delete_file():\n",
        "    if os.path.exists(\"malware_test.txt\"):\n",
        "        os.remove(\"malware_test.txt\")\n",
        "\n",
        "def main():\n",
        "    create_file()\n",
        "    time.sleep(2)\n",
        "    modify_file()\n",
        "    time.sleep(2)\n",
        "    delete_file()\n",
        "\n",
        "if __name__ == \"__main__\":\n",
        "    main()\n",
        "\"\"\"\n",
        "\n",
        "# Membuat direktori jika belum ada\n",
        "if not os.path.exists(MALWARE_DIR):\n",
        "    os.makedirs(MALWARE_DIR)\n",
        "\n",
        "# Menulis konten kode ke file malware_sample.py\n",
        "with open(MALWARE_FILE, \"w\") as file:\n",
        "    file.write(malware_code)\n",
        "\n",
        "print(f\"File {MALWARE_FILE} telah dibuat.\")"
      ],
      "metadata": {
        "colab": {
          "base_uri": "https://localhost:8080/"
        },
        "id": "d4Fzyit-uhXt",
        "outputId": "3bab1cdb-1559-4a45-d74c-daf0360baf9c"
      },
      "execution_count": 6,
      "outputs": [
        {
          "output_type": "stream",
          "name": "stdout",
          "text": [
            "File malware/malware_sample.py telah dibuat.\n"
          ]
        }
      ]
    },
    {
      "cell_type": "code",
      "source": [
        "# Membuat direktori logs jika belum ada\n",
        "if not os.path.exists(\"logs\"):\n",
        "    os.makedirs(\"logs\")\n",
        "\n",
        "# Membuat file log kosong jika belum ada\n",
        "if not LOG_FILE.exists():\n",
        "    with open(LOG_FILE, \"w\") as f:\n",
        "        pass"
      ],
      "metadata": {
        "id": "ePjZBInjyR0N"
      },
      "execution_count": 26,
      "outputs": []
    },
    {
      "cell_type": "code",
      "source": [
        "# Fungsi untuk mencatat log\n",
        "def log(message):\n",
        "    with open(LOG_FILE, \"a\") as log_file:\n",
        "        log_file.write(f\"{time.ctime()}: {message}\\n\")"
      ],
      "metadata": {
        "id": "5V3Sbi2Hs6x4"
      },
      "execution_count": 8,
      "outputs": []
    },
    {
      "cell_type": "code",
      "source": [
        "# Fungsi untuk memantau proses\n",
        "def monitor_process(proc):\n",
        "    try:\n",
        "        while proc.is_running():\n",
        "            log(f\"Process {proc.pid} is running\")\n",
        "            time.sleep(1)\n",
        "    except psutil.NoSuchProcess:\n",
        "        log(f\"Process {proc.pid} terminated\")\n",
        "    except Exception as e:\n",
        "        log(f\"Error monitoring process: {str(e)}\")"
      ],
      "metadata": {
        "id": "vLhi86iPs8l0"
      },
      "execution_count": 9,
      "outputs": []
    },
    {
      "cell_type": "code",
      "source": [
        "# Handler untuk memantau perubahan sistem file\n",
        "class FileChangeHandler(FileSystemEventHandler):\n",
        "    def on_modified(self, event):\n",
        "        log(f\"File modified: {event.src_path}\")\n",
        "    def on_created(self, event):\n",
        "        log(f\"File created: {event.src_path}\")\n",
        "    def on_deleted(self, event):\n",
        "        log(f\"File deleted: {event.src_path}\")"
      ],
      "metadata": {
        "id": "mrHodyyOs-ko"
      },
      "execution_count": 10,
      "outputs": []
    },
    {
      "cell_type": "code",
      "source": [
        "# Fungsi untuk menjalankan malware dalam sandbox\n",
        "def run_malware():\n",
        "    try:\n",
        "        log(\"Starting malware execution\")\n",
        "        proc = subprocess.Popen([\"python\", MALWARE_FILE], stdout=subprocess.PIPE, stderr=subprocess.PIPE)\n",
        "\n",
        "        # Gunakan psutil untuk memantau proses\n",
        "        ps_proc = psutil.Process(proc.pid)\n",
        "        monitor_process(ps_proc)\n",
        "\n",
        "        stdout, stderr = proc.communicate()\n",
        "        log(f\"Malware output:\\n{stdout.decode()}\\n{stderr.decode()}\")\n",
        "\n",
        "    except Exception as e:\n",
        "        log(f\"Error running malware: {str(e)}\")"
      ],
      "metadata": {
        "id": "ZcKWMoOUtAqJ"
      },
      "execution_count": 11,
      "outputs": []
    },
    {
      "cell_type": "code",
      "source": [
        "# Fungsi untuk menangkap lalu lintas jaringan\n",
        "def capture_network_traffic(duration=60):\n",
        "    capture = pyshark.LiveCapture(interface='eth0')\n",
        "    capture.sniff(timeout=duration)\n",
        "    for packet in capture.sniff_continuously(packet_count=10):\n",
        "        log(f\"Packet captured: {packet}\")"
      ],
      "metadata": {
        "id": "6Tog_eYAtCX3"
      },
      "execution_count": 12,
      "outputs": []
    },
    {
      "cell_type": "code",
      "source": [
        "!apt-get install tshark"
      ],
      "metadata": {
        "id": "iKY6VbHywdUD"
      },
      "execution_count": null,
      "outputs": []
    },
    {
      "cell_type": "code",
      "source": [
        "import asyncio"
      ],
      "metadata": {
        "id": "xgvEmykbw4Lo"
      },
      "execution_count": 16,
      "outputs": []
    },
    {
      "cell_type": "code",
      "source": [
        "async def capture_network_traffic_async(duration=60):\n",
        "    capture = pyshark.LiveCapture(interface='eth0')\n",
        "    await capture.sniff(timeout=duration)\n",
        "    async for packet in capture.sniff_continuously(packet_count=10):\n",
        "        log(f\"Packet captured: {packet}\")"
      ],
      "metadata": {
        "id": "Ssd1UW5HxW_Z"
      },
      "execution_count": 20,
      "outputs": []
    },
    {
      "source": [
        "import asyncio\n",
        "\n",
        "async def capture_network_traffic_async(duration=60): # Define the function first\n",
        "    capture = pyshark.LiveCapture(interface='eth0')\n",
        "    await capture.sniff(timeout=duration)\n",
        "    async for packet in capture.sniff_continuously(packet_count=10):\n",
        "        log(f\"Packet captured: {packet}\")\n",
        "\n",
        "if __name__ == \"__main__\":\n",
        "    # Memulai pemantauan sistem file\n",
        "    event_handler = FileChangeHandler()\n",
        "    observer = Observer()\n",
        "    observer.schedule(event_handler, path=MALWARE_DIR, recursive=True)\n",
        "    observer.start()\n",
        "\n",
        "    # Use asyncio.create_task to schedule the coroutine within the existing loop\n",
        "    asyncio.create_task(capture_network_traffic_async())\n",
        "\n",
        "    # Menjalankan malware\n",
        "    run_malware()\n",
        "\n",
        "    # Menghentikan pemantauan sistem file\n",
        "    observer.stop()\n",
        "    observer.join()\n",
        "\n",
        "    log(\"Sandbox completed\")"
      ],
      "cell_type": "code",
      "metadata": {
        "id": "UGRQ7PU7xnHQ"
      },
      "execution_count": null,
      "outputs": []
    }
  ]
}