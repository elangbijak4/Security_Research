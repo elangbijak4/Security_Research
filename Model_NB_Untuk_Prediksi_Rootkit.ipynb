{
  "nbformat": 4,
  "nbformat_minor": 0,
  "metadata": {
    "colab": {
      "provenance": [],
      "authorship_tag": "ABX9TyMC8Fk3gHSw0/HAHMBD+WYy",
      "include_colab_link": true
    },
    "kernelspec": {
      "name": "python3",
      "display_name": "Python 3"
    },
    "language_info": {
      "name": "python"
    }
  },
  "cells": [
    {
      "cell_type": "markdown",
      "metadata": {
        "id": "view-in-github",
        "colab_type": "text"
      },
      "source": [
        "<a href=\"https://colab.research.google.com/github/elangbijak4/Security_Research/blob/main/Model_NB_Untuk_Prediksi_Rootkit.ipynb\" target=\"_parent\"><img src=\"https://colab.research.google.com/assets/colab-badge.svg\" alt=\"Open In Colab\"/></a>"
      ]
    },
    {
      "cell_type": "code",
      "execution_count": 1,
      "metadata": {
        "colab": {
          "base_uri": "https://localhost:8080/"
        },
        "id": "fDVmVO1cWgQ8",
        "outputId": "6520584d-f22d-4552-ce21-af42008d28a9"
      },
      "outputs": [
        {
          "output_type": "stream",
          "name": "stdout",
          "text": [
            "Akurasi: 1.0\n"
          ]
        }
      ],
      "source": [
        "import pandas as pd\n",
        "from sklearn.model_selection import train_test_split\n",
        "from sklearn.naive_bayes import GaussianNB\n",
        "from sklearn.metrics import accuracy_score\n",
        "\n",
        "# Dataset contoh\n",
        "data = {\n",
        "    'hidden_processes': [1, 0, 1, 0, 0, 1, 1, 0],\n",
        "    'suspicious_modules': [1, 0, 0, 0, 1, 1, 0, 0],\n",
        "    'suspicious_connections': [0, 0, 1, 0, 1, 0, 0, 1],\n",
        "    'system_integrity_issues': [1, 0, 1, 0, 1, 1, 0, 0],\n",
        "    'rootkit_present': [1, 0, 1, 0, 1, 1, 0, 1]\n",
        "}\n",
        "\n",
        "df = pd.DataFrame(data)\n",
        "\n",
        "# Memisahkan fitur dan label\n",
        "X = df[['hidden_processes', 'suspicious_modules', 'suspicious_connections', 'system_integrity_issues']]\n",
        "y = df['rootkit_present']\n",
        "\n",
        "# Membagi dataset menjadi data latih dan data uji\n",
        "X_train, X_test, y_train, y_test = train_test_split(X, y, test_size=0.2, random_state=42)\n",
        "\n",
        "# Melatih model Naive Bayes\n",
        "model = GaussianNB()\n",
        "model.fit(X_train, y_train)\n",
        "\n",
        "# Memprediksi hasil pada data uji\n",
        "y_pred = model.predict(X_test)\n",
        "print(f'Akurasi: {accuracy_score(y_test, y_pred)}')"
      ]
    }
  ]
}