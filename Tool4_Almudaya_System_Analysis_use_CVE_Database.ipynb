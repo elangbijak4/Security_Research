{
  "nbformat": 4,
  "nbformat_minor": 0,
  "metadata": {
    "colab": {
      "provenance": [],
      "authorship_tag": "ABX9TyM6wyQNj0BRJ3M1v5MkBhRK",
      "include_colab_link": true
    },
    "kernelspec": {
      "name": "python3",
      "display_name": "Python 3"
    },
    "language_info": {
      "name": "python"
    }
  },
  "cells": [
    {
      "cell_type": "markdown",
      "metadata": {
        "id": "view-in-github",
        "colab_type": "text"
      },
      "source": [
        "<a href=\"https://colab.research.google.com/github/elangbijak4/Security_Research/blob/main/Tool4_Almudaya_System_Analysis_use_CVE_Database.ipynb\" target=\"_parent\"><img src=\"https://colab.research.google.com/assets/colab-badge.svg\" alt=\"Open In Colab\"/></a>"
      ]
    },
    {
      "cell_type": "code",
      "source": [
        "import requests\n",
        "import json"
      ],
      "metadata": {
        "id": "8LIUWw_XrNt2"
      },
      "execution_count": 1,
      "outputs": []
    },
    {
      "cell_type": "code",
      "source": [
        "def get_cve_details(cve_id):\n",
        "    url = f\"https://cve.circl.lu/api/cve/{cve_id}\"\n",
        "    response = requests.get(url)\n",
        "    if response.status_code == 200:\n",
        "        return response.json()\n",
        "    else:\n",
        "        print(f\"Gagal mengambil data CVE. Status kode: {response.status_code}\")\n",
        "        return None\n",
        "\n",
        "def analyze_system_for_cve(system_info, cve_data):\n",
        "    # Contoh sistem info: {'software': {'name': 'Apache', 'version': '2.4.49'}}\n",
        "    affected_versions = cve_data.get('vulnerable_product', [])\n",
        "\n",
        "    for product in affected_versions:\n",
        "        if system_info['software']['name'].lower() in product.lower():\n",
        "            # Extract version info from product string\n",
        "            version_info = product.split(':')\n",
        "            if len(version_info) > 4 and system_info['software']['version'] == version_info[4]:\n",
        "                print(\"Sistem ini terpengaruh oleh kerentanan CVE ini.\")\n",
        "                return True\n",
        "    print(\"Sistem ini tidak terpengaruh oleh kerentanan CVE ini.\")\n",
        "    return False\n",
        "\n",
        "cve_id = \"CVE-2021-44228\"\n",
        "system_info = {'software': {'name': 'Apache', 'version': '2.4.49'}}\n",
        "\n",
        "cve_data = get_cve_details(cve_id)\n",
        "if cve_data:\n",
        "    analyze_system_for_cve(system_info, cve_data)\n",
        "    print(f\"ID CVE: {cve_data.get('id')}\")\n",
        "    print(f\"Deskripsi: {cve_data.get('summary')}\")\n",
        "    print(f\"Tanggal Diumumkan: {cve_data.get('Published')}\")\n",
        "    print(f\"Skor CVSS: {cve_data.get('cvss')}\")\n",
        "    print(f\"Kritisitas: {cve_data.get('cvss-vector')}\")\n",
        "    print(\"\\nReferensi:\")\n",
        "    for reference in cve_data.get('references', []):\n",
        "        print(f\"- {reference}\")"
      ],
      "metadata": {
        "colab": {
          "base_uri": "https://localhost:8080/"
        },
        "id": "BSJJU8SYsoIm",
        "outputId": "38ddf062-7cfb-4752-c583-2e657644ab39"
      },
      "execution_count": 4,
      "outputs": [
        {
          "output_type": "stream",
          "name": "stdout",
          "text": [
            "Gagal mengambil data CVE. Status kode: 502\n"
          ]
        }
      ]
    }
  ]
}