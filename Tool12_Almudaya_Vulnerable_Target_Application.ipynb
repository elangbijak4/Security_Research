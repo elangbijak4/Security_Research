{
  "nbformat": 4,
  "nbformat_minor": 0,
  "metadata": {
    "colab": {
      "provenance": [],
      "authorship_tag": "ABX9TyPL30BpDhEFJLH+PL6qKYBB",
      "include_colab_link": true
    },
    "kernelspec": {
      "name": "python3",
      "display_name": "Python 3"
    },
    "language_info": {
      "name": "python"
    }
  },
  "cells": [
    {
      "cell_type": "markdown",
      "metadata": {
        "id": "view-in-github",
        "colab_type": "text"
      },
      "source": [
        "<a href=\"https://colab.research.google.com/github/elangbijak4/Security_Research/blob/main/Tool12_Almudaya_Vulnerable_Target_Application.ipynb\" target=\"_parent\"><img src=\"https://colab.research.google.com/assets/colab-badge.svg\" alt=\"Open In Colab\"/></a>"
      ]
    },
    {
      "cell_type": "markdown",
      "source": [
        "Vulnerablity: Tidak membatasi jumlah ukuran paket yang diterima"
      ],
      "metadata": {
        "id": "OCHu2rLtRdBk"
      }
    },
    {
      "cell_type": "code",
      "source": [
        "import socket\n",
        "\n",
        "def vulnerable_server():\n",
        "    server = socket.socket(socket.AF_INET, socket.SOCK_STREAM)\n",
        "    server.bind(('0.0.0.0', 9999))\n",
        "    server.listen(5)\n",
        "    print(\"Server listening on port 9999\")\n",
        "    while True:\n",
        "        client, addr = server.accept()\n",
        "        print(f\"Connection from {addr}\")\n",
        "        data = client.recv(1024)\n",
        "        print(f\"Received: {data}\")\n",
        "        client.close()\n",
        "\n",
        "if __name__ == \"__main__\":\n",
        "    vulnerable_server()"
      ],
      "metadata": {
        "id": "VeEFgEYPRDuU"
      },
      "execution_count": null,
      "outputs": []
    }
  ]
}