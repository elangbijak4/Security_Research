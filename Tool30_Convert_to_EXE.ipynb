{
  "nbformat": 4,
  "nbformat_minor": 0,
  "metadata": {
    "colab": {
      "provenance": [],
      "authorship_tag": "ABX9TyNxftC6WqWamyaJef1JOcsd",
      "include_colab_link": true
    },
    "kernelspec": {
      "name": "python3",
      "display_name": "Python 3"
    },
    "language_info": {
      "name": "python"
    }
  },
  "cells": [
    {
      "cell_type": "markdown",
      "metadata": {
        "id": "view-in-github",
        "colab_type": "text"
      },
      "source": [
        "<a href=\"https://colab.research.google.com/github/elangbijak4/Security_Research/blob/main/Tool30_Convert_to_EXE.ipynb\" target=\"_parent\"><img src=\"https://colab.research.google.com/assets/colab-badge.svg\" alt=\"Open In Colab\"/></a>"
      ]
    },
    {
      "cell_type": "code",
      "source": [
        "!pip install pyinstaller"
      ],
      "metadata": {
        "colab": {
          "base_uri": "https://localhost:8080/"
        },
        "id": "XZUgugdmgbwq",
        "outputId": "b12a2a84-3f18-4dc6-d84b-fcef2921915e"
      },
      "execution_count": 1,
      "outputs": [
        {
          "output_type": "stream",
          "name": "stdout",
          "text": [
            "Collecting pyinstaller\n",
            "  Downloading pyinstaller-6.9.0-py3-none-manylinux2014_x86_64.whl (684 kB)\n",
            "\u001b[2K     \u001b[90m━━━━━━━━━━━━━━━━━━━━━━━━━━━━━━━━━━━━━━━━\u001b[0m \u001b[32m685.0/685.0 kB\u001b[0m \u001b[31m8.0 MB/s\u001b[0m eta \u001b[36m0:00:00\u001b[0m\n",
            "\u001b[?25hRequirement already satisfied: setuptools>=42.0.0 in /usr/local/lib/python3.10/dist-packages (from pyinstaller) (67.7.2)\n",
            "Collecting altgraph (from pyinstaller)\n",
            "  Downloading altgraph-0.17.4-py2.py3-none-any.whl (21 kB)\n",
            "Collecting pyinstaller-hooks-contrib>=2024.7 (from pyinstaller)\n",
            "  Downloading pyinstaller_hooks_contrib-2024.7-py2.py3-none-any.whl (341 kB)\n",
            "\u001b[2K     \u001b[90m━━━━━━━━━━━━━━━━━━━━━━━━━━━━━━━━━━━━━━━━\u001b[0m \u001b[32m341.3/341.3 kB\u001b[0m \u001b[31m22.4 MB/s\u001b[0m eta \u001b[36m0:00:00\u001b[0m\n",
            "\u001b[?25hRequirement already satisfied: packaging>=22.0 in /usr/local/lib/python3.10/dist-packages (from pyinstaller) (24.1)\n",
            "Installing collected packages: altgraph, pyinstaller-hooks-contrib, pyinstaller\n",
            "Successfully installed altgraph-0.17.4 pyinstaller-6.9.0 pyinstaller-hooks-contrib-2024.7\n"
          ]
        }
      ]
    },
    {
      "cell_type": "code",
      "source": [
        "import os\n",
        "import sys\n",
        "import subprocess\n",
        "import PyInstaller"
      ],
      "metadata": {
        "id": "KrdGMDhbgibt"
      },
      "execution_count": 2,
      "outputs": []
    },
    {
      "cell_type": "markdown",
      "source": [
        "script.py"
      ],
      "metadata": {
        "id": "kD-eD35WCG-l"
      }
    },
    {
      "source": [
        "from IPython.display import display, HTML\n",
        "\n",
        "def main():\n",
        "    # Menampilkan pesan \"Hello World\" di Google Colab\n",
        "    display(HTML('<h1>Hello World</h1>'))\n",
        "\n",
        "if __name__ == \"__main__\":\n",
        "    main()"
      ],
      "cell_type": "code",
      "metadata": {
        "colab": {
          "base_uri": "https://localhost:8080/",
          "height": 74
        },
        "id": "KYt16-D9C1vj",
        "outputId": "1a63fc16-ea75-481b-822b-250c3a8f6b32"
      },
      "execution_count": 8,
      "outputs": [
        {
          "output_type": "display_data",
          "data": {
            "text/plain": [
              "<IPython.core.display.HTML object>"
            ],
            "text/html": [
              "<h1>Hello World</h1>"
            ]
          },
          "metadata": {}
        }
      ]
    },
    {
      "cell_type": "markdown",
      "source": [
        "Buat contoh skrip python untuk dikonversi ke file binary"
      ],
      "metadata": {
        "id": "9snV5lhvisbl"
      }
    },
    {
      "cell_type": "code",
      "source": [
        "def write_script_to_file(folder_path):\n",
        "    # Konten script.py\n",
        "    script_content = \"\"\"from IPython.display import display, HTML\n",
        "\n",
        "def main():\n",
        "    # Menampilkan pesan \"Hello World\" di Google Colab\n",
        "    display(HTML('<h1>Hello World</h1>'))\n",
        "\n",
        "if __name__ == \"__main__\":\n",
        "    main()\n",
        "\"\"\"\n",
        "\n",
        "    # Path lengkap ke file script.py\n",
        "    file_path = os.path.join(folder_path, 'script.py')\n",
        "\n",
        "    # Menulis konten script.py ke file\n",
        "    with open(file_path, 'w') as file:\n",
        "        file.write(script_content)\n",
        "\n",
        "    print(f\"File script.py berhasil ditulis ke {file_path}\")\n",
        "\n",
        "# Path folder yang diinginkan, sesuaikan dengan folder tujuan Anda\n",
        "folder_path = '/content'  # Ganti dengan path folder yang diinginkan\n",
        "\n",
        "# Pastikan folder_path ada, jika tidak buatlah\n",
        "if not os.path.exists(folder_path):\n",
        "    os.makedirs(folder_path)\n",
        "\n",
        "# Menulis script.py ke folder yang ditentukan\n",
        "write_script_to_file(folder_path)"
      ],
      "metadata": {
        "colab": {
          "base_uri": "https://localhost:8080/"
        },
        "id": "XjtFeX8xio_H",
        "outputId": "fed900ec-ac38-4e2d-8e44-92302d60e622"
      },
      "execution_count": 9,
      "outputs": [
        {
          "output_type": "stream",
          "name": "stdout",
          "text": [
            "File script.py berhasil ditulis ke /content/script.py\n"
          ]
        }
      ]
    },
    {
      "cell_type": "code",
      "source": [
        "def compile_to_exe(script_path):\n",
        "    try:\n",
        "        # Memeriksa apakah PyInstaller sudah terinstal\n",
        "        subprocess.check_call([sys.executable, '-m', 'pip', 'install', 'pyinstaller'])\n",
        "\n",
        "        # Menjalankan PyInstaller untuk mengkonversi script ke EXE\n",
        "        subprocess.check_call([sys.executable, '-m', 'PyInstaller', '--onefile --debug=all', script_path])\n",
        "\n",
        "        # Menentukan path file EXE yang dihasilkan\n",
        "        script_name = os.path.splitext(os.path.basename(script_path))[0]\n",
        "        exe_path = os.path.join('dist', script_name + '.exe')\n",
        "\n",
        "        if os.path.exists(exe_path):\n",
        "            print(f\"File EXE berhasil dibuat: {exe_path}\")\n",
        "        else:\n",
        "            print(\"Gagal membuat file EXE.\")\n",
        "    except subprocess.CalledProcessError as e:\n",
        "        print(f\"Terjadi kesalahan saat menjalankan PyInstaller: {e}\")\n",
        "        print(\"Periksa log kesalahan PyInstaller untuk informasi lebih lanjut.\")\n",
        "\n",
        "if __name__ == \"__main__\":\n",
        "    # Path folder yang diinginkan, sesuaikan dengan folder tujuan Anda\n",
        "    folder_path = '/content'  # Ganti dengan path folder yang diinginkan\n",
        "\n",
        "    # Pastikan folder_path ada, jika tidak buatlah\n",
        "    if not os.path.exists(folder_path):\n",
        "        os.makedirs(folder_path)\n",
        "\n",
        "    # Menulis script.py ke folder yang ditentukan\n",
        "    write_script_to_file(folder_path)\n",
        "\n",
        "    # Path lengkap ke file script.py\n",
        "    script_path = os.path.join(folder_path, 'script.py')\n",
        "\n",
        "    # Mengkonversi script.py menjadi file EXE\n",
        "    compile_to_exe(script_path)"
      ],
      "metadata": {
        "colab": {
          "base_uri": "https://localhost:8080/"
        },
        "id": "KWSs93NOkD0d",
        "outputId": "c25d6f49-8ddb-4d4a-c079-6db798822516"
      },
      "execution_count": 12,
      "outputs": [
        {
          "output_type": "stream",
          "name": "stdout",
          "text": [
            "File script.py berhasil ditulis ke /content/script.py\n",
            "Terjadi kesalahan saat menjalankan PyInstaller: Command '['/usr/bin/python3', '-m', 'PyInstaller', '--onefile --debug=all', '/content/script.py']' returned non-zero exit status 1.\n",
            "Periksa log kesalahan PyInstaller untuk informasi lebih lanjut.\n"
          ]
        }
      ]
    }
  ]
}