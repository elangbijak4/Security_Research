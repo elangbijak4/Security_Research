{
  "nbformat": 4,
  "nbformat_minor": 0,
  "metadata": {
    "colab": {
      "provenance": [],
      "authorship_tag": "ABX9TyPvTrLl+rckV1S3F3V4KrWu",
      "include_colab_link": true
    },
    "kernelspec": {
      "name": "python3",
      "display_name": "Python 3"
    },
    "language_info": {
      "name": "python"
    }
  },
  "cells": [
    {
      "cell_type": "markdown",
      "metadata": {
        "id": "view-in-github",
        "colab_type": "text"
      },
      "source": [
        "<a href=\"https://colab.research.google.com/github/elangbijak4/Security_Research/blob/main/Tool1_Almudaya_Binary_File_Analysis.ipynb\" target=\"_parent\"><img src=\"https://colab.research.google.com/assets/colab-badge.svg\" alt=\"Open In Colab\"/></a>"
      ]
    },
    {
      "cell_type": "markdown",
      "source": [
        "Status: Evaluasi dan Perbaikan belum dilakukan"
      ],
      "metadata": {
        "id": "UABF6oRFnXOH"
      }
    },
    {
      "cell_type": "code",
      "execution_count": null,
      "metadata": {
        "id": "sDCEBzDknB2-"
      },
      "outputs": [],
      "source": [
        "import os\n",
        "import subprocess\n",
        "\n",
        "# Function to check if the file is an ELF binary\n",
        "def is_elf(file_path):\n",
        "    try:\n",
        "        with open(file_path, 'rb') as f:\n",
        "            return f.read(4) == b'\\x7fELF'\n",
        "    except Exception as e:\n",
        "        print(f\"Error reading file: {e}\")\n",
        "        return False\n",
        "\n",
        "# Function to check for the presence of a symbol table\n",
        "def check_symbol_table(file_path):\n",
        "    try:\n",
        "        result = subprocess.run(['readelf', '-s', file_path], capture_output=True, text=True)\n",
        "        if 'No symbols' in result.stdout:\n",
        "            return False\n",
        "        return True\n",
        "    except Exception as e:\n",
        "        print(f\"Error running readelf: {e}\")\n",
        "        return False\n",
        "\n",
        "# Function to check for stack canaries\n",
        "def check_stack_canaries(file_path):\n",
        "    try:\n",
        "        result = subprocess.run(['readelf', '-s', file_path], capture_output=True, text=True)\n",
        "        if '__stack_chk_fail' in result.stdout:\n",
        "            return True\n",
        "        return False\n",
        "    except Exception as e:\n",
        "        print(f\"Error running readelf: {e}\")\n",
        "        return False\n",
        "\n",
        "# Function to check for ASLR support\n",
        "def check_aslr(file_path):\n",
        "    try:\n",
        "        result = subprocess.run(['readelf', '-l', file_path], capture_output=True, text=True)\n",
        "        if 'GNU_RELRO' in result.stdout:\n",
        "            return True\n",
        "        return False\n",
        "    except Exception as e:\n",
        "        print(f\"Error running readelf: {e}\")\n",
        "        return False\n",
        "\n",
        "# Function to print analysis result\n",
        "def analyze_binary(file_path):\n",
        "    if not os.path.isfile(file_path):\n",
        "        print(\"File does not exist.\")\n",
        "        return\n",
        "\n",
        "    if not is_elf(file_path):\n",
        "        print(\"File is not an ELF binary.\")\n",
        "        return\n",
        "\n",
        "    print(f\"Analyzing binary: {file_path}\")\n",
        "\n",
        "    has_symbols = check_symbol_table(file_path)\n",
        "    has_canaries = check_stack_canaries(file_path)\n",
        "    supports_aslr = check_aslr(file_path)\n",
        "\n",
        "    print(f\"Symbol Table Present: {'Yes' if has_symbols else 'No'}\")\n",
        "    print(f\"Stack Canaries Present: {'Yes' if has_canaries else 'No'}\")\n",
        "    print(f\"ASLR Supported: {'Yes' if supports_aslr else 'No'}\")\n",
        "\n",
        "# Example usage:\n",
        "binary_path = \"/path/to/your/binary\"\n",
        "analyze_binary(binary_path)"
      ]
    }
  ]
}