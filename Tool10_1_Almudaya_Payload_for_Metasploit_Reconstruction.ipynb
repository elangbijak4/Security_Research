{
  "nbformat": 4,
  "nbformat_minor": 0,
  "metadata": {
    "colab": {
      "provenance": [],
      "authorship_tag": "ABX9TyMTbn18ZNWBY5ZafMfGV5gm",
      "include_colab_link": true
    },
    "kernelspec": {
      "name": "python3",
      "display_name": "Python 3"
    },
    "language_info": {
      "name": "python"
    }
  },
  "cells": [
    {
      "cell_type": "markdown",
      "metadata": {
        "id": "view-in-github",
        "colab_type": "text"
      },
      "source": [
        "<a href=\"https://colab.research.google.com/github/elangbijak4/Security_Research/blob/main/Tool10_1_Almudaya_Payload_for_Metasploit_Reconstruction.ipynb\" target=\"_parent\"><img src=\"https://colab.research.google.com/assets/colab-badge.svg\" alt=\"Open In Colab\"/></a>"
      ]
    },
    {
      "cell_type": "code",
      "execution_count": 5,
      "metadata": {
        "colab": {
          "base_uri": "https://localhost:8080/"
        },
        "id": "2wFzsYB-0EKg",
        "outputId": "c0d46cef-2086-455e-efc5-b656357da1cf"
      },
      "outputs": [
        {
          "output_type": "stream",
          "name": "stdout",
          "text": [
            "Encoded payload: b'kJCQkA=='\n"
          ]
        }
      ],
      "source": [
        "import base64\n",
        "\n",
        "class Payload:\n",
        "    def __init__(self, shellcode):\n",
        "        self.shellcode = shellcode\n",
        "\n",
        "    def encode(self):\n",
        "        return base64.b64encode(self.shellcode)\n",
        "\n",
        "if __name__ == \"__main__\":\n",
        "    shellcode = b\"\\x90\\x90\\x90\\x90\"\n",
        "    payload = Payload(shellcode)\n",
        "    encoded_payload = payload.encode()\n",
        "    print(f\"Encoded payload: {encoded_payload}\")"
      ]
    },
    {
      "source": [
        "import base64\n",
        "\n",
        "class Payload:\n",
        "    def __init__(self, shellcode):\n",
        "        self.shellcode = shellcode\n",
        "\n",
        "    def encode(self):\n",
        "        return base64.b64encode(self.shellcode)\n",
        "\n",
        "if __name__ == \"__main__\":\n",
        "    shellcode = b\"\\x90\\x90\\x90\\x90\"\n",
        "    payload = Payload(shellcode)\n",
        "    encoded_payload = payload.encode()\n",
        "    print(f\"Encoded payload: {encoded_payload}\")\n",
        "    decoded_payload = base64.b64decode(encoded_payload)\n",
        "    print(f\"Decoded payload: {decoded_payload}\")\n",
        "    # Represent the decoded payload in hexadecimal format instead of trying to decode it as a string\n",
        "    print(f\"Decoded payload as hex: {decoded_payload.hex()}\")"
      ],
      "cell_type": "code",
      "metadata": {
        "colab": {
          "base_uri": "https://localhost:8080/"
        },
        "id": "I8nuamrN2_to",
        "outputId": "c26f2b47-6e14-4fa1-c916-03f726fd5f82"
      },
      "execution_count": 6,
      "outputs": [
        {
          "output_type": "stream",
          "name": "stdout",
          "text": [
            "Encoded payload: b'kJCQkA=='\n",
            "Decoded payload: b'\\x90\\x90\\x90\\x90'\n",
            "Decoded payload as hex: 90909090\n"
          ]
        }
      ]
    }
  ]
}