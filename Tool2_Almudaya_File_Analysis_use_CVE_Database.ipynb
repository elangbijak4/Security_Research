{
  "nbformat": 4,
  "nbformat_minor": 0,
  "metadata": {
    "colab": {
      "provenance": [],
      "authorship_tag": "ABX9TyNZw2rFb++Q4Vl6F9AX3hkH",
      "include_colab_link": true
    },
    "kernelspec": {
      "name": "python3",
      "display_name": "Python 3"
    },
    "language_info": {
      "name": "python"
    }
  },
  "cells": [
    {
      "cell_type": "markdown",
      "metadata": {
        "id": "view-in-github",
        "colab_type": "text"
      },
      "source": [
        "<a href=\"https://colab.research.google.com/github/elangbijak4/Security_Research/blob/main/Tool2_Almudaya_File_Analysis_use_CVE_Database.ipynb\" target=\"_parent\"><img src=\"https://colab.research.google.com/assets/colab-badge.svg\" alt=\"Open In Colab\"/></a>"
      ]
    },
    {
      "cell_type": "code",
      "source": [
        "\n",
        "import requests\n",
        "import json\n",
        "import os\n",
        "from datetime import datetime"
      ],
      "metadata": {
        "id": "8LIUWw_XrNt2"
      },
      "execution_count": 1,
      "outputs": []
    },
    {
      "cell_type": "code",
      "execution_count": 3,
      "metadata": {
        "colab": {
          "base_uri": "https://localhost:8080/"
        },
        "id": "FRFDM6wOrGBU",
        "outputId": "1427c2b0-b285-48e0-af62-9c58ee514b13"
      },
      "outputs": [
        {
          "output_type": "stream",
          "name": "stdout",
          "text": [
            "{'file_name': 'pariwisata 39.csv', 'file_size': 15256, 'file_extension': '.csv', 'creation_date': '2024'}\n",
            "Gagal mengambil data CVE untuk csv. Status kode: 404\n",
            "Gagal mengambil data CVE untuk 2024. Status kode: 404\n",
            "Tidak ditemukan CVE yang relevan dengan file ini.\n"
          ]
        }
      ],
      "source": [
        "def generate_file_profile(file_path):\n",
        "    file_profile = {}\n",
        "    file_profile['file_name'] = os.path.basename(file_path)\n",
        "    file_profile['file_size'] = os.path.getsize(file_path)\n",
        "    file_profile['file_extension'] = os.path.splitext(file_path)[1]\n",
        "    file_profile['creation_date'] = datetime.fromtimestamp(os.path.getctime(file_path)).strftime('%Y')\n",
        "    return file_profile\n",
        "\n",
        "def get_cve_by_attributes(attributes):\n",
        "    cve_list = []\n",
        "    url = \"https://cve.circl.lu/api/search/{keyword}\"\n",
        "    keywords = [attributes['file_extension'][1:], attributes['creation_date']]\n",
        "\n",
        "    for keyword in keywords:\n",
        "        response = requests.get(url.format(keyword=keyword))\n",
        "        if response.status_code == 200:\n",
        "            cve_data = response.json()\n",
        "            cve_list.extend(cve_data)\n",
        "        else:\n",
        "            print(f\"Gagal mengambil data CVE untuk {keyword}. Status kode: {response.status_code}\")\n",
        "\n",
        "    return cve_list\n",
        "\n",
        "def analyze_file_against_cve(file_profile, cve_list):\n",
        "    relevant_cves = []\n",
        "    for cve in cve_list:\n",
        "        if file_profile['file_extension'][1:] in cve['summary'] and file_profile['creation_date'] in cve['Published']:\n",
        "            relevant_cves.append(cve)\n",
        "\n",
        "    return relevant_cves\n",
        "\n",
        "def display_cve_analysis(relevant_cves):\n",
        "    if not relevant_cves:\n",
        "        print(\"Tidak ditemukan CVE yang relevan dengan file ini.\")\n",
        "    else:\n",
        "        for cve in relevant_cves:\n",
        "            print(f\"\\nID CVE: {cve.get('id')}\")\n",
        "            print(f\"Deskripsi: {cve.get('summary')}\")\n",
        "            print(f\"Tanggal Diumumkan: {cve.get('Published')}\")\n",
        "            print(f\"Skor CVSS: {cve.get('cvss')}\")\n",
        "            print(f\"Kritisitas: {cve.get('cvss-vector')}\")\n",
        "            print(\"\\nReferensi:\")\n",
        "            for reference in cve.get('references', []):\n",
        "                print(f\"- {reference}\")\n",
        "\n",
        "# Contoh penggunaan\n",
        "file_path = \"/content/pariwisata 39.csv\"  # Ganti dengan path file yang diupload\n",
        "file_profile = generate_file_profile(file_path)\n",
        "print(file_profile)\n",
        "\n",
        "cve_list = get_cve_by_attributes(file_profile)\n",
        "relevant_cves = analyze_file_against_cve(file_profile, cve_list)\n",
        "display_cve_analysis(relevant_cves)"
      ]
    }
  ]
}